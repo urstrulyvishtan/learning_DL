{
  "cells": [
    {
      "cell_type": "markdown",
      "metadata": {
        "colab_type": "text",
        "id": "view-in-github"
      },
      "source": [
        "<a href=\"https://colab.research.google.com/github/udlbook/udlbook/blob/main/Notebooks/Chap10/10_5_Convolution_For_MNIST.ipynb\" target=\"_parent\"><img src=\"https://colab.research.google.com/assets/colab-badge.svg\" alt=\"Open In Colab\"/></a>"
      ]
    },
    {
      "cell_type": "markdown",
      "metadata": {
        "id": "t9vk9Elugvmi"
      },
      "source": [
        "# **Notebook 10.5: Convolution for MNIST**\n",
        "\n",
        "This notebook builds a proper network for 2D convolution.  It works with the MNIST dataset (figure 15.15a), which was the original classic dataset for classifying images.  The network will take a 28x28 grayscale image and classify it into one of 10 classes representing a digit.\n",
        "\n",
        "The code is adapted from https://nextjournal.com/gkoehler/pytorch-mnist\n",
        "\n",
        "Work through the cells below, running each cell in turn. In various places you will see the words \"TO DO\". Follow the instructions at these places and make predictions about what is going to happen or write code to complete the functions.\n",
        "\n",
        "Contact me at udlbookmail@gmail.com if you find any mistakes or have any suggestions.\n"
      ]
    },
    {
      "cell_type": "code",
      "execution_count": 6,
      "metadata": {
        "id": "YrXWAH7sUWvU"
      },
      "outputs": [
        {
          "name": "stderr",
          "output_type": "stream",
          "text": [
            "/Users/sibivishtan/anaconda3/envs/learning_dl/lib/python3.11/site-packages/torchvision/io/image.py:13: UserWarning: Failed to load image Python extension: 'dlopen(/Users/sibivishtan/anaconda3/envs/learning_dl/lib/python3.11/site-packages/torchvision/image.so, 0x0006): Symbol not found: __ZN3c1017RegisterOperatorsD1Ev\n",
            "  Referenced from: <CFED5F8E-EC3F-36FD-AAA3-2C6C7F8D3DD9> /Users/sibivishtan/anaconda3/envs/learning_dl/lib/python3.11/site-packages/torchvision/image.so\n",
            "  Expected in:     <D400622C-0C6B-3AE1-AB45-F1D0BF19B384> /Users/sibivishtan/anaconda3/envs/learning_dl/lib/python3.11/site-packages/torch/lib/libtorch_cpu.dylib'If you don't plan on using image functionality from `torchvision.io`, you can ignore this warning. Otherwise, there might be something wrong with your environment. Did you have `libjpeg` or `libpng` installed before building `torchvision` from source?\n",
            "  warn(\n",
            "/Users/sibivishtan/anaconda3/envs/learning_dl/lib/python3.11/site-packages/transformers/utils/generic.py:441: UserWarning: torch.utils._pytree._register_pytree_node is deprecated. Please use torch.utils._pytree.register_pytree_node instead.\n",
            "  _torch_pytree._register_pytree_node(\n"
          ]
        }
      ],
      "source": [
        "import torch\n",
        "import torchvision\n",
        "import torch.nn as nn\n",
        "import torch.nn.functional as F\n",
        "import torch.optim as optim\n",
        "import matplotlib.pyplot as plt\n",
        "import random"
      ]
    },
    {
      "cell_type": "code",
      "execution_count": 10,
      "metadata": {
        "id": "wScBGXXFVadm"
      },
      "outputs": [
        {
          "name": "stdout",
          "output_type": "stream",
          "text": [
            "Downloading http://yann.lecun.com/exdb/mnist/train-images-idx3-ubyte.gz\n",
            "Failed to download (trying next):\n",
            "HTTP Error 403: Forbidden\n",
            "\n",
            "Downloading https://ossci-datasets.s3.amazonaws.com/mnist/train-images-idx3-ubyte.gz\n",
            "Downloading https://ossci-datasets.s3.amazonaws.com/mnist/train-images-idx3-ubyte.gz to ./data/MNIST/raw/train-images-idx3-ubyte.gz\n"
          ]
        },
        {
          "name": "stderr",
          "output_type": "stream",
          "text": [
            "100%|██████████| 9912422/9912422 [00:01<00:00, 6600944.33it/s]\n"
          ]
        },
        {
          "name": "stdout",
          "output_type": "stream",
          "text": [
            "Extracting ./data/MNIST/raw/train-images-idx3-ubyte.gz to ./data/MNIST/raw\n",
            "\n",
            "Downloading http://yann.lecun.com/exdb/mnist/train-labels-idx1-ubyte.gz\n",
            "Failed to download (trying next):\n",
            "HTTP Error 403: Forbidden\n",
            "\n",
            "Downloading https://ossci-datasets.s3.amazonaws.com/mnist/train-labels-idx1-ubyte.gz\n",
            "Downloading https://ossci-datasets.s3.amazonaws.com/mnist/train-labels-idx1-ubyte.gz to ./data/MNIST/raw/train-labels-idx1-ubyte.gz\n"
          ]
        },
        {
          "name": "stderr",
          "output_type": "stream",
          "text": [
            "100%|██████████| 28881/28881 [00:00<00:00, 906901.15it/s]\n"
          ]
        },
        {
          "name": "stdout",
          "output_type": "stream",
          "text": [
            "Extracting ./data/MNIST/raw/train-labels-idx1-ubyte.gz to ./data/MNIST/raw\n",
            "\n",
            "Downloading http://yann.lecun.com/exdb/mnist/t10k-images-idx3-ubyte.gz\n",
            "Failed to download (trying next):\n",
            "HTTP Error 403: Forbidden\n",
            "\n",
            "Downloading https://ossci-datasets.s3.amazonaws.com/mnist/t10k-images-idx3-ubyte.gz\n",
            "Downloading https://ossci-datasets.s3.amazonaws.com/mnist/t10k-images-idx3-ubyte.gz to ./data/MNIST/raw/t10k-images-idx3-ubyte.gz\n"
          ]
        },
        {
          "name": "stderr",
          "output_type": "stream",
          "text": [
            "100%|██████████| 1648877/1648877 [00:00<00:00, 4613756.23it/s]\n"
          ]
        },
        {
          "name": "stdout",
          "output_type": "stream",
          "text": [
            "Extracting ./data/MNIST/raw/t10k-images-idx3-ubyte.gz to ./data/MNIST/raw\n",
            "\n",
            "Downloading http://yann.lecun.com/exdb/mnist/t10k-labels-idx1-ubyte.gz\n",
            "Failed to download (trying next):\n",
            "HTTP Error 403: Forbidden\n",
            "\n",
            "Downloading https://ossci-datasets.s3.amazonaws.com/mnist/t10k-labels-idx1-ubyte.gz\n",
            "Downloading https://ossci-datasets.s3.amazonaws.com/mnist/t10k-labels-idx1-ubyte.gz to ./data/MNIST/raw/t10k-labels-idx1-ubyte.gz\n"
          ]
        },
        {
          "name": "stderr",
          "output_type": "stream",
          "text": [
            "100%|██████████| 4542/4542 [00:00<00:00, 3480820.17it/s]"
          ]
        },
        {
          "name": "stdout",
          "output_type": "stream",
          "text": [
            "Extracting ./data/MNIST/raw/t10k-labels-idx1-ubyte.gz to ./data/MNIST/raw\n",
            "\n"
          ]
        },
        {
          "name": "stderr",
          "output_type": "stream",
          "text": [
            "\n"
          ]
        }
      ],
      "source": [
        "# Run this once to load the train and test data straight into a dataloader class\n",
        "# that will provide the batches\n",
        "batch_size_train = 64\n",
        "batch_size_test = 1000\n",
        "train_loader = torch.utils.data.DataLoader(\n",
        "  torchvision.datasets.MNIST('./data/', train=True, download=True,\n",
        "                             transform=torchvision.transforms.Compose([\n",
        "                               torchvision.transforms.ToTensor(),\n",
        "                               torchvision.transforms.Normalize(\n",
        "                                 (0.1307,), (0.3081,))\n",
        "                             ])),\n",
        "  batch_size=batch_size_train, shuffle=True)\n",
        "\n",
        "test_loader = torch.utils.data.DataLoader(\n",
        "  torchvision.datasets.MNIST('./data/', train=False, download=True,\n",
        "                             transform=torchvision.transforms.Compose([\n",
        "                               torchvision.transforms.ToTensor(),\n",
        "                               torchvision.transforms.Normalize(\n",
        "                                 (0.1307,), (0.3081,))\n",
        "                             ])),\n",
        "  batch_size=batch_size_test, shuffle=True)"
      ]
    },
    {
      "cell_type": "code",
      "execution_count": 11,
      "metadata": {
        "id": "8bKADvLHbiV5"
      },
      "outputs": [
        {
          "data": {
            "image/png": "[encoded data removed]",
            "text/plain": [
              "<Figure size 640x480 with 6 Axes>"
            ]
          },
          "metadata": {},
          "output_type": "display_data"
        }
      ],
      "source": [
        "# Let's draw some of the training data\n",
        "examples = enumerate(test_loader)\n",
        "batch_idx, (example_data, example_targets) = next(examples)\n",
        "\n",
        "fig = plt.figure()\n",
        "for i in range(6):\n",
        "  plt.subplot(2,3,i+1)\n",
        "  plt.tight_layout()\n",
        "  plt.imshow(example_data[i][0], cmap='gray', interpolation='none')\n",
        "  plt.title(\"Ground Truth: {}\".format(example_targets[i]))\n",
        "  plt.xticks([])\n",
        "  plt.yticks([])\n",
        "plt.show()"
      ]
    },
    {
      "cell_type": "markdown",
      "metadata": {
        "id": "_sFvRDGrl4qe"
      },
      "source": [
        "Define the network.  This is a more typical way to define a network than the sequential structure.  We define a class for the network, and define the parameters in the constructor.  Then we use a function called forward to actually run the network.  It's easy to see how you might use residual connections in this format."
      ]
    },
    {
      "cell_type": "code",
      "execution_count": 12,
      "metadata": {
        "id": "EQkvw2KOPVl7"
      },
      "outputs": [],
      "source": [
        "from os import X_OK\n",
        "# TODO Change this class to implement\n",
        "# 1. A valid convolution with kernel size 5, 1 input channel and 10 output channels\n",
        "# 2. A max pooling operation over a 2x2 area\n",
        "# 3. A Relu\n",
        "# 4. A valid convolution with kernel size 5, 10 input channels and 20 output channels\n",
        "# 5. A 2D Dropout layer\n",
        "# 6. A max pooling operation over a 2x2 area\n",
        "# 7. A relu\n",
        "# 8. A flattening operation\n",
        "# 9. A fully connected layer mapping from (whatever dimensions we are at-- find out using .shape) to 50\n",
        "# 10. A ReLU\n",
        "# 11. A fully connected layer mapping from 50 to 10 dimensions\n",
        "# 12. A softmax function.\n",
        "\n",
        "# Replace this class which implements a minimal network (which still does okay)\n",
        "class Net(nn.Module):\n",
        "    def __init__(self):\n",
        "        super(Net, self).__init__()\n",
        "        # Convolutional layer: 1 input channel, 10 output channels, kernel size 5\n",
        "        self.conv1 = nn.Conv2d(1, 10, kernel_size=5, stride=1, padding=0)  # valid padding\n",
        "        # Max pooling: 2x2\n",
        "        self.pool1 = nn.MaxPool2d(kernel_size=2, stride=2, padding=0)\n",
        "        # Convolutional layer: 10 input channels, 20 output channels, kernel size 5\n",
        "        self.conv2 = nn.Conv2d(10, 20, kernel_size=5, stride=1, padding=0)  # valid padding\n",
        "        # Max pooling: 2x2\n",
        "        self.pool2 = nn.MaxPool2d(kernel_size=2, stride=2, padding=0)\n",
        "        # Dropout for 2D convolutions\n",
        "        self.drop = nn.Dropout2d(p=0.5)  # Example dropout rate of 0.5\n",
        "        # Fully connected layer: size to be determined\n",
        "        self.fc1 = nn.Linear(20 * 4 * 4, 50)  # Adjust the input features after flattening\n",
        "        self.fc2 = nn.Linear(50, 10)  # Final layer to 10 classes\n",
        "    \n",
        "    def forward(self, x):\n",
        "        # Convolutional layer followed by max pooling and ReLU\n",
        "        x = self.conv1(x)\n",
        "        x = self.pool1(x)\n",
        "        x = F.relu(x)\n",
        "        \n",
        "        # Convolutional layer followed by max pooling, dropout, and ReLU\n",
        "        x = self.conv2(x)\n",
        "        x = self.pool2(x)\n",
        "        x = F.relu(x)\n",
        "        x = self.drop(x)\n",
        "        \n",
        "        # Flattening\n",
        "        x = x.flatten(start_dim=1)\n",
        "        \n",
        "        # Fully connected layers with ReLU activation and softmax\n",
        "        x = self.fc1(x)\n",
        "        x = F.relu(x)\n",
        "        x = self.fc2(x)\n",
        "        x = F.log_softmax(x, dim=1)  # Log softmax for classification\n",
        "        \n",
        "        return x"
      ]
    },
    {
      "cell_type": "code",
      "execution_count": 13,
      "metadata": {
        "id": "qWZtkCZcU_dg"
      },
      "outputs": [],
      "source": [
        "# He initialization of weights\n",
        "def weights_init(layer_in):\n",
        "  if isinstance(layer_in, nn.Linear):\n",
        "    nn.init.kaiming_uniform_(layer_in.weight)\n",
        "    layer_in.bias.data.fill_(0.0)"
      ]
    },
    {
      "cell_type": "code",
      "execution_count": 14,
      "metadata": {
        "id": "FslroPJJffrh"
      },
      "outputs": [],
      "source": [
        "# Create network\n",
        "model = Net()\n",
        "# Initialize model weights\n",
        "model.apply(weights_init)\n",
        "# Define optimizer\n",
        "optimizer = optim.SGD(model.parameters(), lr=0.01, momentum=0.5)"
      ]
    },
    {
      "cell_type": "code",
      "execution_count": 15,
      "metadata": {
        "id": "xKQd9PzkQ766"
      },
      "outputs": [],
      "source": [
        "# Main training routine\n",
        "def train(epoch):\n",
        "  model.train()\n",
        "  # Get each\n",
        "  for batch_idx, (data, target) in enumerate(train_loader):\n",
        "    optimizer.zero_grad()\n",
        "    output = model(data)\n",
        "    loss = F.nll_loss(output, target)\n",
        "    loss.backward()\n",
        "    optimizer.step()\n",
        "    # Store results\n",
        "    if batch_idx % 10 == 0:\n",
        "      print('Train Epoch: {} [{}/{}]\\tLoss: {:.6f}'.format(\n",
        "        epoch, batch_idx * len(data), len(train_loader.dataset), loss.item()))"
      ]
    },
    {
      "cell_type": "code",
      "execution_count": 16,
      "metadata": {
        "id": "Byn-f7qWRLxX"
      },
      "outputs": [],
      "source": [
        "# Run on test data\n",
        "def test():\n",
        "  model.eval()\n",
        "  test_loss = 0\n",
        "  correct = 0\n",
        "  with torch.no_grad():\n",
        "    for data, target in test_loader:\n",
        "      output = model(data)\n",
        "      test_loss += F.nll_loss(output, target, size_average=False).item()\n",
        "      pred = output.data.max(1, keepdim=True)[1]\n",
        "      correct += pred.eq(target.data.view_as(pred)).sum()\n",
        "  test_loss /= len(test_loader.dataset)\n",
        "  print('\\nTest set: Avg. loss: {:.4f}, Accuracy: {}/{} ({:.0f}%)\\n'.format(\n",
        "    test_loss, correct, len(test_loader.dataset),\n",
        "    100. * correct / len(test_loader.dataset)))"
      ]
    },
    {
      "cell_type": "code",
      "execution_count": 17,
      "metadata": {
        "id": "YgLaex1pfhqz"
      },
      "outputs": [
        {
          "name": "stderr",
          "output_type": "stream",
          "text": [
            "/Users/sibivishtan/anaconda3/envs/learning_dl/lib/python3.11/site-packages/torch/nn/_reduction.py:42: UserWarning: size_average and reduce args will be deprecated, please use reduction='sum' instead.\n",
            "  warnings.warn(warning.format(ret))\n"
          ]
        },
        {
          "name": "stdout",
          "output_type": "stream",
          "text": [
            "\n",
            "Test set: Avg. loss: 2.4004, Accuracy: 1022/10000 (10%)\n",
            "\n",
            "Train Epoch: 1 [0/60000]\tLoss: 2.420823\n",
            "Train Epoch: 1 [640/60000]\tLoss: 2.239226\n",
            "Train Epoch: 1 [1280/60000]\tLoss: 2.148579\n",
            "Train Epoch: 1 [1920/60000]\tLoss: 2.115948\n",
            "Train Epoch: 1 [2560/60000]\tLoss: 2.045696\n",
            "Train Epoch: 1 [3200/60000]\tLoss: 1.842298\n",
            "Train Epoch: 1 [3840/60000]\tLoss: 1.584153\n",
            "Train Epoch: 1 [4480/60000]\tLoss: 1.447806\n",
            "Train Epoch: 1 [5120/60000]\tLoss: 1.353814\n",
            "Train Epoch: 1 [5760/60000]\tLoss: 1.248760\n",
            "Train Epoch: 1 [6400/60000]\tLoss: 0.750071\n",
            "Train Epoch: 1 [7040/60000]\tLoss: 0.946601\n",
            "Train Epoch: 1 [7680/60000]\tLoss: 0.906430\n",
            "Train Epoch: 1 [8320/60000]\tLoss: 0.944059\n",
            "Train Epoch: 1 [8960/60000]\tLoss: 0.638684\n",
            "Train Epoch: 1 [9600/60000]\tLoss: 0.862943\n",
            "Train Epoch: 1 [10240/60000]\tLoss: 0.625984\n",
            "Train Epoch: 1 [10880/60000]\tLoss: 0.571999\n",
            "Train Epoch: 1 [11520/60000]\tLoss: 0.657968\n",
            "Train Epoch: 1 [12160/60000]\tLoss: 0.543199\n",
            "Train Epoch: 1 [12800/60000]\tLoss: 0.453786\n",
            "Train Epoch: 1 [13440/60000]\tLoss: 0.513166\n",
            "Train Epoch: 1 [14080/60000]\tLoss: 0.454447\n",
            "Train Epoch: 1 [14720/60000]\tLoss: 0.482664\n",
            "Train Epoch: 1 [15360/60000]\tLoss: 0.541925\n",
            "Train Epoch: 1 [16000/60000]\tLoss: 0.316052\n",
            "Train Epoch: 1 [16640/60000]\tLoss: 0.524305\n",
            "Train Epoch: 1 [17280/60000]\tLoss: 0.608453\n",
            "Train Epoch: 1 [17920/60000]\tLoss: 0.481140\n",
            "Train Epoch: 1 [18560/60000]\tLoss: 0.387080\n",
            "Train Epoch: 1 [19200/60000]\tLoss: 0.317987\n",
            "Train Epoch: 1 [19840/60000]\tLoss: 0.542102\n",
            "Train Epoch: 1 [20480/60000]\tLoss: 0.415355\n",
            "Train Epoch: 1 [21120/60000]\tLoss: 0.298581\n",
            "Train Epoch: 1 [21760/60000]\tLoss: 0.360389\n",
            "Train Epoch: 1 [22400/60000]\tLoss: 0.566160\n",
            "Train Epoch: 1 [23040/60000]\tLoss: 0.265457\n",
            "Train Epoch: 1 [23680/60000]\tLoss: 0.285855\n",
            "Train Epoch: 1 [24320/60000]\tLoss: 0.366719\n",
            "Train Epoch: 1 [24960/60000]\tLoss: 0.501169\n",
            "Train Epoch: 1 [25600/60000]\tLoss: 0.354671\n",
            "Train Epoch: 1 [26240/60000]\tLoss: 0.173505\n",
            "Train Epoch: 1 [26880/60000]\tLoss: 0.322526\n",
            "Train Epoch: 1 [27520/60000]\tLoss: 0.360832\n",
            "Train Epoch: 1 [28160/60000]\tLoss: 0.450520\n",
            "Train Epoch: 1 [28800/60000]\tLoss: 0.273010\n",
            "Train Epoch: 1 [29440/60000]\tLoss: 0.341829\n",
            "Train Epoch: 1 [30080/60000]\tLoss: 0.157048\n",
            "Train Epoch: 1 [30720/60000]\tLoss: 0.333443\n",
            "Train Epoch: 1 [31360/60000]\tLoss: 0.342850\n",
            "Train Epoch: 1 [32000/60000]\tLoss: 0.367941\n",
            "Train Epoch: 1 [32640/60000]\tLoss: 0.441887\n",
            "Train Epoch: 1 [33280/60000]\tLoss: 0.204249\n",
            "Train Epoch: 1 [33920/60000]\tLoss: 0.323956\n",
            "Train Epoch: 1 [34560/60000]\tLoss: 0.160627\n",
            "Train Epoch: 1 [35200/60000]\tLoss: 0.407537\n",
            "Train Epoch: 1 [35840/60000]\tLoss: 0.282153\n",
            "Train Epoch: 1 [36480/60000]\tLoss: 0.380532\n",
            "Train Epoch: 1 [37120/60000]\tLoss: 0.251062\n",
            "Train Epoch: 1 [37760/60000]\tLoss: 0.218150\n",
            "Train Epoch: 1 [38400/60000]\tLoss: 0.220069\n",
            "Train Epoch: 1 [39040/60000]\tLoss: 0.384603\n",
            "Train Epoch: 1 [39680/60000]\tLoss: 0.253805\n",
            "Train Epoch: 1 [40320/60000]\tLoss: 0.162291\n",
            "Train Epoch: 1 [40960/60000]\tLoss: 0.304692\n",
            "Train Epoch: 1 [41600/60000]\tLoss: 0.329553\n",
            "Train Epoch: 1 [42240/60000]\tLoss: 0.338901\n",
            "Train Epoch: 1 [42880/60000]\tLoss: 0.254665\n",
            "Train Epoch: 1 [43520/60000]\tLoss: 0.243544\n",
            "Train Epoch: 1 [44160/60000]\tLoss: 0.250982\n",
            "Train Epoch: 1 [44800/60000]\tLoss: 0.371713\n",
            "Train Epoch: 1 [45440/60000]\tLoss: 0.198751\n",
            "Train Epoch: 1 [46080/60000]\tLoss: 0.276576\n",
            "Train Epoch: 1 [46720/60000]\tLoss: 0.120894\n",
            "Train Epoch: 1 [47360/60000]\tLoss: 0.194148\n",
            "Train Epoch: 1 [48000/60000]\tLoss: 0.234030\n",
            "Train Epoch: 1 [48640/60000]\tLoss: 0.083883\n",
            "Train Epoch: 1 [49280/60000]\tLoss: 0.076592\n",
            "Train Epoch: 1 [49920/60000]\tLoss: 0.220921\n",
            "Train Epoch: 1 [50560/60000]\tLoss: 0.135815\n",
            "Train Epoch: 1 [51200/60000]\tLoss: 0.282023\n",
            "Train Epoch: 1 [51840/60000]\tLoss: 0.157878\n",
            "Train Epoch: 1 [52480/60000]\tLoss: 0.304400\n",
            "Train Epoch: 1 [53120/60000]\tLoss: 0.225230\n",
            "Train Epoch: 1 [53760/60000]\tLoss: 0.294579\n",
            "Train Epoch: 1 [54400/60000]\tLoss: 0.195710\n",
            "Train Epoch: 1 [55040/60000]\tLoss: 0.202314\n",
            "Train Epoch: 1 [55680/60000]\tLoss: 0.239272\n",
            "Train Epoch: 1 [56320/60000]\tLoss: 0.187723\n",
            "Train Epoch: 1 [56960/60000]\tLoss: 0.173087\n",
            "Train Epoch: 1 [57600/60000]\tLoss: 0.122040\n",
            "Train Epoch: 1 [58240/60000]\tLoss: 0.120169\n",
            "Train Epoch: 1 [58880/60000]\tLoss: 0.276472\n",
            "Train Epoch: 1 [59520/60000]\tLoss: 0.141522\n",
            "\n",
            "Test set: Avg. loss: 0.1244, Accuracy: 9622/10000 (96%)\n",
            "\n",
            "Train Epoch: 2 [0/60000]\tLoss: 0.439081\n",
            "Train Epoch: 2 [640/60000]\tLoss: 0.289819\n",
            "Train Epoch: 2 [1280/60000]\tLoss: 0.356516\n",
            "Train Epoch: 2 [1920/60000]\tLoss: 0.269493\n",
            "Train Epoch: 2 [2560/60000]\tLoss: 0.362166\n",
            "Train Epoch: 2 [3200/60000]\tLoss: 0.093656\n",
            "Train Epoch: 2 [3840/60000]\tLoss: 0.180127\n",
            "Train Epoch: 2 [4480/60000]\tLoss: 0.220414\n",
            "Train Epoch: 2 [5120/60000]\tLoss: 0.216091\n",
            "Train Epoch: 2 [5760/60000]\tLoss: 0.462722\n",
            "Train Epoch: 2 [6400/60000]\tLoss: 0.107485\n",
            "Train Epoch: 2 [7040/60000]\tLoss: 0.193043\n",
            "Train Epoch: 2 [7680/60000]\tLoss: 0.189999\n",
            "Train Epoch: 2 [8320/60000]\tLoss: 0.185386\n",
            "Train Epoch: 2 [8960/60000]\tLoss: 0.358510\n",
            "Train Epoch: 2 [9600/60000]\tLoss: 0.206683\n",
            "Train Epoch: 2 [10240/60000]\tLoss: 0.200744\n",
            "Train Epoch: 2 [10880/60000]\tLoss: 0.130167\n",
            "Train Epoch: 2 [11520/60000]\tLoss: 0.243230\n",
            "Train Epoch: 2 [12160/60000]\tLoss: 0.159685\n",
            "Train Epoch: 2 [12800/60000]\tLoss: 0.267228\n",
            "Train Epoch: 2 [13440/60000]\tLoss: 0.165442\n",
            "Train Epoch: 2 [14080/60000]\tLoss: 0.479415\n",
            "Train Epoch: 2 [14720/60000]\tLoss: 0.324642\n",
            "Train Epoch: 2 [15360/60000]\tLoss: 0.126660\n",
            "Train Epoch: 2 [16000/60000]\tLoss: 0.161274\n",
            "Train Epoch: 2 [16640/60000]\tLoss: 0.173588\n",
            "Train Epoch: 2 [17280/60000]\tLoss: 0.172180\n",
            "Train Epoch: 2 [17920/60000]\tLoss: 0.302412\n",
            "Train Epoch: 2 [18560/60000]\tLoss: 0.349050\n",
            "Train Epoch: 2 [19200/60000]\tLoss: 0.227248\n",
            "Train Epoch: 2 [19840/60000]\tLoss: 0.136846\n",
            "Train Epoch: 2 [20480/60000]\tLoss: 0.104637\n",
            "Train Epoch: 2 [21120/60000]\tLoss: 0.192480\n",
            "Train Epoch: 2 [21760/60000]\tLoss: 0.611392\n",
            "Train Epoch: 2 [22400/60000]\tLoss: 0.209641\n",
            "Train Epoch: 2 [23040/60000]\tLoss: 0.133481\n",
            "Train Epoch: 2 [23680/60000]\tLoss: 0.097988\n",
            "Train Epoch: 2 [24320/60000]\tLoss: 0.134338\n",
            "Train Epoch: 2 [24960/60000]\tLoss: 0.140632\n",
            "Train Epoch: 2 [25600/60000]\tLoss: 0.304985\n",
            "Train Epoch: 2 [26240/60000]\tLoss: 0.416592\n",
            "Train Epoch: 2 [26880/60000]\tLoss: 0.190206\n",
            "Train Epoch: 2 [27520/60000]\tLoss: 0.296757\n",
            "Train Epoch: 2 [28160/60000]\tLoss: 0.200598\n",
            "Train Epoch: 2 [28800/60000]\tLoss: 0.272241\n",
            "Train Epoch: 2 [29440/60000]\tLoss: 0.202668\n",
            "Train Epoch: 2 [30080/60000]\tLoss: 0.272944\n",
            "Train Epoch: 2 [30720/60000]\tLoss: 0.318249\n",
            "Train Epoch: 2 [31360/60000]\tLoss: 0.165508\n",
            "Train Epoch: 2 [32000/60000]\tLoss: 0.107051\n",
            "Train Epoch: 2 [32640/60000]\tLoss: 0.122957\n",
            "Train Epoch: 2 [33280/60000]\tLoss: 0.142951\n",
            "Train Epoch: 2 [33920/60000]\tLoss: 0.130756\n",
            "Train Epoch: 2 [34560/60000]\tLoss: 0.306615\n",
            "Train Epoch: 2 [35200/60000]\tLoss: 0.163989\n",
            "Train Epoch: 2 [35840/60000]\tLoss: 0.285758\n",
            "Train Epoch: 2 [36480/60000]\tLoss: 0.183567\n",
            "Train Epoch: 2 [37120/60000]\tLoss: 0.133194\n",
            "Train Epoch: 2 [37760/60000]\tLoss: 0.140957\n",
            "Train Epoch: 2 [38400/60000]\tLoss: 0.079808\n",
            "Train Epoch: 2 [39040/60000]\tLoss: 0.135107\n",
            "Train Epoch: 2 [39680/60000]\tLoss: 0.133272\n",
            "Train Epoch: 2 [40320/60000]\tLoss: 0.303552\n",
            "Train Epoch: 2 [40960/60000]\tLoss: 0.255445\n",
            "Train Epoch: 2 [41600/60000]\tLoss: 0.113035\n",
            "Train Epoch: 2 [42240/60000]\tLoss: 0.154547\n",
            "Train Epoch: 2 [42880/60000]\tLoss: 0.242557\n",
            "Train Epoch: 2 [43520/60000]\tLoss: 0.192498\n",
            "Train Epoch: 2 [44160/60000]\tLoss: 0.166402\n",
            "Train Epoch: 2 [44800/60000]\tLoss: 0.379759\n",
            "Train Epoch: 2 [45440/60000]\tLoss: 0.212379\n",
            "Train Epoch: 2 [46080/60000]\tLoss: 0.029704\n",
            "Train Epoch: 2 [46720/60000]\tLoss: 0.162926\n",
            "Train Epoch: 2 [47360/60000]\tLoss: 0.252888\n",
            "Train Epoch: 2 [48000/60000]\tLoss: 0.160606\n",
            "Train Epoch: 2 [48640/60000]\tLoss: 0.109639\n",
            "Train Epoch: 2 [49280/60000]\tLoss: 0.182425\n",
            "Train Epoch: 2 [49920/60000]\tLoss: 0.099106\n",
            "Train Epoch: 2 [50560/60000]\tLoss: 0.181242\n",
            "Train Epoch: 2 [51200/60000]\tLoss: 0.205938\n",
            "Train Epoch: 2 [51840/60000]\tLoss: 0.235600\n",
            "Train Epoch: 2 [52480/60000]\tLoss: 0.286893\n",
            "Train Epoch: 2 [53120/60000]\tLoss: 0.209224\n",
            "Train Epoch: 2 [53760/60000]\tLoss: 0.109252\n",
            "Train Epoch: 2 [54400/60000]\tLoss: 0.157769\n",
            "Train Epoch: 2 [55040/60000]\tLoss: 0.111854\n",
            "Train Epoch: 2 [55680/60000]\tLoss: 0.102044\n",
            "Train Epoch: 2 [56320/60000]\tLoss: 0.149483\n",
            "Train Epoch: 2 [56960/60000]\tLoss: 0.121083\n",
            "Train Epoch: 2 [57600/60000]\tLoss: 0.103280\n",
            "Train Epoch: 2 [58240/60000]\tLoss: 0.229578\n",
            "Train Epoch: 2 [58880/60000]\tLoss: 0.267877\n",
            "Train Epoch: 2 [59520/60000]\tLoss: 0.070729\n",
            "\n",
            "Test set: Avg. loss: 0.0898, Accuracy: 9706/10000 (97%)\n",
            "\n",
            "Train Epoch: 3 [0/60000]\tLoss: 0.385246\n",
            "Train Epoch: 3 [640/60000]\tLoss: 0.332749\n",
            "Train Epoch: 3 [1280/60000]\tLoss: 0.123320\n",
            "Train Epoch: 3 [1920/60000]\tLoss: 0.229397\n",
            "Train Epoch: 3 [2560/60000]\tLoss: 0.316389\n",
            "Train Epoch: 3 [3200/60000]\tLoss: 0.092361\n",
            "Train Epoch: 3 [3840/60000]\tLoss: 0.180343\n",
            "Train Epoch: 3 [4480/60000]\tLoss: 0.137589\n",
            "Train Epoch: 3 [5120/60000]\tLoss: 0.090894\n",
            "Train Epoch: 3 [5760/60000]\tLoss: 0.319836\n",
            "Train Epoch: 3 [6400/60000]\tLoss: 0.424661\n",
            "Train Epoch: 3 [7040/60000]\tLoss: 0.166866\n",
            "Train Epoch: 3 [7680/60000]\tLoss: 0.063309\n",
            "Train Epoch: 3 [8320/60000]\tLoss: 0.082996\n",
            "Train Epoch: 3 [8960/60000]\tLoss: 0.078484\n",
            "Train Epoch: 3 [9600/60000]\tLoss: 0.112073\n",
            "Train Epoch: 3 [10240/60000]\tLoss: 0.315344\n",
            "Train Epoch: 3 [10880/60000]\tLoss: 0.229959\n",
            "Train Epoch: 3 [11520/60000]\tLoss: 0.181848\n",
            "Train Epoch: 3 [12160/60000]\tLoss: 0.091733\n",
            "Train Epoch: 3 [12800/60000]\tLoss: 0.098745\n",
            "Train Epoch: 3 [13440/60000]\tLoss: 0.042974\n",
            "Train Epoch: 3 [14080/60000]\tLoss: 0.042830\n",
            "Train Epoch: 3 [14720/60000]\tLoss: 0.385747\n",
            "Train Epoch: 3 [15360/60000]\tLoss: 0.156232\n",
            "Train Epoch: 3 [16000/60000]\tLoss: 0.225283\n",
            "Train Epoch: 3 [16640/60000]\tLoss: 0.108378\n",
            "Train Epoch: 3 [17280/60000]\tLoss: 0.130614\n",
            "Train Epoch: 3 [17920/60000]\tLoss: 0.079987\n",
            "Train Epoch: 3 [18560/60000]\tLoss: 0.169295\n",
            "Train Epoch: 3 [19200/60000]\tLoss: 0.103386\n",
            "Train Epoch: 3 [19840/60000]\tLoss: 0.110248\n",
            "Train Epoch: 3 [20480/60000]\tLoss: 0.312949\n",
            "Train Epoch: 3 [21120/60000]\tLoss: 0.076482\n",
            "Train Epoch: 3 [21760/60000]\tLoss: 0.262184\n",
            "Train Epoch: 3 [22400/60000]\tLoss: 0.222220\n",
            "Train Epoch: 3 [23040/60000]\tLoss: 0.153495\n",
            "Train Epoch: 3 [23680/60000]\tLoss: 0.065284\n",
            "Train Epoch: 3 [24320/60000]\tLoss: 0.235916\n",
            "Train Epoch: 3 [24960/60000]\tLoss: 0.172723\n",
            "Train Epoch: 3 [25600/60000]\tLoss: 0.135927\n",
            "Train Epoch: 3 [26240/60000]\tLoss: 0.385361\n",
            "Train Epoch: 3 [26880/60000]\tLoss: 0.137182\n",
            "Train Epoch: 3 [27520/60000]\tLoss: 0.158811\n",
            "Train Epoch: 3 [28160/60000]\tLoss: 0.106393\n",
            "Train Epoch: 3 [28800/60000]\tLoss: 0.142243\n",
            "Train Epoch: 3 [29440/60000]\tLoss: 0.155708\n",
            "Train Epoch: 3 [30080/60000]\tLoss: 0.159415\n",
            "Train Epoch: 3 [30720/60000]\tLoss: 0.244548\n",
            "Train Epoch: 3 [31360/60000]\tLoss: 0.262417\n",
            "Train Epoch: 3 [32000/60000]\tLoss: 0.074377\n",
            "Train Epoch: 3 [32640/60000]\tLoss: 0.091947\n",
            "Train Epoch: 3 [33280/60000]\tLoss: 0.172956\n",
            "Train Epoch: 3 [33920/60000]\tLoss: 0.186063\n",
            "Train Epoch: 3 [34560/60000]\tLoss: 0.022921\n",
            "Train Epoch: 3 [35200/60000]\tLoss: 0.243350\n",
            "Train Epoch: 3 [35840/60000]\tLoss: 0.122533\n",
            "Train Epoch: 3 [36480/60000]\tLoss: 0.137833\n",
            "Train Epoch: 3 [37120/60000]\tLoss: 0.248926\n",
            "Train Epoch: 3 [37760/60000]\tLoss: 0.122532\n",
            "Train Epoch: 3 [38400/60000]\tLoss: 0.070869\n",
            "Train Epoch: 3 [39040/60000]\tLoss: 0.115831\n",
            "Train Epoch: 3 [39680/60000]\tLoss: 0.097231\n",
            "Train Epoch: 3 [40320/60000]\tLoss: 0.335646\n",
            "Train Epoch: 3 [40960/60000]\tLoss: 0.099493\n",
            "Train Epoch: 3 [41600/60000]\tLoss: 0.273606\n",
            "Train Epoch: 3 [42240/60000]\tLoss: 0.157327\n",
            "Train Epoch: 3 [42880/60000]\tLoss: 0.218334\n",
            "Train Epoch: 3 [43520/60000]\tLoss: 0.287908\n",
            "Train Epoch: 3 [44160/60000]\tLoss: 0.086768\n",
            "Train Epoch: 3 [44800/60000]\tLoss: 0.088220\n",
            "Train Epoch: 3 [45440/60000]\tLoss: 0.147600\n",
            "Train Epoch: 3 [46080/60000]\tLoss: 0.371761\n",
            "Train Epoch: 3 [46720/60000]\tLoss: 0.125043\n",
            "Train Epoch: 3 [47360/60000]\tLoss: 0.289522\n",
            "Train Epoch: 3 [48000/60000]\tLoss: 0.118893\n",
            "Train Epoch: 3 [48640/60000]\tLoss: 0.174580\n",
            "Train Epoch: 3 [49280/60000]\tLoss: 0.054151\n",
            "Train Epoch: 3 [49920/60000]\tLoss: 0.086901\n",
            "Train Epoch: 3 [50560/60000]\tLoss: 0.071401\n",
            "Train Epoch: 3 [51200/60000]\tLoss: 0.098510\n",
            "Train Epoch: 3 [51840/60000]\tLoss: 0.193407\n",
            "Train Epoch: 3 [52480/60000]\tLoss: 0.302766\n",
            "Train Epoch: 3 [53120/60000]\tLoss: 0.125104\n",
            "Train Epoch: 3 [53760/60000]\tLoss: 0.072534\n",
            "Train Epoch: 3 [54400/60000]\tLoss: 0.077959\n",
            "Train Epoch: 3 [55040/60000]\tLoss: 0.081474\n",
            "Train Epoch: 3 [55680/60000]\tLoss: 0.079835\n",
            "Train Epoch: 3 [56320/60000]\tLoss: 0.103157\n",
            "Train Epoch: 3 [56960/60000]\tLoss: 0.130060\n",
            "Train Epoch: 3 [57600/60000]\tLoss: 0.116129\n",
            "Train Epoch: 3 [58240/60000]\tLoss: 0.057614\n",
            "Train Epoch: 3 [58880/60000]\tLoss: 0.070071\n",
            "Train Epoch: 3 [59520/60000]\tLoss: 0.126253\n",
            "\n",
            "Test set: Avg. loss: 0.0681, Accuracy: 9770/10000 (98%)\n",
            "\n"
          ]
        }
      ],
      "source": [
        "# Get initial performance\n",
        "test()\n",
        "# Train for three epochs\n",
        "n_epochs = 3\n",
        "for epoch in range(1, n_epochs + 1):\n",
        "  train(epoch)\n",
        "  test()"
      ]
    },
    {
      "cell_type": "code",
      "execution_count": 18,
      "metadata": {
        "id": "o7fRUAy9Se1B"
      },
      "outputs": [
        {
          "data": {
            "image/png": "[encoded data removed]",
            "text/plain": [
              "<Figure size 640x480 with 10 Axes>"
            ]
          },
          "metadata": {},
          "output_type": "display_data"
        }
      ],
      "source": [
        "# Run network on data we got before and show predictions\n",
        "output = model(example_data)\n",
        "\n",
        "fig = plt.figure()\n",
        "for i in range(10):\n",
        "  plt.subplot(5,5,i+1)\n",
        "  plt.tight_layout()\n",
        "  plt.imshow(example_data[i][0], cmap='gray', interpolation='none')\n",
        "  plt.title(\"Prediction: {}\".format(\n",
        "    output.data.max(1, keepdim=True)[1][i].item()))\n",
        "  plt.xticks([])\n",
        "  plt.yticks([])\n",
        "plt.show()"
      ]
    }
  ],
  "metadata": {
    "colab": {
      "authorship_tag": "ABX9TyNAcc98STMeyQgh9SbVHWG+",
      "include_colab_link": true,
      "provenance": []
    },
    "kernelspec": {
      "display_name": "Python 3",
      "name": "python3"
    },
    "language_info": {
      "codemirror_mode": {
        "name": "ipython",
        "version": 3
      },
      "file_extension": ".py",
      "mimetype": "text/x-python",
      "name": "python",
      "nbconvert_exporter": "python",
      "pygments_lexer": "ipython3",
      "version": "3.11.5"
    }
  },
  "nbformat": 4,
  "nbformat_minor": 0
}
