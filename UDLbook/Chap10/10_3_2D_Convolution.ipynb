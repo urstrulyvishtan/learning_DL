{
  "cells": [
    {
      "cell_type": "markdown",
      "metadata": {
        "colab_type": "text",
        "id": "view-in-github"
      },
      "source": [
        "<a href=\"https://colab.research.google.com/github/udlbook/udlbook/blob/main/Notebooks/Chap10/10_3_2D_Convolution.ipynb\" target=\"_parent\"><img src=\"https://colab.research.google.com/assets/colab-badge.svg\" alt=\"Open In Colab\"/></a>"
      ]
    },
    {
      "cell_type": "markdown",
      "metadata": {
        "id": "VB_crnDGASX-"
      },
      "source": [
        "# **Notebook 10.3: 2D Convolution**\n",
        "\n",
        "This notebook investigates the 2D convolution operation.  It asks you to hand code the convolution so we can be sure that we are computing the same thing as in PyTorch.  The next notebook uses the convolutional layers in PyTorch directly.\n",
        "\n",
        "Work through the cells below, running each cell in turn. In various places you will see the words \"TO DO\". Follow the instructions at these places and make predictions about what is going to happen or write code to complete the functions.\n",
        "\n",
        "Contact me at udlbookmail@gmail.com if you find any mistakes or have any suggestions."
      ]
    },
    {
      "cell_type": "code",
      "execution_count": 1,
      "metadata": {
        "id": "YAoWDUb_DezG"
      },
      "outputs": [],
      "source": [
        "import numpy as np\n",
        "import torch\n",
        "# Set to print in reasonable form\n",
        "np.set_printoptions(precision=3, floatmode=\"fixed\")\n",
        "torch.set_printoptions(precision=3)"
      ]
    },
    {
      "cell_type": "markdown",
      "metadata": {
        "id": "eAwYWXzAElHG"
      },
      "source": [
        "This routine performs convolution in PyTorch"
      ]
    },
    {
      "cell_type": "code",
      "execution_count": 2,
      "metadata": {
        "id": "xsmUIN-3BlWr"
      },
      "outputs": [],
      "source": [
        "# Perform convolution in PyTorch\n",
        "def conv_pytorch(image, conv_weights, stride=1, pad =1):\n",
        "  # Convert image and kernel to tensors\n",
        "  image_tensor = torch.from_numpy(image) # (batchSize, channelsIn, imageHeightIn, =imageWidthIn)\n",
        "  conv_weights_tensor = torch.from_numpy(conv_weights) # (channelsOut, channelsIn, kernelHeight, kernelWidth)\n",
        "  # Do the convolution\n",
        "  output_tensor = torch.nn.functional.conv2d(image_tensor, conv_weights_tensor, stride=stride, padding=pad)\n",
        "  # Convert back from PyTorch and return\n",
        "  return(output_tensor.numpy()) # (batchSize channelsOut imageHeightOut imageHeightIn)"
      ]
    },
    {
      "cell_type": "markdown",
      "metadata": {
        "id": "A3Sm8bUWtDNO"
      },
      "source": [
        "First we'll start with the simplest 2D convolution.  Just one channel in and one channel out.  A single image in the batch."
      ]
    },
    {
      "cell_type": "code",
      "execution_count": 3,
      "metadata": {
        "id": "EF8FWONVLo1Q"
      },
      "outputs": [],
      "source": [
        "# Perform convolution in numpy\n",
        "def conv_numpy_1(image, weights, pad=1):\n",
        "\n",
        "    # Perform zero padding\n",
        "    if pad != 0:\n",
        "        image = np.pad(image, ((0, 0), (0, 0), (pad, pad), (pad, pad)), 'constant')\n",
        "\n",
        "    # Get sizes of image array and kernel weights\n",
        "    batchSize, channelsIn, imageHeightIn, imageWidthIn = image.shape\n",
        "    channelsOut, _, kernelHeight, kernelWidth = weights.shape\n",
        "\n",
        "    # Get size of output arrays\n",
        "    imageHeightOut = np.floor(1 + imageHeightIn - kernelHeight).astype(int)\n",
        "    imageWidthOut = np.floor(1 + imageWidthIn - kernelWidth).astype(int)\n",
        "\n",
        "    # Create output\n",
        "    out = np.zeros((batchSize, channelsOut, imageHeightOut, imageWidthOut), dtype=np.float32)\n",
        "\n",
        "    # Perform convolution\n",
        "    for c_y in range(imageHeightOut):\n",
        "        for c_x in range(imageWidthOut):\n",
        "            for c_kernel_y in range(kernelHeight):\n",
        "                for c_kernel_x in range(kernelWidth):\n",
        "                    for c_in in range(channelsIn):\n",
        "                        for c_out in range(channelsOut):\n",
        "                            # Retrieve the image pixel and the weight from the convolution\n",
        "                            this_pixel_value = image[0, c_in, c_y + c_kernel_y, c_x + c_kernel_x]\n",
        "                            this_weight = weights[c_out, c_in, c_kernel_y, c_kernel_x]\n",
        "                            # Multiply these together and add to the output at this position\n",
        "                            out[0, c_out, c_y, c_x] += this_pixel_value * this_weight\n",
        "\n",
        "\n",
        "    return out"
      ]
    },
    {
      "cell_type": "code",
      "execution_count": 4,
      "metadata": {
        "id": "iw9KqXZTHN8v"
      },
      "outputs": [
        {
          "name": "stdout",
          "output_type": "stream",
          "text": [
            "PyTorch Results\n",
            "[[[[-0.929 -2.760  0.716  0.114  0.560 -0.387]\n",
            "   [-1.515  0.283  1.008  0.466 -1.094  2.004]\n",
            "   [-1.634  3.555 -2.154 -0.892 -1.856  2.299]\n",
            "   [ 0.565 -0.947 -0.629  2.996 -1.811 -0.533]]]]\n",
            "Your results\n",
            "[[[[-0.929 -2.760  0.716  0.114  0.560 -0.387]\n",
            "   [-1.515  0.283  1.008  0.466 -1.094  2.004]\n",
            "   [-1.634  3.555 -2.154 -0.892 -1.856  2.299]\n",
            "   [ 0.565 -0.947 -0.629  2.996 -1.811 -0.533]]]]\n"
          ]
        }
      ],
      "source": [
        "# Set random seed so we always get same answer\n",
        "np.random.seed(1)\n",
        "n_batch = 1\n",
        "image_height = 4\n",
        "image_width = 6\n",
        "channels_in = 1\n",
        "kernel_size = 3\n",
        "channels_out = 1\n",
        "\n",
        "# Create random input image\n",
        "input_image= np.random.normal(size=(n_batch, channels_in, image_height, image_width))\n",
        "# Create random convolution kernel weights\n",
        "conv_weights = np.random.normal(size=(channels_out, channels_in, kernel_size, kernel_size))\n",
        "\n",
        "# Perform convolution using PyTorch\n",
        "conv_results_pytorch = conv_pytorch(input_image, conv_weights, stride=1, pad=1)\n",
        "print(\"PyTorch Results\")\n",
        "print(conv_results_pytorch)\n",
        "\n",
        "# Perform convolution in numpy\n",
        "print(\"Your results\")\n",
        "conv_results_numpy = conv_numpy_1(input_image, conv_weights)\n",
        "print(conv_results_numpy)"
      ]
    },
    {
      "cell_type": "markdown",
      "metadata": {
        "id": "IYj_lxeGzaHX"
      },
      "source": [
        "Let's now add in the possibility of using different strides"
      ]
    },
    {
      "cell_type": "code",
      "execution_count": 5,
      "metadata": {
        "id": "GiujmLhqHN1F"
      },
      "outputs": [],
      "source": [
        "# Perform convolution in numpy\n",
        "def conv_numpy_2(image, weights, stride=1, pad=1):\n",
        "\n",
        "    # Perform zero padding\n",
        "    if pad != 0:\n",
        "        image = np.pad(image, ((0, 0), (0, 0), (pad, pad), (pad, pad)), 'constant')\n",
        "\n",
        "    # Get sizes of image array and kernel weights\n",
        "    batchSize, channelsIn, imageHeightIn, imageWidthIn = image.shape\n",
        "    channelsOut, _, kernelHeight, kernelWidth = weights.shape\n",
        "\n",
        "    # Get size of output arrays\n",
        "    imageHeightOut = np.floor(1 + (imageHeightIn - kernelHeight) / stride).astype(int)\n",
        "    imageWidthOut = np.floor(1 + (imageWidthIn - kernelWidth) / stride).astype(int)\n",
        "\n",
        "    # Create output\n",
        "    out = np.zeros((batchSize, channelsOut, imageHeightOut, imageWidthOut), dtype=np.float32)\n",
        "\n",
        "    for c_y in range(imageHeightOut):\n",
        "        for c_x in range(imageWidthOut):\n",
        "            for c_kernel_y in range(kernelHeight):\n",
        "                for c_kernel_x in range(kernelWidth):\n",
        "                    for c_in in range(channelsIn):\n",
        "                        for c_out in range(channelsOut):\n",
        "                            # Retrieve the image pixel and the weight from the convolution\n",
        "                            this_pixel_value = image[0, c_in, c_y * stride + c_kernel_y, c_x * stride + c_kernel_x]\n",
        "                            this_weight = weights[c_out, c_in, c_kernel_y, c_kernel_x]\n",
        "                            # Multiply these together and add to the output at this position\n",
        "                            out[0, c_out, c_y, c_x] += this_pixel_value * this_weight\n",
        "\n",
        "    return out"
      ]
    },
    {
      "cell_type": "code",
      "execution_count": null,
      "metadata": {
        "id": "FeJy6Bvozgxq"
      },
      "outputs": [],
      "source": [
        "# Set random seed so we always get same answer\n",
        "np.random.seed(1)\n",
        "n_batch = 1\n",
        "image_height = 12\n",
        "image_width = 10\n",
        "channels_in = 1\n",
        "kernel_size = 3\n",
        "channels_out = 1\n",
        "stride = 2\n",
        "\n",
        "# Create random input image\n",
        "input_image= np.random.normal(size=(n_batch, channels_in, image_height, image_width))\n",
        "# Create random convolution kernel weights\n",
        "conv_weights = np.random.normal(size=(channels_out, channels_in, kernel_size, kernel_size))\n",
        "\n",
        "# Perform convolution using PyTorch\n",
        "conv_results_pytorch = conv_pytorch(input_image, conv_weights, stride, pad=1)\n",
        "print(\"PyTorch Results\")\n",
        "print(conv_results_pytorch)\n",
        "\n",
        "# Perform convolution in numpy\n",
        "print(\"Your results\")\n",
        "conv_results_numpy = conv_numpy_2(input_image, conv_weights, stride, pad=1)\n",
        "print(conv_results_numpy)"
      ]
    },
    {
      "cell_type": "markdown",
      "metadata": {
        "id": "3flq1Wan2gX-"
      },
      "source": [
        "Now we'll introduce multiple input and output channels"
      ]
    },
    {
      "cell_type": "code",
      "execution_count": null,
      "metadata": {
        "id": "AvdRWGiU2ppX"
      },
      "outputs": [],
      "source": [
        "# Perform convolution in numpy\n",
        "def conv_numpy_3(image, weights, stride=1, pad=1):\n",
        "\n",
        "    # Perform zero padding\n",
        "    if pad != 0:\n",
        "        image = np.pad(image, ((0, 0), (0 ,0), (pad, pad), (pad, pad)),'constant')\n",
        "\n",
        "    # Get sizes of image array and kernel weights\n",
        "    batchSize,  channelsIn, imageHeightIn, imageWidthIn = image.shape\n",
        "    channelsOut, channelsIn, kernelHeight, kernelWidth = weights.shape\n",
        "\n",
        "    # Get size of output arrays\n",
        "    imageHeightOut = np.floor(1 + (imageHeightIn - kernelHeight) / stride).astype(int)\n",
        "    imageWidthOut = np.floor(1 + (imageWidthIn - kernelWidth) / stride).astype(int)\n",
        "\n",
        "    # Create output\n",
        "    out = np.zeros((batchSize, channelsOut, imageHeightOut, imageWidthOut), dtype=np.float32)\n",
        "\n",
        "    for c_y in range(imageHeightOut):\n",
        "      for c_x in range(imageWidthOut):\n",
        "        for c_channel_out in range(channelsOut):\n",
        "          for c_channel_in in range(channelsIn):\n",
        "            for c_kernel_y in range(kernelHeight):\n",
        "              for c_kernel_x in range(kernelWidth):\n",
        "                  # TODO -- Retrieve the image pixel and the weight from the convolution\n",
        "                  # Only one image in batch so this index should be zero\n",
        "                  # Replace the two lines below\n",
        "                  this_pixel_value = 1.0\n",
        "                  this_weight = 1.0\n",
        "\n",
        "                  # Multiply these together and add to the output at this position\n",
        "                  out[0, c_channel_out, c_y, c_x] += np.sum(this_pixel_value * this_weight)\n",
        "    return out"
      ]
    },
    {
      "cell_type": "code",
      "execution_count": null,
      "metadata": {
        "id": "mdSmjfvY4li2"
      },
      "outputs": [],
      "source": [
        "# Set random seed so we always get same answer\n",
        "np.random.seed(1)\n",
        "n_batch = 1\n",
        "image_height = 4\n",
        "image_width = 6\n",
        "channels_in = 5\n",
        "kernel_size = 3\n",
        "channels_out = 2\n",
        "\n",
        "# Create random input image\n",
        "input_image= np.random.normal(size=(n_batch, channels_in, image_height, image_width))\n",
        "# Create random convolution kernel weights\n",
        "conv_weights = np.random.normal(size=(channels_out, channels_in, kernel_size, kernel_size))\n",
        "\n",
        "# Perform convolution using PyTorch\n",
        "conv_results_pytorch = conv_pytorch(input_image, conv_weights, stride=1, pad=1)\n",
        "print(\"PyTorch Results\")\n",
        "print(conv_results_pytorch)\n",
        "\n",
        "# Perform convolution in numpy\n",
        "print(\"Your results\")\n",
        "conv_results_numpy = conv_numpy_3(input_image, conv_weights, stride=1, pad=1)\n",
        "print(conv_results_numpy)"
      ]
    },
    {
      "cell_type": "markdown",
      "metadata": {
        "id": "Q2MUFebdsJbH"
      },
      "source": [
        "Now we'll do the full convolution with multiple images (batch size > 1), and multiple input channels, multiple output channels."
      ]
    },
    {
      "cell_type": "code",
      "execution_count": null,
      "metadata": {
        "id": "5WePF-Y-sC1y"
      },
      "outputs": [],
      "source": [
        "# Perform convolution in numpy\n",
        "def conv_numpy_4(image, weights, stride=1, pad=1):\n",
        "\n",
        "    # Perform zero padding\n",
        "    if pad != 0:\n",
        "        image = np.pad(image, ((0, 0), (0 ,0), (pad, pad), (pad, pad)),'constant')\n",
        "\n",
        "    # Get sizes of image array and kernel weights\n",
        "    batchSize,  channelsIn, imageHeightIn, imageWidthIn = image.shape\n",
        "    channelsOut, channelsIn, kernelHeight, kernelWidth = weights.shape\n",
        "\n",
        "    # Get size of output arrays\n",
        "    imageHeightOut = np.floor(1 + (imageHeightIn - kernelHeight) / stride).astype(int)\n",
        "    imageWidthOut = np.floor(1 + (imageWidthIn - kernelWidth) / stride).astype(int)\n",
        "\n",
        "    # Create output\n",
        "    out = np.zeros((batchSize, channelsOut, imageHeightOut, imageWidthOut), dtype=np.float32)\n",
        "\n",
        "    for c_batch in range(batchSize):\n",
        "      for c_y in range(imageHeightOut):\n",
        "        for c_x in range(imageWidthOut):\n",
        "          for c_channel_out in range(channelsOut):\n",
        "            for c_channel_in in range(channelsIn):\n",
        "              for c_kernel_y in range(kernelHeight):\n",
        "                for c_kernel_x in range(kernelWidth):\n",
        "                    # TODO -- Retrieve the image pixel and the weight from the convolution\n",
        "                    # Replace the two lines below\n",
        "                    this_pixel_value = 1.0\n",
        "                    this_weight = 1.0\n",
        "\n",
        "\n",
        "\n",
        "                    # Multiply these together and add to the output at this position\n",
        "                    out[c_batch, c_channel_out, c_y, c_x] += np.sum(this_pixel_value * this_weight)\n",
        "    return out"
      ]
    },
    {
      "cell_type": "code",
      "execution_count": null,
      "metadata": {
        "id": "1w2GEBtqAM2P"
      },
      "outputs": [],
      "source": [
        "# Set random seed so we always get same answer\n",
        "np.random.seed(1)\n",
        "n_batch = 2\n",
        "image_height = 4\n",
        "image_width = 6\n",
        "channels_in = 5\n",
        "kernel_size = 3\n",
        "channels_out = 2\n",
        "\n",
        "# Create random input image\n",
        "input_image= np.random.normal(size=(n_batch, channels_in, image_height, image_width))\n",
        "# Create random convolution kernel weights\n",
        "conv_weights = np.random.normal(size=(channels_out, channels_in, kernel_size, kernel_size))\n",
        "\n",
        "# Perform convolution using PyTorch\n",
        "conv_results_pytorch = conv_pytorch(input_image, conv_weights, stride=1, pad=1)\n",
        "print(\"PyTorch Results\")\n",
        "print(conv_results_pytorch)\n",
        "\n",
        "# Perform convolution in numpy\n",
        "print(\"Your results\")\n",
        "conv_results_numpy = conv_numpy_4(input_image, conv_weights, stride=1, pad=1)\n",
        "print(conv_results_numpy)"
      ]
    }
  ],
  "metadata": {
    "colab": {
      "authorship_tag": "ABX9TyNDaU2KKZDyY9Ea7vm/fNxo",
      "include_colab_link": true,
      "provenance": []
    },
    "kernelspec": {
      "display_name": "Python 3",
      "name": "python3"
    },
    "language_info": {
      "codemirror_mode": {
        "name": "ipython",
        "version": 3
      },
      "file_extension": ".py",
      "mimetype": "text/x-python",
      "name": "python",
      "nbconvert_exporter": "python",
      "pygments_lexer": "ipython3",
      "version": "3.11.5"
    }
  },
  "nbformat": 4,
  "nbformat_minor": 0
}
