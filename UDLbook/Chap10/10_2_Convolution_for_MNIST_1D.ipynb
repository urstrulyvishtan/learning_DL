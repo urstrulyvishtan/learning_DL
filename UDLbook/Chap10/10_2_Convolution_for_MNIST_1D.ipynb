{
  "cells": [
    {
      "cell_type": "markdown",
      "metadata": {
        "colab_type": "text",
        "id": "view-in-github"
      },
      "source": [
        "<a href=\"https://colab.research.google.com/github/udlbook/udlbook/blob/main/Notebooks/Chap10/10_2_Convolution_for_MNIST_1D.ipynb\" target=\"_parent\"><img src=\"https://colab.research.google.com/assets/colab-badge.svg\" alt=\"Open In Colab\"/></a>"
      ]
    },
    {
      "cell_type": "markdown",
      "metadata": {
        "id": "t9vk9Elugvmi"
      },
      "source": [
        "# **Notebook 10.2: Convolution for MNIST-1D**\n",
        "\n",
        "This notebook investigates a 1D convolutional network for MNIST-1D as in figure 10.7 and 10.8a.\n",
        "\n",
        "Work through the cells below, running each cell in turn. In various places you will see the words \"TO DO\". Follow the instructions at these places and make predictions about what is going to happen or write code to complete the functions.\n",
        "\n",
        "Contact me at udlbookmail@gmail.com if you find any mistakes or have any suggestions.\n",
        "\n"
      ]
    },
    {
      "cell_type": "code",
      "execution_count": null,
      "metadata": {
        "id": "D5yLObtZCi9J"
      },
      "outputs": [],
      "source": [
        "# Run this if you're in a Colab to make a local copy of the MNIST 1D repository\n",
        "!git clone https://github.com/greydanus/mnist1d"
      ]
    },
    {
      "cell_type": "code",
      "execution_count": 1,
      "metadata": {
        "id": "YrXWAH7sUWvU"
      },
      "outputs": [],
      "source": [
        "import numpy as np\n",
        "import os\n",
        "import torch, torch.nn as nn\n",
        "from torch.utils.data import TensorDataset, DataLoader\n",
        "from torch.optim.lr_scheduler import StepLR\n",
        "import matplotlib.pyplot as plt\n",
        "import mnist1d\n",
        "import random"
      ]
    },
    {
      "cell_type": "code",
      "execution_count": 2,
      "metadata": {
        "id": "twI72ZCrCt5z"
      },
      "outputs": [
        {
          "name": "stdout",
          "output_type": "stream",
          "text": [
            "Did or could not load data from ./mnist1d_data.pkl. Rebuilding dataset...\n",
            "Examples in training set: 4000\n",
            "Examples in test set: 1000\n",
            "Length of each example: 40\n"
          ]
        }
      ],
      "source": [
        "args = mnist1d.data.get_dataset_args()\n",
        "data = mnist1d.data.get_dataset(args, path='./mnist1d_data.pkl', download=False, regenerate=False)\n",
        "\n",
        "# The training and test input and outputs are in\n",
        "# data['x'], data['y'], data['x_test'], and data['y_test']\n",
        "print(\"Examples in training set: {}\".format(len(data['y'])))\n",
        "print(\"Examples in test set: {}\".format(len(data['y_test'])))\n",
        "print(\"Length of each example: {}\".format(data['x'].shape[-1]))"
      ]
    },
    {
      "cell_type": "code",
      "execution_count": 3,
      "metadata": {
        "id": "8bKADvLHbiV5"
      },
      "outputs": [
        {
          "name": "stdout",
          "output_type": "stream",
          "text": [
            "Train data: 4000 examples (columns), each of which has 40 dimensions (rows)\n",
            "Validation data: 1000 examples (columns), each of which has 40 dimensions (rows)\n"
          ]
        }
      ],
      "source": [
        "# Load in the data\n",
        "train_data_x = data['x'].transpose()\n",
        "train_data_y = data['y']\n",
        "val_data_x = data['x_test'].transpose()\n",
        "val_data_y = data['y_test']\n",
        "# Print out sizes\n",
        "print(\"Train data: %d examples (columns), each of which has %d dimensions (rows)\"%((train_data_x.shape[1],train_data_x.shape[0])))\n",
        "print(\"Validation data: %d examples (columns), each of which has %d dimensions (rows)\"%((val_data_x.shape[1],val_data_x.shape[0])))"
      ]
    },
    {
      "cell_type": "markdown",
      "metadata": {
        "id": "_sFvRDGrl4qe"
      },
      "source": [
        "Define the network"
      ]
    },
    {
      "cell_type": "code",
      "execution_count": 4,
      "metadata": {
        "id": "FslroPJJffrh"
      },
      "outputs": [
        {
          "name": "stdout",
          "output_type": "stream",
          "text": [
            "Sequential(\n",
            "  (0): Conv1d(1, 15, kernel_size=(3,), stride=(2,))\n",
            "  (1): ReLU()\n",
            "  (2): Conv1d(15, 15, kernel_size=(3,), stride=(2,))\n",
            "  (3): ReLU()\n",
            "  (4): Conv1d(15, 15, kernel_size=(3,), stride=(2,))\n",
            "  (5): ReLU()\n",
            "  (6): Flatten(start_dim=1, end_dim=-1)\n",
            "  (7): Linear(in_features=60, out_features=10, bias=True)\n",
            ")\n"
          ]
        }
      ],
      "source": [
        "# There are 40 input dimensions and 10 output dimensions for this data\n",
        "# The inputs correspond to the 40 offsets in the MNIST1D template.\n",
        "D_i = 40\n",
        "# The outputs correspond to the 10 digits\n",
        "D_o = 10\n",
        "\n",
        "\n",
        "# TODO Create a model with the following layers\n",
        "# 1. Convolutional layer, (input=length 40 and 1 channel, kernel size 3, stride 2, padding=\"valid\", 15 output channels )\n",
        "# 2. ReLU\n",
        "# 3. Convolutional layer, (input=length 19 and 15 channels, kernel size 3, stride 2, padding=\"valid\", 15 output channels )\n",
        "# 4. ReLU\n",
        "# 5. Convolutional layer, (input=length 9 and 15 channels, kernel size 3, stride 2, padding=\"valid\", 15 output channels)\n",
        "# 6. ReLU\n",
        "# 7. Flatten (converts 4x15) to length 60\n",
        "# 8. Linear layer (input size = 60, output size = 10)\n",
        "# References:\n",
        "# https://pytorch.org/docs/1.13/generated/torch.nn.Conv1d.html?highlight=conv1d#torch.nn.Conv1d\n",
        "# https://pytorch.org/docs/stable/generated/torch.nn.Flatten.html\n",
        "# https://pytorch.org/docs/1.13/generated/torch.nn.Linear.html?highlight=linear#torch.nn.Linear\n",
        "\n",
        "# NOTE THAT THE CONVOLUTIONAL LAYERS NEED TO TAKE THE NUMBER OF INPUT CHANNELS AS A PARAMETER\n",
        "# AND NOT THE INPUT SIZE.\n",
        "\n",
        "# Replace the following function:\n",
        "# Define the model\n",
        "model = nn.Sequential(\n",
        "    nn.Conv1d(in_channels=1, out_channels=15, kernel_size=3, stride=2, padding=0),  # Layer 1\n",
        "    nn.ReLU(),  # Layer 2\n",
        "    nn.Conv1d(in_channels=15, out_channels=15, kernel_size=3, stride=2, padding=0),  # Layer 3\n",
        "    nn.ReLU(),  # Layer 4\n",
        "    nn.Conv1d(in_channels=15, out_channels=15, kernel_size=3, stride=2, padding=0),  # Layer 5\n",
        "    nn.ReLU(),  # Layer 6\n",
        "    nn.Flatten(),  # Layer 7\n",
        "    nn.Linear(in_features=60, out_features=10)  # Layer 8\n",
        ")\n",
        "\n",
        "# Print the model to verify the structure\n",
        "print(model)"
      ]
    },
    {
      "cell_type": "code",
      "execution_count": 5,
      "metadata": {
        "id": "YgLaex1pfhqz"
      },
      "outputs": [],
      "source": [
        "# He initialization of weights\n",
        "def weights_init(layer_in):\n",
        "  if isinstance(layer_in, nn.Linear):\n",
        "    nn.init.kaiming_uniform_(layer_in.weight)\n",
        "    layer_in.bias.data.fill_(0.0)"
      ]
    },
    {
      "cell_type": "code",
      "execution_count": 6,
      "metadata": {
        "id": "NYw8I_3mmX5c"
      },
      "outputs": [
        {
          "name": "stdout",
          "output_type": "stream",
          "text": [
            "Epoch     0, train loss 1.792024, train error 72.00,  val loss 1.805892, percent error 73.90\n",
            "Epoch     1, train loss 1.493644, train error 58.80,  val loss 1.516834, percent error 63.00\n",
            "Epoch     2, train loss 1.383072, train error 57.90,  val loss 1.400380, percent error 59.20\n",
            "Epoch     3, train loss 1.268558, train error 50.60,  val loss 1.278019, percent error 53.70\n",
            "Epoch     4, train loss 1.202517, train error 46.47,  val loss 1.222411, percent error 50.20\n",
            "Epoch     5, train loss 1.123860, train error 44.25,  val loss 1.149405, percent error 47.60\n",
            "Epoch     6, train loss 1.028261, train error 41.15,  val loss 1.065421, percent error 45.60\n",
            "Epoch     7, train loss 0.922819, train error 35.68,  val loss 0.986830, percent error 39.70\n",
            "Epoch     8, train loss 0.871854, train error 34.55,  val loss 0.919399, percent error 38.60\n",
            "Epoch     9, train loss 0.760459, train error 29.65,  val loss 0.849502, percent error 33.00\n",
            "Epoch    10, train loss 0.720540, train error 27.47,  val loss 0.809123, percent error 31.40\n",
            "Epoch    11, train loss 0.687955, train error 27.80,  val loss 0.801076, percent error 31.20\n",
            "Epoch    12, train loss 0.620514, train error 24.75,  val loss 0.716938, percent error 28.10\n",
            "Epoch    13, train loss 0.543626, train error 20.60,  val loss 0.640329, percent error 24.30\n",
            "Epoch    14, train loss 0.552293, train error 21.35,  val loss 0.645605, percent error 24.60\n",
            "Epoch    15, train loss 0.482593, train error 18.97,  val loss 0.600799, percent error 23.30\n",
            "Epoch    16, train loss 0.428127, train error 16.68,  val loss 0.548938, percent error 20.70\n",
            "Epoch    17, train loss 0.480495, train error 17.30,  val loss 0.599904, percent error 22.10\n",
            "Epoch    18, train loss 0.348881, train error 12.25,  val loss 0.455311, percent error 17.30\n",
            "Epoch    19, train loss 0.326605, train error 12.12,  val loss 0.470681, percent error 17.50\n",
            "Epoch    20, train loss 0.290873, train error 10.88,  val loss 0.423604, percent error 15.50\n",
            "Epoch    21, train loss 0.266840, train error 9.75,  val loss 0.427548, percent error 15.90\n",
            "Epoch    22, train loss 0.263460, train error 9.25,  val loss 0.392386, percent error 13.80\n",
            "Epoch    23, train loss 0.224401, train error 7.68,  val loss 0.376068, percent error 12.70\n",
            "Epoch    24, train loss 0.223465, train error 8.20,  val loss 0.392900, percent error 13.30\n",
            "Epoch    25, train loss 0.223877, train error 7.47,  val loss 0.383190, percent error 13.60\n",
            "Epoch    26, train loss 0.199551, train error 6.57,  val loss 0.330321, percent error 11.20\n",
            "Epoch    27, train loss 0.242402, train error 8.90,  val loss 0.405584, percent error 14.50\n",
            "Epoch    28, train loss 0.184380, train error 6.20,  val loss 0.345033, percent error 12.00\n",
            "Epoch    29, train loss 0.192185, train error 6.38,  val loss 0.344863, percent error 10.90\n",
            "Epoch    30, train loss 0.171472, train error 5.68,  val loss 0.318663, percent error 10.90\n",
            "Epoch    31, train loss 0.153986, train error 5.15,  val loss 0.325027, percent error 10.10\n",
            "Epoch    32, train loss 0.146968, train error 4.72,  val loss 0.310827, percent error 9.90\n",
            "Epoch    33, train loss 0.148301, train error 4.97,  val loss 0.347823, percent error 11.70\n",
            "Epoch    34, train loss 0.133450, train error 4.60,  val loss 0.329419, percent error 10.90\n",
            "Epoch    35, train loss 0.134772, train error 4.38,  val loss 0.309350, percent error 9.90\n",
            "Epoch    36, train loss 0.121981, train error 3.75,  val loss 0.322661, percent error 9.50\n",
            "Epoch    37, train loss 0.142049, train error 4.82,  val loss 0.337671, percent error 10.50\n",
            "Epoch    38, train loss 0.106287, train error 3.18,  val loss 0.309277, percent error 9.10\n",
            "Epoch    39, train loss 0.113799, train error 3.82,  val loss 0.316921, percent error 9.00\n",
            "Epoch    40, train loss 0.089773, train error 2.50,  val loss 0.300447, percent error 9.40\n",
            "Epoch    41, train loss 0.089510, train error 2.68,  val loss 0.312773, percent error 8.80\n",
            "Epoch    42, train loss 0.086346, train error 2.55,  val loss 0.305369, percent error 9.20\n",
            "Epoch    43, train loss 0.085289, train error 2.50,  val loss 0.305392, percent error 9.10\n",
            "Epoch    44, train loss 0.076914, train error 2.07,  val loss 0.298701, percent error 9.10\n",
            "Epoch    45, train loss 0.085898, train error 2.72,  val loss 0.314148, percent error 8.90\n",
            "Epoch    46, train loss 0.083270, train error 2.45,  val loss 0.331792, percent error 9.50\n",
            "Epoch    47, train loss 0.071412, train error 2.00,  val loss 0.304849, percent error 8.90\n",
            "Epoch    48, train loss 0.071771, train error 2.07,  val loss 0.305950, percent error 8.60\n",
            "Epoch    49, train loss 0.075123, train error 2.10,  val loss 0.333720, percent error 9.10\n",
            "Epoch    50, train loss 0.073756, train error 2.10,  val loss 0.321202, percent error 9.40\n",
            "Epoch    51, train loss 0.072438, train error 2.10,  val loss 0.329200, percent error 9.20\n",
            "Epoch    52, train loss 0.068141, train error 1.80,  val loss 0.315365, percent error 9.00\n",
            "Epoch    53, train loss 0.067917, train error 2.07,  val loss 0.321202, percent error 9.30\n",
            "Epoch    54, train loss 0.065406, train error 1.78,  val loss 0.318379, percent error 9.30\n",
            "Epoch    55, train loss 0.066120, train error 2.03,  val loss 0.329655, percent error 9.70\n",
            "Epoch    56, train loss 0.083924, train error 2.78,  val loss 0.340256, percent error 10.00\n",
            "Epoch    57, train loss 0.062160, train error 1.72,  val loss 0.328620, percent error 9.50\n",
            "Epoch    58, train loss 0.064440, train error 1.80,  val loss 0.348670, percent error 9.80\n",
            "Epoch    59, train loss 0.059845, train error 1.55,  val loss 0.324946, percent error 9.20\n",
            "Epoch    60, train loss 0.052895, train error 1.35,  val loss 0.331095, percent error 9.20\n",
            "Epoch    61, train loss 0.049936, train error 1.18,  val loss 0.334972, percent error 9.10\n",
            "Epoch    62, train loss 0.051027, train error 1.22,  val loss 0.331287, percent error 9.20\n",
            "Epoch    63, train loss 0.050661, train error 1.25,  val loss 0.338465, percent error 9.00\n",
            "Epoch    64, train loss 0.049254, train error 1.32,  val loss 0.335848, percent error 9.30\n",
            "Epoch    65, train loss 0.047262, train error 1.05,  val loss 0.331587, percent error 8.80\n",
            "Epoch    66, train loss 0.046444, train error 1.05,  val loss 0.337481, percent error 9.20\n",
            "Epoch    67, train loss 0.047563, train error 1.10,  val loss 0.339864, percent error 9.10\n",
            "Epoch    68, train loss 0.046459, train error 1.10,  val loss 0.337489, percent error 9.00\n",
            "Epoch    69, train loss 0.045456, train error 1.00,  val loss 0.343522, percent error 9.60\n",
            "Epoch    70, train loss 0.045474, train error 1.07,  val loss 0.343233, percent error 9.30\n",
            "Epoch    71, train loss 0.045196, train error 1.18,  val loss 0.338812, percent error 9.40\n",
            "Epoch    72, train loss 0.044258, train error 0.90,  val loss 0.346745, percent error 9.50\n",
            "Epoch    73, train loss 0.043381, train error 0.93,  val loss 0.349592, percent error 9.20\n",
            "Epoch    74, train loss 0.043228, train error 1.07,  val loss 0.354722, percent error 9.40\n",
            "Epoch    75, train loss 0.047400, train error 1.20,  val loss 0.358335, percent error 9.40\n",
            "Epoch    76, train loss 0.041341, train error 1.00,  val loss 0.347717, percent error 9.50\n",
            "Epoch    77, train loss 0.042304, train error 1.05,  val loss 0.347729, percent error 9.50\n",
            "Epoch    78, train loss 0.041882, train error 0.82,  val loss 0.352599, percent error 9.30\n",
            "Epoch    79, train loss 0.040282, train error 0.93,  val loss 0.347051, percent error 9.20\n",
            "Epoch    80, train loss 0.038997, train error 0.85,  val loss 0.349647, percent error 9.20\n",
            "Epoch    81, train loss 0.038789, train error 0.80,  val loss 0.353509, percent error 9.10\n",
            "Epoch    82, train loss 0.039177, train error 0.82,  val loss 0.350347, percent error 9.20\n",
            "Epoch    83, train loss 0.039494, train error 0.82,  val loss 0.357179, percent error 9.20\n",
            "Epoch    84, train loss 0.038321, train error 0.88,  val loss 0.356751, percent error 9.70\n",
            "Epoch    85, train loss 0.038537, train error 0.82,  val loss 0.360393, percent error 9.30\n",
            "Epoch    86, train loss 0.037789, train error 0.78,  val loss 0.354313, percent error 9.40\n",
            "Epoch    87, train loss 0.037902, train error 0.72,  val loss 0.353741, percent error 9.50\n",
            "Epoch    88, train loss 0.038711, train error 0.97,  val loss 0.361954, percent error 9.50\n",
            "Epoch    89, train loss 0.037476, train error 0.88,  val loss 0.359195, percent error 9.40\n",
            "Epoch    90, train loss 0.036968, train error 0.80,  val loss 0.357293, percent error 9.20\n",
            "Epoch    91, train loss 0.036502, train error 0.75,  val loss 0.361058, percent error 9.40\n",
            "Epoch    92, train loss 0.036297, train error 0.68,  val loss 0.359477, percent error 9.20\n",
            "Epoch    93, train loss 0.036464, train error 0.75,  val loss 0.363579, percent error 9.40\n",
            "Epoch    94, train loss 0.035712, train error 0.75,  val loss 0.363047, percent error 9.10\n",
            "Epoch    95, train loss 0.035885, train error 0.70,  val loss 0.362632, percent error 9.30\n",
            "Epoch    96, train loss 0.036474, train error 0.62,  val loss 0.369497, percent error 9.30\n",
            "Epoch    97, train loss 0.035297, train error 0.72,  val loss 0.365625, percent error 9.50\n",
            "Epoch    98, train loss 0.035337, train error 0.72,  val loss 0.367479, percent error 9.40\n",
            "Epoch    99, train loss 0.035190, train error 0.62,  val loss 0.364966, percent error 9.30\n"
          ]
        },
        {
          "data": {
            "image/png": "[encoded data removed]",
            "text/plain": [
              "<Figure size 640x480 with 1 Axes>"
            ]
          },
          "metadata": {},
          "output_type": "display_data"
        }
      ],
      "source": [
        "# choose cross entropy loss function (equation 5.24 in the loss notes)\n",
        "loss_function = nn.CrossEntropyLoss()\n",
        "# construct SGD optimizer and initialize learning rate and momentum\n",
        "optimizer = torch.optim.SGD(model.parameters(), lr = 0.05, momentum=0.9)\n",
        "# object that decreases learning rate by half every 20 epochs\n",
        "scheduler = StepLR(optimizer, step_size=20, gamma=0.5)\n",
        "# create 100 dummy data points and store in data loader class\n",
        "x_train = torch.tensor(train_data_x.transpose().astype('float32'))\n",
        "y_train = torch.tensor(train_data_y.astype('long')).long()\n",
        "x_val= torch.tensor(val_data_x.transpose().astype('float32'))\n",
        "y_val = torch.tensor(val_data_y.astype('long')).long()\n",
        "\n",
        "# load the data into a class that creates the batches\n",
        "data_loader = DataLoader(TensorDataset(x_train,y_train), batch_size=100, shuffle=True, worker_init_fn=np.random.seed(1))\n",
        "\n",
        "# Initialize model weights\n",
        "model.apply(weights_init)\n",
        "\n",
        "# loop over the dataset n_epoch times\n",
        "n_epoch = 100\n",
        "# store the loss and the % correct at each epoch\n",
        "losses_train = np.zeros((n_epoch))\n",
        "errors_train = np.zeros((n_epoch))\n",
        "losses_val = np.zeros((n_epoch))\n",
        "errors_val = np.zeros((n_epoch))\n",
        "\n",
        "for epoch in range(n_epoch):\n",
        "  # loop over batches\n",
        "  for i, data in enumerate(data_loader):\n",
        "    # retrieve inputs and labels for this batch\n",
        "    x_batch, y_batch = data\n",
        "    # zero the parameter gradients\n",
        "    optimizer.zero_grad()\n",
        "    # forward pass -- calculate model output\n",
        "    pred = model(x_batch[:,None,:])\n",
        "    # compute the loss\n",
        "    loss = loss_function(pred, y_batch)\n",
        "    # backward pass\n",
        "    loss.backward()\n",
        "    # SGD update\n",
        "    optimizer.step()\n",
        "\n",
        "  # Run whole dataset to get statistics -- normally wouldn't do this\n",
        "  pred_train = model(x_train[:,None,:])\n",
        "  pred_val = model(x_val[:,None,:])\n",
        "  _, predicted_train_class = torch.max(pred_train.data, 1)\n",
        "  _, predicted_val_class = torch.max(pred_val.data, 1)\n",
        "  errors_train[epoch] = 100 - 100 * (predicted_train_class == y_train).float().sum() / len(y_train)\n",
        "  errors_val[epoch]= 100 - 100 * (predicted_val_class == y_val).float().sum() / len(y_val)\n",
        "  losses_train[epoch] = loss_function(pred_train, y_train).item()\n",
        "  losses_val[epoch]= loss_function(pred_val, y_val).item()\n",
        "  print(f'Epoch {epoch:5d}, train loss {losses_train[epoch]:.6f}, train error {errors_train[epoch]:3.2f},  val loss {losses_val[epoch]:.6f}, percent error {errors_val[epoch]:3.2f}')\n",
        "\n",
        "  # tell scheduler to consider updating learning rate\n",
        "  scheduler.step()\n",
        "\n",
        "# Plot the results\n",
        "fig, ax = plt.subplots()\n",
        "ax.plot(errors_train,'r-',label='train')\n",
        "ax.plot(errors_val,'b-',label='validation')\n",
        "ax.set_ylim(0,100); ax.set_xlim(0,n_epoch)\n",
        "ax.set_xlabel('Epoch'); ax.set_ylabel('Error')\n",
        "ax.set_title('Part I: Validation Result %3.2f'%(errors_val[-1]))\n",
        "ax.legend()\n",
        "plt.show()"
      ]
    }
  ],
  "metadata": {
    "colab": {
      "authorship_tag": "ABX9TyNJodaaCLMRWL9vTl8B/iLI",
      "include_colab_link": true,
      "provenance": []
    },
    "kernelspec": {
      "display_name": "Python 3",
      "name": "python3"
    },
    "language_info": {
      "codemirror_mode": {
        "name": "ipython",
        "version": 3
      },
      "file_extension": ".py",
      "mimetype": "text/x-python",
      "name": "python",
      "nbconvert_exporter": "python",
      "pygments_lexer": "ipython3",
      "version": "3.11.5"
    }
  },
  "nbformat": 4,
  "nbformat_minor": 0
}
