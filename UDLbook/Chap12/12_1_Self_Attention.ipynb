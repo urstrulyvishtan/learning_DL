{
  "cells": [
    {
      "cell_type": "markdown",
      "metadata": {
        "colab_type": "text",
        "id": "view-in-github"
      },
      "source": [
        "<a href=\"https://colab.research.google.com/github/udlbook/udlbook/blob/main/Notebooks/Chap12/12_1_Self_Attention.ipynb\" target=\"_parent\"><img src=\"https://colab.research.google.com/assets/colab-badge.svg\" alt=\"Open In Colab\"/></a>"
      ]
    },
    {
      "cell_type": "markdown",
      "metadata": {
        "id": "t9vk9Elugvmi"
      },
      "source": [
        "# **Notebook 12.1: Self Attention**\n",
        "\n",
        "This notebook builds a self-attention mechanism from scratch, as discussed in section 12.2 of the book.\n",
        "\n",
        "Work through the cells below, running each cell in turn. In various places you will see the words \"TO DO\". Follow the instructions at these places and make predictions about what is going to happen or write code to complete the functions.\n",
        "\n",
        "Contact me at udlbookmail@gmail.com if you find any mistakes or have any suggestions.\n",
        "\n"
      ]
    },
    {
      "cell_type": "code",
      "execution_count": 1,
      "metadata": {
        "id": "OLComQyvCIJ7"
      },
      "outputs": [],
      "source": [
        "import numpy as np\n",
        "import matplotlib.pyplot as plt"
      ]
    },
    {
      "cell_type": "markdown",
      "metadata": {
        "id": "9OJkkoNqCVK2"
      },
      "source": [
        "The self-attention mechanism maps $N$ inputs $\\mathbf{x}_{n}\\in\\mathbb{R}^{D}$ and returns $N$ outputs $\\mathbf{x}'_{n}\\in \\mathbb{R}^{D}$.  \n",
        "\n"
      ]
    },
    {
      "cell_type": "code",
      "execution_count": 2,
      "metadata": {
        "id": "oAygJwLiCSri"
      },
      "outputs": [
        {
          "name": "stdout",
          "output_type": "stream",
          "text": [
            "[array([[ 1.78862847],\n",
            "       [ 0.43650985],\n",
            "       [ 0.09649747],\n",
            "       [-1.8634927 ]]), array([[-0.2773882 ],\n",
            "       [-0.35475898],\n",
            "       [-0.08274148],\n",
            "       [-0.62700068]]), array([[-0.04381817],\n",
            "       [-0.47721803],\n",
            "       [-1.31386475],\n",
            "       [ 0.88462238]])]\n"
          ]
        }
      ],
      "source": [
        "# Set seed so we get the same random numbers\n",
        "np.random.seed(3)\n",
        "# Number of inputs\n",
        "N = 3\n",
        "# Number of dimensions of each input\n",
        "D = 4\n",
        "# Create an empty list\n",
        "all_x = []\n",
        "# Create elements x_n and append to list\n",
        "for n in range(N):\n",
        "  all_x.append(np.random.normal(size=(D,1)))\n",
        "# Print out the list\n",
        "print(all_x)\n"
      ]
    },
    {
      "cell_type": "markdown",
      "metadata": {
        "id": "W2iHFbtKMaDp"
      },
      "source": [
        "We'll also need the weights and biases for the keys, queries, and values (equations 12.2 and 12.4)"
      ]
    },
    {
      "cell_type": "code",
      "execution_count": 3,
      "metadata": {
        "id": "79TSK7oLMobe"
      },
      "outputs": [],
      "source": [
        "# Set seed so we get the same random numbers\n",
        "np.random.seed(0)\n",
        "\n",
        "# Choose random values for the parameters\n",
        "omega_q = np.random.normal(size=(D,D))\n",
        "omega_k = np.random.normal(size=(D,D))\n",
        "omega_v = np.random.normal(size=(D,D))\n",
        "beta_q = np.random.normal(size=(D,1))\n",
        "beta_k = np.random.normal(size=(D,1))\n",
        "beta_v = np.random.normal(size=(D,1))"
      ]
    },
    {
      "cell_type": "markdown",
      "metadata": {
        "id": "VxaKQtP3Ng6R"
      },
      "source": [
        "Now let's compute the queries, keys, and values for each input"
      ]
    },
    {
      "cell_type": "code",
      "execution_count": 4,
      "metadata": {
        "id": "TwDK2tfdNmw9"
      },
      "outputs": [],
      "source": [
        "# Make three lists to store queries, keys, and values\n",
        "all_queries = []\n",
        "all_keys = []\n",
        "all_values = []\n",
        "# For every input\n",
        "for x in all_x:\n",
        "  # TODO -- compute the keys, queries and values.\n",
        "  # Replace these three lines\n",
        "  query = beta_q + omega_q * x\n",
        "  key = beta_k + omega_k * x\n",
        "  value = beta_v + omega_v * x\n",
        "\n",
        "  all_queries.append(query)\n",
        "  all_keys.append(key)\n",
        "  all_values.append(value)"
      ]
    },
    {
      "cell_type": "markdown",
      "metadata": {
        "id": "Se7DK6PGPSUk"
      },
      "source": [
        "We'll need a softmax function (equation 12.5) -- here, it will take a list of arbitrary numbers and return a list where the elements are non-negative and sum to one\n"
      ]
    },
    {
      "cell_type": "code",
      "execution_count": 5,
      "metadata": {
        "id": "u93LIcE5PoiM"
      },
      "outputs": [],
      "source": [
        "def softmax(items_in):\n",
        "\n",
        "  # TODO Compute the elements of items_out\n",
        "  # Replace this line\n",
        "  items_out = np.exp(items_in) / np.sum(np.exp(items_in))\n",
        "\n",
        "  return items_out ;"
      ]
    },
    {
      "cell_type": "markdown",
      "metadata": {
        "id": "8aJVhbKDW7lm"
      },
      "source": [
        "Now compute the self attention values:"
      ]
    },
    {
      "cell_type": "code",
      "execution_count": 7,
      "metadata": {
        "id": "yimz-5nCW6vQ"
      },
      "outputs": [
        {
          "name": "stdout",
          "output_type": "stream",
          "text": [
            "Attentions for output  0\n",
            "[[[1.05452231e-01 2.77444684e-03 8.58544788e-04 3.53157363e-05]\n",
            "  [5.22972089e-04 4.54114587e-03 2.43569812e-03 2.37181694e-02]\n",
            "  [3.03643000e-03 3.46497119e-03 1.19971196e-03 9.58857882e-04]\n",
            "  [7.49527545e-01 4.47541089e-04 2.02370590e-03 1.86277840e-05]]\n",
            "\n",
            " [[6.25819474e-04 4.73528276e-04 1.73477864e-04 4.57296685e-04]\n",
            "  [4.41249278e-03 4.62292217e-03 7.00187738e-03 3.49763990e-03]\n",
            "  [1.86083740e-03 1.18120985e-03 8.85495462e-04 1.08588271e-03]\n",
            "  [2.29409493e-04 7.64454926e-04 5.00689906e-04 9.44397900e-04]]\n",
            "\n",
            " [[1.48906454e-03 8.38424476e-06 1.50571531e-04 1.59880840e-04]\n",
            "  [4.18355958e-02 1.56609371e-03 7.64389219e-03 3.55191691e-03]\n",
            "  [8.80454986e-03 8.95967465e-05 8.29905605e-04 6.82953327e-04]\n",
            "  [2.32090363e-03 1.07012841e-04 6.06737741e-04 4.19593645e-04]]]\n",
            "Attentions for output  1\n",
            "[[[8.32622813e-05 1.98759851e-02 1.84036577e-03 2.90619381e-01]\n",
            "  [6.97337090e-06 2.30493590e-03 8.82336218e-04 2.64034781e-02]\n",
            "  [3.88269556e-05 7.77562819e-03 1.47323525e-03 1.08226875e-01]\n",
            "  [6.15414387e-06 6.46981192e-03 1.07099130e-03 1.21014820e-01]]\n",
            "\n",
            " [[1.13368928e-02 8.63230505e-03 1.29229479e-02 3.95405489e-03]\n",
            "  [4.93407952e-03 1.42861644e-03 2.62739453e-03 1.52578446e-03]\n",
            "  [7.65608316e-03 4.46814231e-03 7.47260480e-03 2.87137041e-03]\n",
            "  [9.38032729e-03 2.88608871e-03 5.28922459e-03 2.24076641e-03]]\n",
            "\n",
            " [[4.00320986e-02 1.71225704e-03 1.25119756e-02 4.30069817e-03]\n",
            "  [7.77087468e-02 5.79482094e-04 2.58776303e-03 2.10046144e-03]\n",
            "  [5.42086616e-02 1.28128292e-03 7.44938443e-03 3.43465438e-03]\n",
            "  [1.05525501e-01 7.83202907e-04 5.04240911e-03 3.02167725e-03]]]\n",
            "Attentions for output  2\n",
            "[[[4.95282699e-07 2.68573381e-05 6.08278049e-05 2.94818105e-03]\n",
            "  [8.67451129e-08 3.12734781e-05 1.92501117e-05 4.08300533e-04]\n",
            "  [3.62822000e-07 3.55580615e-05 4.15369683e-05 1.56025496e-03]\n",
            "  [8.78971265e-08 3.90312846e-05 2.79086110e-05 8.80976987e-04]]\n",
            "\n",
            " [[1.00080338e-04 1.30672810e-04 4.76458506e-04 1.24787238e-04]\n",
            "  [1.01955394e-04 2.32089872e-05 5.17158417e-05 3.19849605e-05]\n",
            "  [1.07060737e-04 7.72471472e-05 2.24099415e-04 7.87291185e-05]\n",
            "  [1.48976832e-04 3.37529293e-05 1.08432178e-04 4.95108281e-05]]\n",
            "\n",
            " [[3.82858834e-03 4.18327527e-04 6.33140125e-04 2.43365230e-04]\n",
            "  [1.08298319e-02 5.64958908e-06 5.43958350e-05 4.31980465e-05]\n",
            "  [6.15035456e-03 7.14504696e-05 2.71823336e-04 1.25416298e-04]\n",
            "  [9.69187040e-01 1.10832093e-06 1.33439470e-04 5.32072863e-05]]]\n",
            "x_prime_0_calculated: [[ 0.27773717  0.0015182   0.02774233]\n",
            " [-0.00835777  0.00161411  0.00124595]\n",
            " [ 0.00287964  0.00111743  0.00146933]\n",
            " [ 0.00359503 -0.00144055 -0.00040378]]\n",
            "x_prime_0_true: [[ 0.94744244 -0.24348429 -0.91310441 -0.44522983]]\n",
            "x_prime_1_calculated: [[ 3.58232181e-06 -1.71247096e-03 -3.21308106e-02]\n",
            " [ 7.36849784e-03  2.57651343e-03  2.51611665e-04]\n",
            " [ 4.14404877e-04  1.81351125e-03  1.63618649e-03]\n",
            " [-1.71464650e-01 -3.47333738e-03 -4.34203421e-03]]\n",
            "x_prime_1_true: [[ 1.64201168 -0.08470004  4.02764044  2.18690791]]\n",
            "x_prime_2_calculated: [[ 2.25706208e-07 -6.00950213e-05 -7.86629031e-01]\n",
            " [ 1.01340249e-05  8.35339929e-05  1.49753604e-04]\n",
            " [ 4.00709637e-05  2.64891803e-04  3.18938429e-04]\n",
            " [-4.34405738e-03 -2.13899042e-04 -3.49889648e-04]]\n",
            "x_prime_2_true: [[ 1.61949281 -0.06641533  3.96863308  2.15858316]]\n"
          ]
        }
      ],
      "source": [
        "# Create emptymlist for output\n",
        "all_x_prime = []\n",
        "\n",
        "# For each output\n",
        "for n in range(N):\n",
        "  # Create list for dot products of query N with all keys\n",
        "  all_km_qn = []\n",
        "  # Compute the dot products\n",
        "  for key in all_keys:\n",
        "    # TODO -- compute the appropriate dot product\n",
        "    # Replace this line\n",
        "    dot_product = np.dot(all_queries[n].transpose(), key)\n",
        "\n",
        "    # Store dot product\n",
        "    all_km_qn.append(dot_product)\n",
        "\n",
        "  # Compute dot product\n",
        "  attention = softmax(all_km_qn)\n",
        "  # Print result (should be positive sum to one)\n",
        "  print(\"Attentions for output \", n)\n",
        "  print(attention)\n",
        "\n",
        "  # TODO: Compute a weighted sum of all of the values according to the attention\n",
        "  # (equation 12.3)\n",
        "  # Replace this line\n",
        "  x_prime = np.sum(attention * all_values[n], axis=1)\n",
        "\n",
        "  all_x_prime.append(x_prime)\n",
        "\n",
        "\n",
        "# Print out true values to check you have it correct\n",
        "print(\"x_prime_0_calculated:\", all_x_prime[0].transpose())\n",
        "print(\"x_prime_0_true: [[ 0.94744244 -0.24348429 -0.91310441 -0.44522983]]\")\n",
        "print(\"x_prime_1_calculated:\", all_x_prime[1].transpose())\n",
        "print(\"x_prime_1_true: [[ 1.64201168 -0.08470004  4.02764044  2.18690791]]\")\n",
        "print(\"x_prime_2_calculated:\", all_x_prime[2].transpose())\n",
        "print(\"x_prime_2_true: [[ 1.61949281 -0.06641533  3.96863308  2.15858316]]\")\n"
      ]
    },
    {
      "cell_type": "markdown",
      "metadata": {
        "id": "PJ2vCQ_7C38K"
      },
      "source": [
        "Now let's compute the same thing, but using matrix calculations.  We'll store the $N$ inputs $\\mathbf{x}_{n}\\in\\mathbb{R}^{D}$ in the columns of a $D\\times N$ matrix, using equations 12.6 and 12.7/8.\n",
        "\n",
        "Note:  The book uses column vectors (for compatibility with the rest of the text), but in the wider literature it is more normal to store the inputs in the rows of a matrix;  in this case, the computation is the same, but all the matrices are transposed and the operations proceed in the reverse order."
      ]
    },
    {
      "cell_type": "code",
      "execution_count": null,
      "metadata": {
        "id": "obaQBdUAMXXv"
      },
      "outputs": [],
      "source": [
        "# Define softmax operation that works independently on each column\n",
        "def softmax_cols(data_in):\n",
        "  # Exponentiate all of the values\n",
        "  exp_values = np.exp(data_in) ;\n",
        "  # Sum over columns\n",
        "  denom = np.sum(exp_values, axis = 0);\n",
        "  # Replicate denominator to N rows\n",
        "  denom = np.matmul(np.ones((data_in.shape[0],1)), denom[np.newaxis,:])\n",
        "  # Compute softmax\n",
        "  softmax = exp_values / denom\n",
        "  # return the answer\n",
        "  return softmax"
      ]
    },
    {
      "cell_type": "code",
      "execution_count": null,
      "metadata": {
        "id": "gb2WvQ3SiH8r"
      },
      "outputs": [],
      "source": [
        " # Now let's compute self attention in matrix form\n",
        "def self_attention(X,omega_v, omega_q, omega_k, beta_v, beta_q, beta_k):\n",
        "\n",
        "  # TODO -- Write this function\n",
        "  # 1. Compute queries, keys, and values\n",
        "  # 2. Compute dot products\n",
        "  # 3. Apply softmax to calculate attentions\n",
        "  # 4. Weight values by attentions\n",
        "  # Replace this line\n",
        "  X_prime = np.zeros_like(X);\n",
        "\n",
        "\n",
        "  return X_prime"
      ]
    },
    {
      "cell_type": "code",
      "execution_count": null,
      "metadata": {
        "id": "MUOJbgJskUpl"
      },
      "outputs": [],
      "source": [
        "# Copy data into matrix\n",
        "X = np.zeros((D, N))\n",
        "X[:,0] = np.squeeze(all_x[0])\n",
        "X[:,1] = np.squeeze(all_x[1])\n",
        "X[:,2] = np.squeeze(all_x[2])\n",
        "\n",
        "# Run the self attention mechanism\n",
        "X_prime = self_attention(X,omega_v, omega_q, omega_k, beta_v, beta_q, beta_k)\n",
        "\n",
        "# Print out the results\n",
        "print(X_prime)"
      ]
    },
    {
      "cell_type": "markdown",
      "metadata": {
        "id": "as_lRKQFpvz0"
      },
      "source": [
        "If you did this correctly, the values should be the same as above.\n",
        "\n",
        "TODO:  \n",
        "\n",
        "Print out the attention matrix\n",
        "You will see that the values are quite extreme (one is very close to one and the others are very close to zero.  Now we'll fix this problem by using scaled dot-product attention."
      ]
    },
    {
      "cell_type": "code",
      "execution_count": null,
      "metadata": {
        "id": "kLU7PUnnqvIh"
      },
      "outputs": [],
      "source": [
        "# Now let's compute self attention in matrix form\n",
        "def scaled_dot_product_self_attention(X,omega_v, omega_q, omega_k, beta_v, beta_q, beta_k):\n",
        "\n",
        "  # TODO -- Write this function\n",
        "  # 1. Compute queries, keys, and values\n",
        "  # 2. Compute dot products\n",
        "  # 3. Scale the dot products as in equation 12.9\n",
        "  # 4. Apply softmax to calculate attentions\n",
        "  # 5. Weight values by attentions\n",
        "  # Replace this line\n",
        "  X_prime = np.zeros_like(X);\n",
        "\n",
        "  return X_prime"
      ]
    },
    {
      "cell_type": "code",
      "execution_count": null,
      "metadata": {
        "id": "n18e3XNzmVgL"
      },
      "outputs": [],
      "source": [
        "# Run the self attention mechanism\n",
        "X_prime = scaled_dot_product_self_attention(X,omega_v, omega_q, omega_k, beta_v, beta_q, beta_k)\n",
        "\n",
        "# Print out the results\n",
        "print(X_prime)"
      ]
    },
    {
      "cell_type": "markdown",
      "metadata": {
        "id": "QDEkIrcgrql-"
      },
      "source": [
        "TODO -- Investigate whether the self-attention mechanism is covariant with respect to permutation.\n",
        "If it is, when we permute the columns of the input matrix $\\mathbf{X}$, the columns of the output matrix $\\mathbf{X}'$ will also be permuted.\n"
      ]
    }
  ],
  "metadata": {
    "colab": {
      "authorship_tag": "ABX9TyOKrX9gmuhl9+KwscpZKr3u",
      "include_colab_link": true,
      "provenance": []
    },
    "kernelspec": {
      "display_name": "Python 3",
      "name": "python3"
    },
    "language_info": {
      "codemirror_mode": {
        "name": "ipython",
        "version": 3
      },
      "file_extension": ".py",
      "mimetype": "text/x-python",
      "name": "python",
      "nbconvert_exporter": "python",
      "pygments_lexer": "ipython3",
      "version": "3.11.5"
    }
  },
  "nbformat": 4,
  "nbformat_minor": 0
}
