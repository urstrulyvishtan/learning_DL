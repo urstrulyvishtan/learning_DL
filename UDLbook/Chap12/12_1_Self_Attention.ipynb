{
  "cells": [
    {
      "cell_type": "markdown",
      "metadata": {
        "colab_type": "text",
        "id": "view-in-github"
      },
      "source": [
        "<a href=\"https://colab.research.google.com/github/udlbook/udlbook/blob/main/Notebooks/Chap12/12_1_Self_Attention.ipynb\" target=\"_parent\"><img src=\"https://colab.research.google.com/assets/colab-badge.svg\" alt=\"Open In Colab\"/></a>"
      ]
    },
    {
      "cell_type": "markdown",
      "metadata": {
        "id": "t9vk9Elugvmi"
      },
      "source": [
        "# **Notebook 12.1: Self Attention**\n",
        "\n",
        "This notebook builds a self-attention mechanism from scratch, as discussed in section 12.2 of the book.\n",
        "\n",
        "Work through the cells below, running each cell in turn. In various places you will see the words \"TO DO\". Follow the instructions at these places and make predictions about what is going to happen or write code to complete the functions.\n",
        "\n",
        "Contact me at udlbookmail@gmail.com if you find any mistakes or have any suggestions.\n",
        "\n"
      ]
    },
    {
      "cell_type": "code",
      "execution_count": 2,
      "metadata": {
        "id": "OLComQyvCIJ7"
      },
      "outputs": [],
      "source": [
        "import numpy as np\n",
        "import matplotlib.pyplot as plt"
      ]
    },
    {
      "cell_type": "markdown",
      "metadata": {
        "id": "9OJkkoNqCVK2"
      },
      "source": [
        "The self-attention mechanism maps $N$ inputs $\\mathbf{x}_{n}\\in\\mathbb{R}^{D}$ and returns $N$ outputs $\\mathbf{x}'_{n}\\in \\mathbb{R}^{D}$.  \n",
        "\n"
      ]
    },
    {
      "cell_type": "code",
      "execution_count": 3,
      "metadata": {
        "id": "oAygJwLiCSri"
      },
      "outputs": [
        {
          "name": "stdout",
          "output_type": "stream",
          "text": [
            "[array([[ 1.78862847],\n",
            "       [ 0.43650985],\n",
            "       [ 0.09649747],\n",
            "       [-1.8634927 ]]), array([[-0.2773882 ],\n",
            "       [-0.35475898],\n",
            "       [-0.08274148],\n",
            "       [-0.62700068]]), array([[-0.04381817],\n",
            "       [-0.47721803],\n",
            "       [-1.31386475],\n",
            "       [ 0.88462238]])]\n"
          ]
        }
      ],
      "source": [
        "# Set seed so we get the same random numbers\n",
        "np.random.seed(3)\n",
        "# Number of inputs\n",
        "N = 3\n",
        "# Number of dimensions of each input\n",
        "D = 4\n",
        "# Create an empty list\n",
        "all_x = []\n",
        "# Create elements x_n and append to list\n",
        "for n in range(N):\n",
        "  all_x.append(np.random.normal(size=(D,1)))\n",
        "# Print out the list\n",
        "print(all_x)\n"
      ]
    },
    {
      "cell_type": "markdown",
      "metadata": {
        "id": "W2iHFbtKMaDp"
      },
      "source": [
        "We'll also need the weights and biases for the keys, queries, and values (equations 12.2 and 12.4)"
      ]
    },
    {
      "cell_type": "code",
      "execution_count": 4,
      "metadata": {
        "id": "79TSK7oLMobe"
      },
      "outputs": [],
      "source": [
        "# Set seed so we get the same random numbers\n",
        "np.random.seed(0)\n",
        "\n",
        "# Choose random values for the parameters\n",
        "omega_q = np.random.normal(size=(D,D))\n",
        "omega_k = np.random.normal(size=(D,D))\n",
        "omega_v = np.random.normal(size=(D,D))\n",
        "beta_q = np.random.normal(size=(D,1))\n",
        "beta_k = np.random.normal(size=(D,1))\n",
        "beta_v = np.random.normal(size=(D,1))"
      ]
    },
    {
      "cell_type": "markdown",
      "metadata": {
        "id": "VxaKQtP3Ng6R"
      },
      "source": [
        "Now let's compute the queries, keys, and values for each input"
      ]
    },
    {
      "cell_type": "code",
      "execution_count": 5,
      "metadata": {
        "id": "TwDK2tfdNmw9"
      },
      "outputs": [],
      "source": [
        "# Make three lists to store queries, keys, and values\n",
        "all_queries = []\n",
        "all_keys = []\n",
        "all_values = []\n",
        "# For every input\n",
        "for x in all_x:\n",
        "  # TODO -- compute the keys, queries and values.\n",
        "  # Replace these three lines\n",
        "  query = beta_q + omega_q * x\n",
        "  key = beta_k + omega_k * x\n",
        "  value = beta_v + omega_v * x\n",
        "\n",
        "  all_queries.append(query)\n",
        "  all_keys.append(key)\n",
        "  all_values.append(value)"
      ]
    },
    {
      "cell_type": "markdown",
      "metadata": {
        "id": "Se7DK6PGPSUk"
      },
      "source": [
        "We'll need a softmax function (equation 12.5) -- here, it will take a list of arbitrary numbers and return a list where the elements are non-negative and sum to one\n"
      ]
    },
    {
      "cell_type": "code",
      "execution_count": 6,
      "metadata": {
        "id": "u93LIcE5PoiM"
      },
      "outputs": [],
      "source": [
        "def softmax(items_in):\n",
        "\n",
        "  # TODO Compute the elements of items_out\n",
        "  # Replace this line\n",
        "  items_out = np.exp(items_in) / np.sum(np.exp(items_in))\n",
        "\n",
        "  return items_out "
      ]
    },
    {
      "cell_type": "markdown",
      "metadata": {
        "id": "8aJVhbKDW7lm"
      },
      "source": [
        "Now compute the self attention values:"
      ]
    },
    {
      "cell_type": "code",
      "execution_count": 7,
      "metadata": {
        "id": "yimz-5nCW6vQ"
      },
      "outputs": [
        {
          "name": "stdout",
          "output_type": "stream",
          "text": [
            "Attentions for output  0\n",
            "[[[3.90123450e-02 1.93474973e-04 1.12333569e-03 2.77289791e-01]\n",
            "  [1.02641430e-03 1.68000949e-03 1.28187569e-03 1.65569065e-04]\n",
            "  [3.17621022e-04 9.01093265e-04 4.43836761e-04 7.48675605e-04]\n",
            "  [1.30651545e-05 8.77460248e-03 3.54732129e-04 6.89140028e-06]]\n",
            "\n",
            " [[3.90123450e-02 1.93474973e-04 1.12333569e-03 2.77289791e-01]\n",
            "  [1.02641430e-03 1.68000949e-03 1.28187569e-03 1.65569065e-04]\n",
            "  [3.17621022e-04 9.01093265e-04 4.43836761e-04 7.48675605e-04]\n",
            "  [1.30651545e-05 8.77460248e-03 3.54732129e-04 6.89140028e-06]]\n",
            "\n",
            " [[3.90123450e-02 1.93474973e-04 1.12333569e-03 2.77289791e-01]\n",
            "  [1.02641430e-03 1.68000949e-03 1.28187569e-03 1.65569065e-04]\n",
            "  [3.17621022e-04 9.01093265e-04 4.43836761e-04 7.48675605e-04]\n",
            "  [1.30651545e-05 8.77460248e-03 3.54732129e-04 6.89140028e-06]]]\n",
            "Attentions for output  1\n",
            "[[[0.04216338 0.01835049 0.02847397 0.03488666]\n",
            "  [0.03210467 0.00531321 0.0166176  0.01073374]\n",
            "  [0.04806213 0.00977162 0.02779159 0.01967132]\n",
            "  [0.01470565 0.00567459 0.010679   0.0083337 ]]\n",
            "\n",
            " [[0.04216338 0.01835049 0.02847397 0.03488666]\n",
            "  [0.03210467 0.00531321 0.0166176  0.01073374]\n",
            "  [0.04806213 0.00977162 0.02779159 0.01967132]\n",
            "  [0.01470565 0.00567459 0.010679   0.0083337 ]]\n",
            "\n",
            " [[0.04216338 0.01835049 0.02847397 0.03488666]\n",
            "  [0.03210467 0.00531321 0.0166176  0.01073374]\n",
            "  [0.04806213 0.00977162 0.02779159 0.01967132]\n",
            "  [0.01470565 0.00567459 0.010679   0.0083337 ]]]\n",
            "Attentions for output  2\n",
            "[[[1.28642274e-03 3.63887176e-03 2.06654654e-03 3.25651164e-01]\n",
            "  [1.40559913e-04 1.89828710e-06 2.40076761e-05 3.72400772e-07]\n",
            "  [2.12737903e-04 1.82772429e-05 9.13338521e-05 4.48362563e-05]\n",
            "  [8.17718018e-05 1.45147361e-05 4.21404348e-05 1.78778853e-05]]\n",
            "\n",
            " [[1.28642274e-03 3.63887176e-03 2.06654654e-03 3.25651164e-01]\n",
            "  [1.40559913e-04 1.89828710e-06 2.40076761e-05 3.72400772e-07]\n",
            "  [2.12737903e-04 1.82772429e-05 9.13338521e-05 4.48362563e-05]\n",
            "  [8.17718018e-05 1.45147361e-05 4.21404348e-05 1.78778853e-05]]\n",
            "\n",
            " [[1.28642274e-03 3.63887176e-03 2.06654654e-03 3.25651164e-01]\n",
            "  [1.40559913e-04 1.89828710e-06 2.40076761e-05 3.72400772e-07]\n",
            "  [2.12737903e-04 1.82772429e-05 9.13338521e-05 4.48362563e-05]\n",
            "  [8.17718018e-05 1.45147361e-05 4.21404348e-05 1.78778853e-05]]]\n",
            "x_prime_0_calculated: [[-0.05871771 -0.05871771 -0.05871771]\n",
            " [ 0.00400248  0.00400248  0.00400248]\n",
            " [-0.00010845 -0.00010845 -0.00010845]\n",
            " [ 0.09567048  0.09567048  0.09567048]]\n",
            "x_prime_0_true: [[ 0.94744244 -0.24348429 -0.91310441 -0.44522983]]\n",
            "x_prime_1_calculated: [[-0.01806591 -0.01806591 -0.01806591]\n",
            " [ 0.00509401  0.00509401  0.00509401]\n",
            " [ 0.00276114  0.00276114  0.00276114]\n",
            " [-0.01753331 -0.01753331 -0.01753331]]\n",
            "x_prime_1_true: [[ 1.64201168 -0.08470004  4.02764044  2.18690791]]\n",
            "x_prime_2_calculated: [[0.00018721 0.00018721 0.00018721]\n",
            " [0.00056898 0.00056898 0.00056898]\n",
            " [0.00026549 0.00026549 0.00026549]\n",
            " [0.01929302 0.01929302 0.01929302]]\n",
            "x_prime_2_true: [[ 1.61949281 -0.06641533  3.96863308  2.15858316]]\n"
          ]
        }
      ],
      "source": [
        "# Create emptymlist for output\n",
        "all_x_prime = []\n",
        "\n",
        "# For each output\n",
        "for n in range(N):\n",
        "  # Create list for dot products of query N with all keys\n",
        "  all_km_qn = []\n",
        "  # Compute the dot products\n",
        "  for key in all_keys:\n",
        "    # TODO -- compute the appropriate dot product\n",
        "    # Replace this line\n",
        "    dot_product = np.dot(all_keys[n].transpose(), all_queries[n])\n",
        "\n",
        "    # Store dot product\n",
        "    all_km_qn.append(dot_product)\n",
        "\n",
        "  # Compute dot product\n",
        "  attention = softmax(all_km_qn)\n",
        "  # Print result (should be positive sum to one)\n",
        "  print(\"Attentions for output \", n)\n",
        "  print(attention)\n",
        "\n",
        "  # TODO: Compute a weighted sum of all of the values according to the attention\n",
        "  # (equation 12.3)\n",
        "  # Replace this line\n",
        "  x_prime = np.sum(attention * all_values[n], axis=1)\n",
        "\n",
        "  all_x_prime.append(x_prime)\n",
        "\n",
        "\n",
        "# Print out true values to check you have it correct\n",
        "print(\"x_prime_0_calculated:\", all_x_prime[0].transpose())\n",
        "print(\"x_prime_0_true: [[ 0.94744244 -0.24348429 -0.91310441 -0.44522983]]\")\n",
        "print(\"x_prime_1_calculated:\", all_x_prime[1].transpose())\n",
        "print(\"x_prime_1_true: [[ 1.64201168 -0.08470004  4.02764044  2.18690791]]\")\n",
        "print(\"x_prime_2_calculated:\", all_x_prime[2].transpose())\n",
        "print(\"x_prime_2_true: [[ 1.61949281 -0.06641533  3.96863308  2.15858316]]\")\n"
      ]
    },
    {
      "cell_type": "markdown",
      "metadata": {
        "id": "PJ2vCQ_7C38K"
      },
      "source": [
        "Now let's compute the same thing, but using matrix calculations.  We'll store the $N$ inputs $\\mathbf{x}_{n}\\in\\mathbb{R}^{D}$ in the columns of a $D\\times N$ matrix, using equations 12.6 and 12.7/8.\n",
        "\n",
        "Note:  The book uses column vectors (for compatibility with the rest of the text), but in the wider literature it is more normal to store the inputs in the rows of a matrix;  in this case, the computation is the same, but all the matrices are transposed and the operations proceed in the reverse order."
      ]
    },
    {
      "cell_type": "code",
      "execution_count": 9,
      "metadata": {
        "id": "obaQBdUAMXXv"
      },
      "outputs": [],
      "source": [
        "# Define softmax operation that works independently on each column\n",
        "def softmax_cols(data_in):\n",
        "  # Exponentiate all of the values\n",
        "  exp_values = np.exp(data_in) ;\n",
        "  # Sum over columns\n",
        "  denom = np.sum(exp_values, axis = 0);\n",
        "  # Replicate denominator to N rows\n",
        "  denom = np.matmul(np.ones((data_in.shape[0],1)), denom[np.newaxis,:])\n",
        "  # Compute softmax\n",
        "  softmax = exp_values / denom\n",
        "  # return the answer\n",
        "  return softmax"
      ]
    },
    {
      "cell_type": "code",
      "execution_count": 10,
      "metadata": {
        "id": "gb2WvQ3SiH8r"
      },
      "outputs": [],
      "source": [
        " # Now let's compute self attention in matrix form\n",
        "def self_attention(X,omega_v, omega_q, omega_k, beta_v, beta_q, beta_k):\n",
        "\n",
        "  # TODO -- Write this function\n",
        "  # 1. Compute queries, keys, and values\n",
        "  # 2. Compute dot products\n",
        "  # 3. Apply softmax to calculate attentions\n",
        "  # 4. Weight values by attentions\n",
        "  # Replace this line\n",
        "  query = beta_q + np.matmul(omega_q, X)\n",
        "  key = beta_k + np.matmul(omega_k, X)\n",
        "  value = beta_v + np.matmul(omega_v, X)\n",
        "\n",
        "  dot_product = np.matmul(query.transpose(), key)\n",
        "  attention = softmax_cols(dot_product)\n",
        "  X_prime = np.matmul(value, attention.transpose())\n",
        "  \n",
        "\n",
        "\n",
        "  return X_prime"
      ]
    },
    {
      "cell_type": "code",
      "execution_count": 11,
      "metadata": {
        "id": "MUOJbgJskUpl"
      },
      "outputs": [
        {
          "name": "stdout",
          "output_type": "stream",
          "text": [
            "[[ 0.04934405  1.77317658 -1.94113808]\n",
            " [-0.01271124 -0.21651166  3.45551881]\n",
            " [-0.048059    2.26943944 -6.01580286]\n",
            " [-0.02345359  1.26473743 -2.5239172 ]]\n"
          ]
        }
      ],
      "source": [
        "# Copy data into matrix\n",
        "X = np.zeros((D, N))\n",
        "X[:,0] = np.squeeze(all_x[0])\n",
        "X[:,1] = np.squeeze(all_x[1])\n",
        "X[:,2] = np.squeeze(all_x[2])\n",
        "\n",
        "# Run the self attention mechanism\n",
        "X_prime = self_attention(X,omega_v, omega_q, omega_k, beta_v, beta_q, beta_k)\n",
        "\n",
        "# Print out the results\n",
        "print(X_prime)"
      ]
    },
    {
      "cell_type": "markdown",
      "metadata": {
        "id": "as_lRKQFpvz0"
      },
      "source": [
        "If you did this correctly, the values should be the same as above.\n",
        "\n",
        "TODO:  \n",
        "\n",
        "Print out the attention matrix\n",
        "You will see that the values are quite extreme (one is very close to one and the others are very close to zero.  Now we'll fix this problem by using scaled dot-product attention."
      ]
    },
    {
      "cell_type": "code",
      "execution_count": 13,
      "metadata": {
        "id": "kLU7PUnnqvIh"
      },
      "outputs": [],
      "source": [
        "# Now let's compute self attention in matrix form\n",
        "def scaled_dot_product_self_attention(X,omega_v, omega_q, omega_k, beta_v, beta_q, beta_k):\n",
        "\n",
        "  # TODO -- Write this function\n",
        "  # 1. Compute queries, keys, and values\n",
        "  # 2. Compute dot products\n",
        "  # 3. Scale the dot products as in equation 12.9\n",
        "  # 4. Apply softmax to calculate attentions\n",
        "  # 5. Weight values by attentions\n",
        "  # Replace this line\n",
        "  query = beta_q + np.matmul(omega_q, X)\n",
        "  key = beta_k + np.matmul(omega_k, X)\n",
        "  value = beta_v + np.matmul(omega_v, X)\n",
        "\n",
        "  dot_product = np.matmul(key.transpose(), query)\n",
        "  dot_product = dot_product / np.sqrt(D)\n",
        "  attention = softmax_cols(dot_product)\n",
        "  X_prime = np.matmul(value, attention.transpose())\n",
        "\n",
        "  return X_prime"
      ]
    },
    {
      "cell_type": "code",
      "execution_count": 14,
      "metadata": {
        "id": "n18e3XNzmVgL"
      },
      "outputs": [
        {
          "name": "stdout",
          "output_type": "stream",
          "text": [
            "[[ 1.02128272e-01 -2.41931613e+00  2.19857041e+00]\n",
            " [-5.19600483e-03  3.38895433e+00 -1.57462422e-01]\n",
            " [ 2.51687047e-01 -6.43278827e+00  2.38667881e+00]\n",
            " [ 1.36641582e-01 -2.79093705e+00  1.37166211e+00]]\n"
          ]
        }
      ],
      "source": [
        "# Run the self attention mechanism\n",
        "X_prime = scaled_dot_product_self_attention(X,omega_v, omega_q, omega_k, beta_v, beta_q, beta_k)\n",
        "\n",
        "# Print out the results\n",
        "print(X_prime)"
      ]
    },
    {
      "cell_type": "markdown",
      "metadata": {
        "id": "QDEkIrcgrql-"
      },
      "source": [
        "TODO -- Investigate whether the self-attention mechanism is covariant with respect to permutation.\n",
        "If it is, when we permute the columns of the input matrix $\\mathbf{X}$, the columns of the output matrix $\\mathbf{X}'$ will also be permuted.\n"
      ]
    }
  ],
  "metadata": {
    "colab": {
      "authorship_tag": "ABX9TyOKrX9gmuhl9+KwscpZKr3u",
      "include_colab_link": true,
      "provenance": []
    },
    "kernelspec": {
      "display_name": "Python 3",
      "name": "python3"
    },
    "language_info": {
      "codemirror_mode": {
        "name": "ipython",
        "version": 3
      },
      "file_extension": ".py",
      "mimetype": "text/x-python",
      "name": "python",
      "nbconvert_exporter": "python",
      "pygments_lexer": "ipython3",
      "version": "3.11.5"
    }
  },
  "nbformat": 4,
  "nbformat_minor": 0
}
