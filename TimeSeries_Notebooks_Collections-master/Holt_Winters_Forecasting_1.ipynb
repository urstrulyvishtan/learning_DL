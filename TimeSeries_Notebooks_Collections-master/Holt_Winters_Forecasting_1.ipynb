{
 "cells": [
  {
   "cell_type": "code",
   "execution_count": 16,
   "metadata": {
    "colab": {},
    "colab_type": "code",
    "id": "6DBmteGVKO34"
   },
   "outputs": [],
   "source": [
    "import numpy as np\n",
    "import pandas as pd\n",
    "import matplotlib.pyplot as plt\n",
    "from pylab import rcParams\n",
    "from mpl_toolkits.axes_grid1.inset_locator import zoomed_inset_axes, mark_inset"
   ]
  },
  {
   "cell_type": "code",
   "execution_count": 17,
   "metadata": {},
   "outputs": [],
   "source": [
    "%matplotlib inline\n",
    "rcParams['figure.figsize'] = 14,6"
   ]
  },
  {
   "cell_type": "code",
   "execution_count": 18,
   "metadata": {
    "colab": {},
    "colab_type": "code",
    "id": "FV2mAQPqIviV"
   },
   "outputs": [],
   "source": [
    "def average(series):\n",
    "    return float(sum(series))/len(series)"
   ]
  },
  {
   "cell_type": "code",
   "execution_count": 19,
   "metadata": {
    "colab": {},
    "colab_type": "code",
    "id": "afn4xybsNp5l"
   },
   "outputs": [],
   "source": [
    "def moving_average(series, n):\n",
    "    return average(series[-n:])"
   ]
  },
  {
   "cell_type": "code",
   "execution_count": 20,
   "metadata": {
    "colab": {},
    "colab_type": "code",
    "id": "bDoYT6pKOx1D"
   },
   "outputs": [],
   "source": [
    "def weighted_average(series, weights):\n",
    "    result = 0.0\n",
    "    weights.reverse()\n",
    "    for n in range(len(weights)):\n",
    "        result += series[-n-1] * weights[n]\n",
    "    return result"
   ]
  },
  {
   "cell_type": "code",
   "execution_count": 21,
   "metadata": {
    "colab": {},
    "colab_type": "code",
    "id": "UatdMrRlGjHx"
   },
   "outputs": [],
   "source": [
    "series = [3,10,12,13,12,10,12]"
   ]
  },
  {
   "cell_type": "code",
   "execution_count": 22,
   "metadata": {
    "colab": {
     "base_uri": "https://localhost:8080/",
     "height": 34
    },
    "colab_type": "code",
    "executionInfo": {
     "elapsed": 2078,
     "status": "ok",
     "timestamp": 1558168443901,
     "user": {
      "displayName": "Bhavesh Bhatt",
      "photoUrl": "https://lh5.googleusercontent.com/-Dxy3HXzth_c/AAAAAAAAAAI/AAAAAAAAHvk/4kcnA5cyAC4/s64/photo.jpg",
      "userId": "01561702845917398436"
     },
     "user_tz": -330
    },
    "id": "k6j8mSU1H70l",
    "outputId": "0cec6ea2-4590-4718-cd6e-a87a1371592e"
   },
   "outputs": [
    {
     "name": "stdout",
     "output_type": "stream",
     "text": [
      "[3, 10, 12, 13, 12, 10, 12, 12]\n"
     ]
    }
   ],
   "source": [
    "naive_series = series.copy()\n",
    "naive_forecast = series[-1]\n",
    "naive_series.append(naive_forecast)\n",
    "print (naive_series)"
   ]
  },
  {
   "cell_type": "code",
   "execution_count": 23,
   "metadata": {
    "colab": {
     "base_uri": "https://localhost:8080/",
     "height": 395
    },
    "colab_type": "code",
    "executionInfo": {
     "elapsed": 1509,
     "status": "ok",
     "timestamp": 1558168471005,
     "user": {
      "displayName": "Bhavesh Bhatt",
      "photoUrl": "https://lh5.googleusercontent.com/-Dxy3HXzth_c/AAAAAAAAAAI/AAAAAAAAHvk/4kcnA5cyAC4/s64/photo.jpg",
      "userId": "01561702845917398436"
     },
     "user_tz": -330
    },
    "id": "-UgdlIYdE-OL",
    "outputId": "12af931f-2993-4f0a-9c3e-b86a6a9ca389"
   },
   "outputs": [
    {
     "data": {
      "text/plain": [
       "[<matplotlib.lines.Line2D at 0x1172a8b00>]"
      ]
     },
     "execution_count": 23,
     "metadata": {},
     "output_type": "execute_result"
    },
    {
     "data": {
      "image/png": "[encoded data removed]",
      "text/plain": [
       "<Figure size 1008x432 with 1 Axes>"
      ]
     },
     "metadata": {
      "needs_background": "light"
     },
     "output_type": "display_data"
    }
   ],
   "source": [
    "plt.plot(naive_series)"
   ]
  },
  {
   "cell_type": "code",
   "execution_count": 24,
   "metadata": {
    "colab": {
     "base_uri": "https://localhost:8080/",
     "height": 34
    },
    "colab_type": "code",
    "executionInfo": {
     "elapsed": 1015,
     "status": "ok",
     "timestamp": 1558168639965,
     "user": {
      "displayName": "Bhavesh Bhatt",
      "photoUrl": "https://lh5.googleusercontent.com/-Dxy3HXzth_c/AAAAAAAAAAI/AAAAAAAAHvk/4kcnA5cyAC4/s64/photo.jpg",
      "userId": "01561702845917398436"
     },
     "user_tz": -330
    },
    "id": "YohDQ_WtJUmK",
    "outputId": "e4af4db2-663f-46c2-d2d0-02b869ed3848"
   },
   "outputs": [
    {
     "name": "stdout",
     "output_type": "stream",
     "text": [
      "[3, 10, 12, 13, 12, 10, 12, 10.285714285714286]\n"
     ]
    }
   ],
   "source": [
    "all_avg_series = series.copy()\n",
    "all_avg_forecast = average(series)\n",
    "all_avg_series.append(all_avg_forecast)\n",
    "print (all_avg_series)"
   ]
  },
  {
   "cell_type": "code",
   "execution_count": 25,
   "metadata": {
    "colab": {
     "base_uri": "https://localhost:8080/",
     "height": 34
    },
    "colab_type": "code",
    "executionInfo": {
     "elapsed": 1100,
     "status": "ok",
     "timestamp": 1558168959303,
     "user": {
      "displayName": "Bhavesh Bhatt",
      "photoUrl": "https://lh5.googleusercontent.com/-Dxy3HXzth_c/AAAAAAAAAAI/AAAAAAAAHvk/4kcnA5cyAC4/s64/photo.jpg",
      "userId": "01561702845917398436"
     },
     "user_tz": -330
    },
    "id": "NoFmZGVANp91",
    "outputId": "51f4587e-6769-43dd-d1a0-8e2b3b4bcaa3"
   },
   "outputs": [
    {
     "name": "stdout",
     "output_type": "stream",
     "text": [
      "[3, 10, 12, 13, 12, 10, 12, 11.333333333333334]\n"
     ]
    }
   ],
   "source": [
    "moving_avg_series_3 = series.copy()\n",
    "moving_avg_forecast_3 = moving_average(series, 3)\n",
    "moving_avg_series_3.append(moving_avg_forecast_3)\n",
    "print (moving_avg_series_3)"
   ]
  },
  {
   "cell_type": "code",
   "execution_count": 26,
   "metadata": {
    "colab": {
     "base_uri": "https://localhost:8080/",
     "height": 34
    },
    "colab_type": "code",
    "executionInfo": {
     "elapsed": 830,
     "status": "ok",
     "timestamp": 1558168967548,
     "user": {
      "displayName": "Bhavesh Bhatt",
      "photoUrl": "https://lh5.googleusercontent.com/-Dxy3HXzth_c/AAAAAAAAAAI/AAAAAAAAHvk/4kcnA5cyAC4/s64/photo.jpg",
      "userId": "01561702845917398436"
     },
     "user_tz": -330
    },
    "id": "NfYS7sZXN9SO",
    "outputId": "1231ad94-38a6-49f8-a293-90d5f3244bd1"
   },
   "outputs": [
    {
     "name": "stdout",
     "output_type": "stream",
     "text": [
      "[3, 10, 12, 13, 12, 10, 12, 11.75]\n"
     ]
    }
   ],
   "source": [
    "moving_avg_series_4 = series.copy()\n",
    "moving_avg_forecast_4 = moving_average(series, 4)\n",
    "moving_avg_series_4.append(moving_avg_forecast_4)\n",
    "print (moving_avg_series_4)"
   ]
  },
  {
   "cell_type": "code",
   "execution_count": 27,
   "metadata": {
    "colab": {
     "base_uri": "https://localhost:8080/",
     "height": 34
    },
    "colab_type": "code",
    "executionInfo": {
     "elapsed": 1357,
     "status": "ok",
     "timestamp": 1558169305542,
     "user": {
      "displayName": "Bhavesh Bhatt",
      "photoUrl": "https://lh5.googleusercontent.com/-Dxy3HXzth_c/AAAAAAAAAAI/AAAAAAAAHvk/4kcnA5cyAC4/s64/photo.jpg",
      "userId": "01561702845917398436"
     },
     "user_tz": -330
    },
    "id": "_PELEiyBPJDE",
    "outputId": "ea6ba8df-2afe-4f76-9739-22b001d7c59d"
   },
   "outputs": [
    {
     "name": "stdout",
     "output_type": "stream",
     "text": [
      "[3, 10, 12, 13, 12, 10, 12, 11.500000000000002]\n"
     ]
    }
   ],
   "source": [
    "#Weights should add up to 1 or else you get weird predictions\n",
    "weighted_avg_series = series.copy()\n",
    "weights = [0.1, 0.2, 0.3, 0.4]\n",
    "weighted_avg_forecast = weighted_average(series, weights)\n",
    "weighted_avg_series.append(weighted_avg_forecast)\n",
    "print (weighted_avg_series)"
   ]
  },
  {
   "cell_type": "code",
   "execution_count": 28,
   "metadata": {
    "colab": {
     "base_uri": "https://localhost:8080/",
     "height": 34
    },
    "colab_type": "code",
    "executionInfo": {
     "elapsed": 1177,
     "status": "ok",
     "timestamp": 1558169259443,
     "user": {
      "displayName": "Bhavesh Bhatt",
      "photoUrl": "https://lh5.googleusercontent.com/-Dxy3HXzth_c/AAAAAAAAAAI/AAAAAAAAHvk/4kcnA5cyAC4/s64/photo.jpg",
      "userId": "01561702845917398436"
     },
     "user_tz": -330
    },
    "id": "l98F700JH9Cn",
    "outputId": "ecf5caa5-72ab-4ad1-956b-7ad4cb892116"
   },
   "outputs": [],
   "source": [
    "#Weights should add up to 1 or else you get weird predictions\n",
    "# weighted_avg_series = series.copy()\n",
    "# weights = [1.1, 1.2, 1.3, 1.4]\n",
    "# weighted_avg_forecast = weighted_average(series, weights)\n",
    "# weighted_avg_series.append(weighted_avg_forecast)\n",
    "# print (weighted_avg_series)"
   ]
  },
  {
   "cell_type": "code",
   "execution_count": 29,
   "metadata": {
    "colab": {
     "base_uri": "https://localhost:8080/",
     "height": 395
    },
    "colab_type": "code",
    "executionInfo": {
     "elapsed": 3095,
     "status": "ok",
     "timestamp": 1558169321304,
     "user": {
      "displayName": "Bhavesh Bhatt",
      "photoUrl": "https://lh5.googleusercontent.com/-Dxy3HXzth_c/AAAAAAAAAAI/AAAAAAAAHvk/4kcnA5cyAC4/s64/photo.jpg",
      "userId": "01561702845917398436"
     },
     "user_tz": -330
    },
    "id": "JBm7UX8AKJXO",
    "outputId": "e0aaef23-e6cf-4881-c196-122f9d5ed33b"
   },
   "outputs": [
    {
     "data": {
      "text/plain": [
       "<matplotlib.legend.Legend at 0x11741df60>"
      ]
     },
     "execution_count": 29,
     "metadata": {},
     "output_type": "execute_result"
    },
    {
     "data": {
      "image/png": "[encoded data removed]",
      "text/plain": [
       "<Figure size 1008x432 with 1 Axes>"
      ]
     },
     "metadata": {
      "needs_background": "light"
     },
     "output_type": "display_data"
    }
   ],
   "source": [
    "plt.plot(all_avg_series, color='blue', linestyle='dashed', label='All Average Series')\n",
    "plt.plot(naive_series, color='green', linestyle='dashed', label='Naive Series')\n",
    "plt.plot(moving_avg_series_4, color='cyan', linestyle='dashed', label='3 Moving Average')\n",
    "plt.plot(moving_avg_series_3, color='magenta', linestyle='dashed', label='4 Moving Average')\n",
    "plt.plot(weighted_avg_series, color='red', linestyle='dashed', label='Weighted Average')\n",
    "plt.plot(series, color='black', linewidth=2)\n",
    "plt.legend(loc='lower right')"
   ]
  },
  {
   "cell_type": "code",
   "execution_count": 30,
   "metadata": {
    "colab": {
     "base_uri": "https://localhost:8080/",
     "height": 378
    },
    "colab_type": "code",
    "executionInfo": {
     "elapsed": 3734,
     "status": "ok",
     "timestamp": 1558169329475,
     "user": {
      "displayName": "Bhavesh Bhatt",
      "photoUrl": "https://lh5.googleusercontent.com/-Dxy3HXzth_c/AAAAAAAAAAI/AAAAAAAAHvk/4kcnA5cyAC4/s64/photo.jpg",
      "userId": "01561702845917398436"
     },
     "user_tz": -330
    },
    "id": "i3vElScnKZlt",
    "outputId": "fee97123-6443-4dab-8274-fa5c16fd6614"
   },
   "outputs": [
    {
     "data": {
      "image/png": "[encoded data removed]",
      "text/plain": [
       "<Figure size 1008x432 with 1 Axes>"
      ]
     },
     "metadata": {
      "needs_background": "light"
     },
     "output_type": "display_data"
    }
   ],
   "source": [
    "plt.plot(all_avg_series, color='blue', linestyle='dashed', label='All Average Series')\n",
    "plt.plot(naive_series, color='green', linestyle='dashed', label='Naive Series')\n",
    "plt.plot(moving_avg_series_4, color='cyan', linestyle='dashed', label='3 Moving Average')\n",
    "plt.plot(moving_avg_series_3, color='magenta', linestyle='dashed', label='4 Moving Average')\n",
    "plt.plot(weighted_avg_series, color='red', linestyle='dashed', label='Weighted Average')\n",
    "plt.plot(series, color='black', linewidth=2)\n",
    "plt.legend(loc='lower right')\n",
    "plt.axis([5,8,8,13])\n",
    "plt.show()"
   ]
  }
 ],
 "metadata": {
  "colab": {
   "collapsed_sections": [],
   "name": "Holt_Winters_Forecasting_1.ipynb",
   "provenance": [],
   "version": "0.3.2"
  },
  "kernelspec": {
   "display_name": "Python 3",
   "language": "python",
   "name": "python3"
  },
  "language_info": {
   "codemirror_mode": {
    "name": "ipython",
    "version": 3
   },
   "file_extension": ".py",
   "mimetype": "text/x-python",
   "name": "python",
   "nbconvert_exporter": "python",
   "pygments_lexer": "ipython3",
   "version": "3.6.8"
  }
 },
 "nbformat": 4,
 "nbformat_minor": 1
}
