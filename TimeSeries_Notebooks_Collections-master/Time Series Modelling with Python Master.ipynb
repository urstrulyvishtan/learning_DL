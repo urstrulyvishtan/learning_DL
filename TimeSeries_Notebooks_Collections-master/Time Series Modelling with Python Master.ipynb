{
 "cells": [
  {
   "cell_type": "markdown",
   "metadata": {},
   "source": [
    "# Time Series Modelling\n",
    "\n",
    "\n"
   ]
  },
  {
   "cell_type": "markdown",
   "metadata": {},
   "source": [
    "We follow the notations of Tsay R. (2010) *Analysis of Financial Time Series*. John Wiley & Sons, Inc., Hoboken, New Jersey.\n",
    "\n",
    "The following notebook is an adaptation of Tsay's book except the codes are written in Python\n"
   ]
  },
  {
   "cell_type": "markdown",
   "metadata": {},
   "source": [
    "## Characteristics of Time Series\n",
    "\n",
    "Price or returns: Campbell, Lo, and MacKinlay (1997) provided two reasons for using returns:\n",
    "1. Return of an asset provide complete information and it is also scale-free.        \n",
    "2. Return series have more attractive statistical properties."
   ]
  },
  {
   "cell_type": "markdown",
   "metadata": {},
   "source": [
    "# References\n",
    "\n",
    "1.\n",
    "\n",
    "2.\n"
   ]
  },
  {
   "cell_type": "markdown",
   "metadata": {},
   "source": [
    "[pandas-datareader](http://pandas-datareader.readthedocs.io/en/latest/index.html)"
   ]
  },
  {
   "cell_type": "code",
   "execution_count": 1,
   "metadata": {
    "collapsed": true
   },
   "outputs": [],
   "source": [
    "import numpy as np  \n",
    "import pandas as pd  \n",
    "import matplotlib.pyplot as plt  \n",
    "%matplotlib inline\n",
    "import seaborn as sns\n",
    "sns.set()\n",
    "from pandas_datareader import data, wb\n",
    "import datetime"
   ]
  },
  {
   "cell_type": "code",
   "execution_count": 2,
   "metadata": {
    "collapsed": true
   },
   "outputs": [],
   "source": [
    "start = datetime.datetime(2001, 1, 1)\n",
    "end = datetime.datetime(2010, 1, 1)"
   ]
  },
  {
   "cell_type": "markdown",
   "metadata": {},
   "source": [
    "Let's download some data from Yahoo to play with. `^GSPC` is yahoo ticker code for S&P500"
   ]
  },
  {
   "cell_type": "code",
   "execution_count": 3,
   "metadata": {
    "collapsed": true
   },
   "outputs": [],
   "source": [
    "f = data.DataReader(\"^GSPC\", 'yahoo', start, end)"
   ]
  },
  {
   "cell_type": "markdown",
   "metadata": {},
   "source": [
    "Before we start, let's convert the data frequency to annual.\n",
    "\n",
    "[pandas documentation](http://pandas.pydata.org/pandas-docs/stable/timeseries.html#up-and-downsampling)\n",
    "\n",
    "[stackoverflow example](https://stackoverflow.com/questions/17001389/pandas-resample-documentation)"
   ]
  },
  {
   "cell_type": "code",
   "execution_count": 4,
   "metadata": {},
   "outputs": [
    {
     "data": {
      "text/html": [
       "<div>\n",
       "<style>\n",
       "    .dataframe thead tr:only-child th {\n",
       "        text-align: right;\n",
       "    }\n",
       "\n",
       "    .dataframe thead th {\n",
       "        text-align: left;\n",
       "    }\n",
       "\n",
       "    .dataframe tbody tr th {\n",
       "        vertical-align: top;\n",
       "    }\n",
       "</style>\n",
       "<table border=\"1\" class=\"dataframe\">\n",
       "  <thead>\n",
       "    <tr style=\"text-align: right;\">\n",
       "      <th></th>\n",
       "      <th>Open</th>\n",
       "      <th>High</th>\n",
       "      <th>Low</th>\n",
       "      <th>Close</th>\n",
       "      <th>Adj Close</th>\n",
       "      <th>Volume</th>\n",
       "    </tr>\n",
       "    <tr>\n",
       "      <th>Date</th>\n",
       "      <th></th>\n",
       "      <th></th>\n",
       "      <th></th>\n",
       "      <th></th>\n",
       "      <th></th>\n",
       "      <th></th>\n",
       "    </tr>\n",
       "  </thead>\n",
       "  <tbody>\n",
       "    <tr>\n",
       "      <th>2001-12-31</th>\n",
       "      <td>1161.020020</td>\n",
       "      <td>1161.160034</td>\n",
       "      <td>1148.040039</td>\n",
       "      <td>1148.079956</td>\n",
       "      <td>1148.079956</td>\n",
       "      <td>9.436000e+08</td>\n",
       "    </tr>\n",
       "    <tr>\n",
       "      <th>2002-12-31</th>\n",
       "      <td>879.390015</td>\n",
       "      <td>881.929993</td>\n",
       "      <td>869.450012</td>\n",
       "      <td>879.820007</td>\n",
       "      <td>879.820007</td>\n",
       "      <td>1.088500e+09</td>\n",
       "    </tr>\n",
       "    <tr>\n",
       "      <th>2003-12-31</th>\n",
       "      <td>1109.640015</td>\n",
       "      <td>1112.560059</td>\n",
       "      <td>1106.209961</td>\n",
       "      <td>1111.920044</td>\n",
       "      <td>1111.920044</td>\n",
       "      <td>1.027500e+09</td>\n",
       "    </tr>\n",
       "    <tr>\n",
       "      <th>2004-12-31</th>\n",
       "      <td>1213.550049</td>\n",
       "      <td>1217.329956</td>\n",
       "      <td>1211.650024</td>\n",
       "      <td>1211.920044</td>\n",
       "      <td>1211.920044</td>\n",
       "      <td>7.869000e+08</td>\n",
       "    </tr>\n",
       "    <tr>\n",
       "      <th>2005-12-30</th>\n",
       "      <td>1254.420044</td>\n",
       "      <td>1254.420044</td>\n",
       "      <td>1246.589966</td>\n",
       "      <td>1248.290039</td>\n",
       "      <td>1248.290039</td>\n",
       "      <td>1.443500e+09</td>\n",
       "    </tr>\n",
       "  </tbody>\n",
       "</table>\n",
       "</div>"
      ],
      "text/plain": [
       "                   Open         High          Low        Close    Adj Close  \\\n",
       "Date                                                                          \n",
       "2001-12-31  1161.020020  1161.160034  1148.040039  1148.079956  1148.079956   \n",
       "2002-12-31   879.390015   881.929993   869.450012   879.820007   879.820007   \n",
       "2003-12-31  1109.640015  1112.560059  1106.209961  1111.920044  1111.920044   \n",
       "2004-12-31  1213.550049  1217.329956  1211.650024  1211.920044  1211.920044   \n",
       "2005-12-30  1254.420044  1254.420044  1246.589966  1248.290039  1248.290039   \n",
       "\n",
       "                  Volume  \n",
       "Date                      \n",
       "2001-12-31  9.436000e+08  \n",
       "2002-12-31  1.088500e+09  \n",
       "2003-12-31  1.027500e+09  \n",
       "2004-12-31  7.869000e+08  \n",
       "2005-12-30  1.443500e+09  "
      ]
     },
     "execution_count": 4,
     "metadata": {},
     "output_type": "execute_result"
    }
   ],
   "source": [
    "df = f.resample('BA').asfreq() # Resample to yearly data. Use last business day price\n",
    "df.head()"
   ]
  },
  {
   "cell_type": "code",
   "execution_count": 5,
   "metadata": {},
   "outputs": [
    {
     "data": {
      "image/png": "[encoded data removed]",
      "text/plain": [
       "<matplotlib.figure.Figure at 0x26fe6fb6518>"
      ]
     },
     "metadata": {},
     "output_type": "display_data"
    }
   ],
   "source": [
    "df['Adj Close'].plot();"
   ]
  },
  {
   "cell_type": "markdown",
   "metadata": {},
   "source": [
    "# 1.0 Introduction to Time Series (Chapter 1)\n",
    "- Asset returns\n",
    "- Stylised facts of returns"
   ]
  },
  {
   "cell_type": "markdown",
   "metadata": {},
   "source": [
    "## 1.1 Asset Returns\n",
    "\n",
    "### One-Period Simple Return\n",
    "\n",
    "Buy and hold an asset from one period between  $t-1$ to date $t$, "
   ]
  },
  {
   "cell_type": "code",
   "execution_count": 6,
   "metadata": {},
   "outputs": [
    {
     "data": {
      "text/plain": [
       "Date\n",
       "2001-12-31    1148.079956\n",
       "2002-12-31     879.820007\n",
       "2003-12-31    1111.920044\n",
       "2004-12-31    1211.920044\n",
       "2005-12-30    1248.290039\n",
       "Freq: BA-DEC, Name: Adj Close, dtype: float64"
      ]
     },
     "execution_count": 6,
     "metadata": {},
     "output_type": "execute_result"
    }
   ],
   "source": [
    "df['Adj Close'].head()"
   ]
  },
  {
   "cell_type": "markdown",
   "metadata": {},
   "source": [
    "### Simple Gross Return:\n",
    "\n",
    "$$1 + R_t = \\frac{P_t}{P_{t-1}}$$\n",
    "\n",
    "-    $P_t$ is price of an asset at time $t$"
   ]
  },
  {
   "cell_type": "markdown",
   "metadata": {},
   "source": [
    "Let's have a look at the first two observations for the next section"
   ]
  },
  {
   "cell_type": "code",
   "execution_count": 7,
   "metadata": {},
   "outputs": [
    {
     "data": {
      "text/plain": [
       "Date\n",
       "2001-12-31    1148.079956\n",
       "2002-12-31     879.820007\n",
       "Freq: BA-DEC, Name: Adj Close, dtype: float64"
      ]
     },
     "execution_count": 7,
     "metadata": {},
     "output_type": "execute_result"
    }
   ],
   "source": [
    "df['Adj Close'].iloc[0:2]"
   ]
  },
  {
   "cell_type": "code",
   "execution_count": 8,
   "metadata": {},
   "outputs": [
    {
     "name": "stdout",
     "output_type": "stream",
     "text": [
      "The Simple Gross Return is 0.7663\n"
     ]
    }
   ],
   "source": [
    "print(\"The Simple Gross Return is {0:.4f}\".\n",
    "      format(df['Adj Close'].iloc[1] / df['Adj Close'].iloc[0])) # Simple Gross Return"
   ]
  },
  {
   "cell_type": "markdown",
   "metadata": {},
   "source": [
    "### Simple Net Return:\n",
    "\n",
    "$$R_t = \\frac{P_t}{P_{t-1}} - 1$$\n",
    "\n",
    "-    $R_t$ is the simple net return"
   ]
  },
  {
   "cell_type": "code",
   "execution_count": 9,
   "metadata": {},
   "outputs": [
    {
     "name": "stdout",
     "output_type": "stream",
     "text": [
      "The Simple Net Return is -0.2337\n"
     ]
    }
   ],
   "source": [
    "print(\"The Simple Net Return is {0:.4f}\".\n",
    "      format(df['Adj Close'].iloc[1] / df['Adj Close'].iloc[0] -1)) # Simple Net Return"
   ]
  },
  {
   "cell_type": "markdown",
   "metadata": {},
   "source": [
    "### Multiperiod Simple Return\n",
    "\n",
    "Buy and hold an asset for $k$ periods between $t-k$ to date $t$, \n"
   ]
  },
  {
   "cell_type": "markdown",
   "metadata": {},
   "source": [
    "Compound Return:\n",
    "\n",
    "\\begin{align}\n",
    "1+R_t[k] = \\frac{P_t}{P_{t-k}} & = \\frac{P_t}{P_{t-1}}\\times\\frac{P_{t-1}}{P_{t-2}}\\times...\\times\\frac{P_{t-k+1}}{P_{t-k}} \\\\ & =(1+R_t)(1+R_{t-1})...(1+R_{t-k-1}) \\\\ & =\\prod^{k-1}_{j=0}(1+R_{t-j}) \\\\\n",
    "\\end{align}"
   ]
  },
  {
   "cell_type": "code",
   "execution_count": 10,
   "metadata": {},
   "outputs": [
    {
     "data": {
      "text/html": [
       "<div>\n",
       "<style>\n",
       "    .dataframe thead tr:only-child th {\n",
       "        text-align: right;\n",
       "    }\n",
       "\n",
       "    .dataframe thead th {\n",
       "        text-align: left;\n",
       "    }\n",
       "\n",
       "    .dataframe tbody tr th {\n",
       "        vertical-align: top;\n",
       "    }\n",
       "</style>\n",
       "<table border=\"1\" class=\"dataframe\">\n",
       "  <thead>\n",
       "    <tr style=\"text-align: right;\">\n",
       "      <th></th>\n",
       "      <th>Open</th>\n",
       "      <th>High</th>\n",
       "      <th>Low</th>\n",
       "      <th>Close</th>\n",
       "      <th>Adj Close</th>\n",
       "      <th>Volume</th>\n",
       "    </tr>\n",
       "    <tr>\n",
       "      <th>Date</th>\n",
       "      <th></th>\n",
       "      <th></th>\n",
       "      <th></th>\n",
       "      <th></th>\n",
       "      <th></th>\n",
       "      <th></th>\n",
       "    </tr>\n",
       "  </thead>\n",
       "  <tbody>\n",
       "    <tr>\n",
       "      <th>2001-12-31</th>\n",
       "      <td>1161.020020</td>\n",
       "      <td>1161.160034</td>\n",
       "      <td>1148.040039</td>\n",
       "      <td>1148.079956</td>\n",
       "      <td>1148.079956</td>\n",
       "      <td>9.436000e+08</td>\n",
       "    </tr>\n",
       "    <tr>\n",
       "      <th>2002-12-31</th>\n",
       "      <td>879.390015</td>\n",
       "      <td>881.929993</td>\n",
       "      <td>869.450012</td>\n",
       "      <td>879.820007</td>\n",
       "      <td>879.820007</td>\n",
       "      <td>1.088500e+09</td>\n",
       "    </tr>\n",
       "    <tr>\n",
       "      <th>2003-12-31</th>\n",
       "      <td>1109.640015</td>\n",
       "      <td>1112.560059</td>\n",
       "      <td>1106.209961</td>\n",
       "      <td>1111.920044</td>\n",
       "      <td>1111.920044</td>\n",
       "      <td>1.027500e+09</td>\n",
       "    </tr>\n",
       "    <tr>\n",
       "      <th>2004-12-31</th>\n",
       "      <td>1213.550049</td>\n",
       "      <td>1217.329956</td>\n",
       "      <td>1211.650024</td>\n",
       "      <td>1211.920044</td>\n",
       "      <td>1211.920044</td>\n",
       "      <td>7.869000e+08</td>\n",
       "    </tr>\n",
       "    <tr>\n",
       "      <th>2005-12-30</th>\n",
       "      <td>1254.420044</td>\n",
       "      <td>1254.420044</td>\n",
       "      <td>1246.589966</td>\n",
       "      <td>1248.290039</td>\n",
       "      <td>1248.290039</td>\n",
       "      <td>1.443500e+09</td>\n",
       "    </tr>\n",
       "  </tbody>\n",
       "</table>\n",
       "</div>"
      ],
      "text/plain": [
       "                   Open         High          Low        Close    Adj Close  \\\n",
       "Date                                                                          \n",
       "2001-12-31  1161.020020  1161.160034  1148.040039  1148.079956  1148.079956   \n",
       "2002-12-31   879.390015   881.929993   869.450012   879.820007   879.820007   \n",
       "2003-12-31  1109.640015  1112.560059  1106.209961  1111.920044  1111.920044   \n",
       "2004-12-31  1213.550049  1217.329956  1211.650024  1211.920044  1211.920044   \n",
       "2005-12-30  1254.420044  1254.420044  1246.589966  1248.290039  1248.290039   \n",
       "\n",
       "                  Volume  \n",
       "Date                      \n",
       "2001-12-31  9.436000e+08  \n",
       "2002-12-31  1.088500e+09  \n",
       "2003-12-31  1.027500e+09  \n",
       "2004-12-31  7.869000e+08  \n",
       "2005-12-30  1.443500e+09  "
      ]
     },
     "execution_count": 10,
     "metadata": {},
     "output_type": "execute_result"
    }
   ],
   "source": [
    "df.head()"
   ]
  },
  {
   "cell_type": "markdown",
   "metadata": {},
   "source": [
    "Pandas provides a neat function for us to calcuate percentage change very quickly.\n",
    "\n",
    "Note below that we have calculated **Simple Net Return** for all our data by using `pct_change()` in pandas."
   ]
  },
  {
   "cell_type": "code",
   "execution_count": 11,
   "metadata": {},
   "outputs": [
    {
     "data": {
      "text/html": [
       "<div>\n",
       "<style>\n",
       "    .dataframe thead tr:only-child th {\n",
       "        text-align: right;\n",
       "    }\n",
       "\n",
       "    .dataframe thead th {\n",
       "        text-align: left;\n",
       "    }\n",
       "\n",
       "    .dataframe tbody tr th {\n",
       "        vertical-align: top;\n",
       "    }\n",
       "</style>\n",
       "<table border=\"1\" class=\"dataframe\">\n",
       "  <thead>\n",
       "    <tr style=\"text-align: right;\">\n",
       "      <th></th>\n",
       "      <th>Adj Close</th>\n",
       "      <th>returns</th>\n",
       "    </tr>\n",
       "    <tr>\n",
       "      <th>Date</th>\n",
       "      <th></th>\n",
       "      <th></th>\n",
       "    </tr>\n",
       "  </thead>\n",
       "  <tbody>\n",
       "    <tr>\n",
       "      <th>2001-12-31</th>\n",
       "      <td>1148.079956</td>\n",
       "      <td>NaN</td>\n",
       "    </tr>\n",
       "    <tr>\n",
       "      <th>2002-12-31</th>\n",
       "      <td>879.820007</td>\n",
       "      <td>-0.233660</td>\n",
       "    </tr>\n",
       "    <tr>\n",
       "      <th>2003-12-31</th>\n",
       "      <td>1111.920044</td>\n",
       "      <td>0.263804</td>\n",
       "    </tr>\n",
       "    <tr>\n",
       "      <th>2004-12-31</th>\n",
       "      <td>1211.920044</td>\n",
       "      <td>0.089935</td>\n",
       "    </tr>\n",
       "    <tr>\n",
       "      <th>2005-12-30</th>\n",
       "      <td>1248.290039</td>\n",
       "      <td>0.030010</td>\n",
       "    </tr>\n",
       "  </tbody>\n",
       "</table>\n",
       "</div>"
      ],
      "text/plain": [
       "              Adj Close   returns\n",
       "Date                             \n",
       "2001-12-31  1148.079956       NaN\n",
       "2002-12-31   879.820007 -0.233660\n",
       "2003-12-31  1111.920044  0.263804\n",
       "2004-12-31  1211.920044  0.089935\n",
       "2005-12-30  1248.290039  0.030010"
      ]
     },
     "execution_count": 11,
     "metadata": {},
     "output_type": "execute_result"
    }
   ],
   "source": [
    "df['returns'] = df['Adj Close'].pct_change()\n",
    "df = df[['Adj Close', 'returns']].copy()\n",
    "df.head()"
   ]
  },
  {
   "cell_type": "markdown",
   "metadata": {},
   "source": [
    "Let's zoom into the first couple of periods with returns data"
   ]
  },
  {
   "cell_type": "code",
   "execution_count": 12,
   "metadata": {},
   "outputs": [
    {
     "data": {
      "text/plain": [
       "Date\n",
       "2001-12-31         NaN\n",
       "2002-12-31   -0.233660\n",
       "2003-12-31    0.263804\n",
       "2004-12-31    0.089935\n",
       "Freq: BA-DEC, Name: returns, dtype: float64"
      ]
     },
     "execution_count": 12,
     "metadata": {},
     "output_type": "execute_result"
    }
   ],
   "source": [
    "df['returns'].iloc[0:4]"
   ]
  },
  {
   "cell_type": "markdown",
   "metadata": {},
   "source": [
    "To calculate multiperiod simple returns, \n",
    "\n",
    "\\begin{align}\n",
    "1+R_t[k] = \\frac{P_t}{P_{t-k}} & = \\frac{P_t}{P_{t-1}}\\times\\frac{P_{t-1}}{P_{t-2}}\\times...\\times\\frac{P_{t-k+1}}{P_{t-k}} \\\\ & =(1+R_t)(1+R_{t-1})...(1+R_{t-k-1}) \\\\ & =\\prod^{k-1}_{j=0}(1+R_{t-j}) \\\\\n",
    "\\end{align}"
   ]
  },
  {
   "cell_type": "markdown",
   "metadata": {},
   "source": [
    "Let's calculate the first two periods"
   ]
  },
  {
   "cell_type": "code",
   "execution_count": 13,
   "metadata": {},
   "outputs": [
    {
     "name": "stdout",
     "output_type": "stream",
     "text": [
      "The Multiperiod Simple Returns is 0.9685\n"
     ]
    }
   ],
   "source": [
    "print(\"The Multiperiod Simple Returns is {0:.4f}\".\n",
    "      format((1 + df['returns'].iloc[1]) * (1 + df['returns'].iloc[2]))) # Multiperiod simple returns"
   ]
  },
  {
   "cell_type": "markdown",
   "metadata": {},
   "source": [
    "Let's calculate the first three periods"
   ]
  },
  {
   "cell_type": "code",
   "execution_count": 14,
   "metadata": {},
   "outputs": [
    {
     "name": "stdout",
     "output_type": "stream",
     "text": [
      "The Multiperiod Simple Returns is 1.0556\n"
     ]
    }
   ],
   "source": [
    "print(\"The Multiperiod Simple Returns is {0:.4f}\".\n",
    "      format((1 + df['returns'].iloc[1]) * \\\n",
    "             (1 + df['returns'].iloc[2]) * \\\n",
    "             (1 + df['returns'].iloc[3]))) # Multiperiod simple returns"
   ]
  },
  {
   "cell_type": "markdown",
   "metadata": {},
   "source": [
    "Of course, we are only looking at period from 2002-12-31 until 2003-01-03. What if we want to calculate for the whole period, how do we do that?\n",
    "\n",
    "Again pandas library has nicely provided a function called `cumprod()` which stands for cummulative product, which is this part of the equation:\n",
    "\n",
    "$$(1+R_t)(1+R_{t-1})...(1+R_{t-k-1})$$"
   ]
  },
  {
   "cell_type": "code",
   "execution_count": 15,
   "metadata": {},
   "outputs": [
    {
     "data": {
      "text/html": [
       "<div>\n",
       "<style>\n",
       "    .dataframe thead tr:only-child th {\n",
       "        text-align: right;\n",
       "    }\n",
       "\n",
       "    .dataframe thead th {\n",
       "        text-align: left;\n",
       "    }\n",
       "\n",
       "    .dataframe tbody tr th {\n",
       "        vertical-align: top;\n",
       "    }\n",
       "</style>\n",
       "<table border=\"1\" class=\"dataframe\">\n",
       "  <thead>\n",
       "    <tr style=\"text-align: right;\">\n",
       "      <th></th>\n",
       "      <th>Adj Close</th>\n",
       "      <th>returns</th>\n",
       "      <th>compound returns</th>\n",
       "    </tr>\n",
       "    <tr>\n",
       "      <th>Date</th>\n",
       "      <th></th>\n",
       "      <th></th>\n",
       "      <th></th>\n",
       "    </tr>\n",
       "  </thead>\n",
       "  <tbody>\n",
       "    <tr>\n",
       "      <th>2001-12-31</th>\n",
       "      <td>1148.079956</td>\n",
       "      <td>NaN</td>\n",
       "      <td>NaN</td>\n",
       "    </tr>\n",
       "    <tr>\n",
       "      <th>2002-12-31</th>\n",
       "      <td>879.820007</td>\n",
       "      <td>-0.233660</td>\n",
       "      <td>0.766340</td>\n",
       "    </tr>\n",
       "    <tr>\n",
       "      <th>2003-12-31</th>\n",
       "      <td>1111.920044</td>\n",
       "      <td>0.263804</td>\n",
       "      <td>0.968504</td>\n",
       "    </tr>\n",
       "    <tr>\n",
       "      <th>2004-12-31</th>\n",
       "      <td>1211.920044</td>\n",
       "      <td>0.089935</td>\n",
       "      <td>1.055606</td>\n",
       "    </tr>\n",
       "    <tr>\n",
       "      <th>2005-12-30</th>\n",
       "      <td>1248.290039</td>\n",
       "      <td>0.030010</td>\n",
       "      <td>1.087285</td>\n",
       "    </tr>\n",
       "  </tbody>\n",
       "</table>\n",
       "</div>"
      ],
      "text/plain": [
       "              Adj Close   returns  compound returns\n",
       "Date                                               \n",
       "2001-12-31  1148.079956       NaN               NaN\n",
       "2002-12-31   879.820007 -0.233660          0.766340\n",
       "2003-12-31  1111.920044  0.263804          0.968504\n",
       "2004-12-31  1211.920044  0.089935          1.055606\n",
       "2005-12-30  1248.290039  0.030010          1.087285"
      ]
     },
     "execution_count": 15,
     "metadata": {},
     "output_type": "execute_result"
    }
   ],
   "source": [
    "df['compound returns'] = (df.returns + 1).cumprod()\n",
    "df.head()"
   ]
  },
  {
   "cell_type": "markdown",
   "metadata": {},
   "source": [
    "Note the **Compound Returns** column."
   ]
  },
  {
   "cell_type": "markdown",
   "metadata": {},
   "source": [
    "### Simple net return:\n",
    "\n",
    "\\begin{equation*}\n",
    "R_t[k]=\\frac{P_t-P_{t-k}}{P_{t-k}}\n",
    "\\end{equation*}"
   ]
  },
  {
   "cell_type": "code",
   "execution_count": 16,
   "metadata": {},
   "outputs": [
    {
     "name": "stdout",
     "output_type": "stream",
     "text": [
      "The Multiperiod Simple Net Returns is -0.0315\n"
     ]
    }
   ],
   "source": [
    "print(\"The Multiperiod Simple Net Returns is {0:.4f}\".\n",
    "      format((1 + df['returns'].iloc[1]) * (1 + df['returns'].iloc[2]) - 1)) # Multiperiod simple returns"
   ]
  },
  {
   "cell_type": "code",
   "execution_count": 17,
   "metadata": {},
   "outputs": [
    {
     "name": "stdout",
     "output_type": "stream",
     "text": [
      "The Multiperiod Simple Returns is 0.0556\n"
     ]
    }
   ],
   "source": [
    "print(\"The Multiperiod Simple Returns is {0:.4f}\".\n",
    "      format((1 + df['returns'].iloc[1]) * \\\n",
    "             (1 + df['returns'].iloc[2]) * \\\n",
    "             (1 + df['returns'].iloc[3]) - 1)) # Multiperiod simple returns"
   ]
  },
  {
   "cell_type": "code",
   "execution_count": 18,
   "metadata": {},
   "outputs": [
    {
     "data": {
      "text/html": [
       "<div>\n",
       "<style>\n",
       "    .dataframe thead tr:only-child th {\n",
       "        text-align: right;\n",
       "    }\n",
       "\n",
       "    .dataframe thead th {\n",
       "        text-align: left;\n",
       "    }\n",
       "\n",
       "    .dataframe tbody tr th {\n",
       "        vertical-align: top;\n",
       "    }\n",
       "</style>\n",
       "<table border=\"1\" class=\"dataframe\">\n",
       "  <thead>\n",
       "    <tr style=\"text-align: right;\">\n",
       "      <th></th>\n",
       "      <th>Adj Close</th>\n",
       "      <th>returns</th>\n",
       "      <th>compound returns</th>\n",
       "      <th>simple net returns</th>\n",
       "    </tr>\n",
       "    <tr>\n",
       "      <th>Date</th>\n",
       "      <th></th>\n",
       "      <th></th>\n",
       "      <th></th>\n",
       "      <th></th>\n",
       "    </tr>\n",
       "  </thead>\n",
       "  <tbody>\n",
       "    <tr>\n",
       "      <th>2001-12-31</th>\n",
       "      <td>1148.079956</td>\n",
       "      <td>NaN</td>\n",
       "      <td>NaN</td>\n",
       "      <td>NaN</td>\n",
       "    </tr>\n",
       "    <tr>\n",
       "      <th>2002-12-31</th>\n",
       "      <td>879.820007</td>\n",
       "      <td>-0.233660</td>\n",
       "      <td>0.766340</td>\n",
       "      <td>-0.233660</td>\n",
       "    </tr>\n",
       "    <tr>\n",
       "      <th>2003-12-31</th>\n",
       "      <td>1111.920044</td>\n",
       "      <td>0.263804</td>\n",
       "      <td>0.968504</td>\n",
       "      <td>-0.031496</td>\n",
       "    </tr>\n",
       "    <tr>\n",
       "      <th>2004-12-31</th>\n",
       "      <td>1211.920044</td>\n",
       "      <td>0.089935</td>\n",
       "      <td>1.055606</td>\n",
       "      <td>0.055606</td>\n",
       "    </tr>\n",
       "    <tr>\n",
       "      <th>2005-12-30</th>\n",
       "      <td>1248.290039</td>\n",
       "      <td>0.030010</td>\n",
       "      <td>1.087285</td>\n",
       "      <td>0.087285</td>\n",
       "    </tr>\n",
       "  </tbody>\n",
       "</table>\n",
       "</div>"
      ],
      "text/plain": [
       "              Adj Close   returns  compound returns  simple net returns\n",
       "Date                                                                   \n",
       "2001-12-31  1148.079956       NaN               NaN                 NaN\n",
       "2002-12-31   879.820007 -0.233660          0.766340           -0.233660\n",
       "2003-12-31  1111.920044  0.263804          0.968504           -0.031496\n",
       "2004-12-31  1211.920044  0.089935          1.055606            0.055606\n",
       "2005-12-30  1248.290039  0.030010          1.087285            0.087285"
      ]
     },
     "execution_count": 18,
     "metadata": {},
     "output_type": "execute_result"
    }
   ],
   "source": [
    "df['simple net returns'] = (df.returns + 1).cumprod() - 1\n",
    "df.head()"
   ]
  },
  {
   "cell_type": "markdown",
   "metadata": {},
   "source": [
    "How then is returns different from simple net returns?\n",
    "\n",
    "Returns is single period. From 2001-12-31 to 2002-12-31 for example.\n",
    "\n",
    "Multiple Simple Net Returns involves multiple-periods. Here are some examples:"
   ]
  },
  {
   "cell_type": "code",
   "execution_count": 19,
   "metadata": {},
   "outputs": [
    {
     "name": "stdout",
     "output_type": "stream",
     "text": [
      "The Multiperiod Simple Returns from 2001-12-31 to 2002-12-31 is -0.2337\n"
     ]
    }
   ],
   "source": [
    "print(\"The Multiperiod Simple Returns from 2001-12-31 to 2002-12-31 is {0:.4f}\".\n",
    "      format(df['simple net returns'].iloc[1]))"
   ]
  },
  {
   "cell_type": "code",
   "execution_count": 20,
   "metadata": {},
   "outputs": [
    {
     "name": "stdout",
     "output_type": "stream",
     "text": [
      "The Multiperiod Simple Returns from 2002-12-31 to 2003-12-31 is -0.0315\n"
     ]
    }
   ],
   "source": [
    "print(\"The Multiperiod Simple Returns from 2002-12-31 to 2003-12-31 is {0:.4f}\".\n",
    "      format(df['simple net returns'].iloc[2]))"
   ]
  },
  {
   "cell_type": "code",
   "execution_count": 21,
   "metadata": {},
   "outputs": [
    {
     "name": "stdout",
     "output_type": "stream",
     "text": [
      "The Multiperiod Simple Returns from 2002-12-31 to 2004-12-31 is 0.0556\n"
     ]
    }
   ],
   "source": [
    "print(\"The Multiperiod Simple Returns from 2002-12-31 to 2004-12-31 is {0:.4f}\".\n",
    "      format(df['simple net returns'].iloc[3]))"
   ]
  },
  {
   "cell_type": "markdown",
   "metadata": {},
   "source": [
    "###  Annualised Average Return \n",
    "\n",
    "Assume the asset was held for $k$ years, \n",
    "\n",
    "**the annualised (average) return** is:\n",
    "\n",
    "\n",
    "\\begin{align}\n",
    "Annualised\\{R_t[k]\\} & =\\Bigg[\\prod^{k-1}_{j=0}(1+R_{t-j})\\Bigg]^{\\frac{1}{k}}-1  \\\\ & = exp\\Bigg[{\\frac{1}{k}}\\sum^{k-1}_{j=0}ln(1+R_{t-j})\\Bigg]-1 \n",
    "\\end{align}\n",
    "\n",
    "NB: $exp$ is exponential function"
   ]
  },
  {
   "cell_type": "markdown",
   "metadata": {},
   "source": [
    "We will show both ways below. "
   ]
  },
  {
   "cell_type": "code",
   "execution_count": 22,
   "metadata": {},
   "outputs": [
    {
     "data": {
      "text/html": [
       "<div>\n",
       "<style>\n",
       "    .dataframe thead tr:only-child th {\n",
       "        text-align: right;\n",
       "    }\n",
       "\n",
       "    .dataframe thead th {\n",
       "        text-align: left;\n",
       "    }\n",
       "\n",
       "    .dataframe tbody tr th {\n",
       "        vertical-align: top;\n",
       "    }\n",
       "</style>\n",
       "<table border=\"1\" class=\"dataframe\">\n",
       "  <thead>\n",
       "    <tr style=\"text-align: right;\">\n",
       "      <th></th>\n",
       "      <th>Adj Close</th>\n",
       "      <th>returns</th>\n",
       "      <th>compound returns</th>\n",
       "      <th>simple net returns</th>\n",
       "    </tr>\n",
       "    <tr>\n",
       "      <th>Date</th>\n",
       "      <th></th>\n",
       "      <th></th>\n",
       "      <th></th>\n",
       "      <th></th>\n",
       "    </tr>\n",
       "  </thead>\n",
       "  <tbody>\n",
       "    <tr>\n",
       "      <th>2001-12-31</th>\n",
       "      <td>1148.079956</td>\n",
       "      <td>NaN</td>\n",
       "      <td>NaN</td>\n",
       "      <td>NaN</td>\n",
       "    </tr>\n",
       "    <tr>\n",
       "      <th>2002-12-31</th>\n",
       "      <td>879.820007</td>\n",
       "      <td>-0.233660</td>\n",
       "      <td>0.766340</td>\n",
       "      <td>-0.233660</td>\n",
       "    </tr>\n",
       "    <tr>\n",
       "      <th>2003-12-31</th>\n",
       "      <td>1111.920044</td>\n",
       "      <td>0.263804</td>\n",
       "      <td>0.968504</td>\n",
       "      <td>-0.031496</td>\n",
       "    </tr>\n",
       "    <tr>\n",
       "      <th>2004-12-31</th>\n",
       "      <td>1211.920044</td>\n",
       "      <td>0.089935</td>\n",
       "      <td>1.055606</td>\n",
       "      <td>0.055606</td>\n",
       "    </tr>\n",
       "    <tr>\n",
       "      <th>2005-12-30</th>\n",
       "      <td>1248.290039</td>\n",
       "      <td>0.030010</td>\n",
       "      <td>1.087285</td>\n",
       "      <td>0.087285</td>\n",
       "    </tr>\n",
       "  </tbody>\n",
       "</table>\n",
       "</div>"
      ],
      "text/plain": [
       "              Adj Close   returns  compound returns  simple net returns\n",
       "Date                                                                   \n",
       "2001-12-31  1148.079956       NaN               NaN                 NaN\n",
       "2002-12-31   879.820007 -0.233660          0.766340           -0.233660\n",
       "2003-12-31  1111.920044  0.263804          0.968504           -0.031496\n",
       "2004-12-31  1211.920044  0.089935          1.055606            0.055606\n",
       "2005-12-30  1248.290039  0.030010          1.087285            0.087285"
      ]
     },
     "execution_count": 22,
     "metadata": {},
     "output_type": "execute_result"
    }
   ],
   "source": [
    "df.head()"
   ]
  },
  {
   "cell_type": "markdown",
   "metadata": {},
   "source": [
    "**Method 1: Multiplicative**\n",
    "\n",
    "\\begin{align}\n",
    "Annualised\\{R_t[k]\\} & =\\Bigg[\\prod^{k-1}_{j=0}(1+R_{t-j})\\Bigg]^{\\frac{1}{k}}-1  \\\\\n",
    "\\end{align}"
   ]
  },
  {
   "cell_type": "code",
   "execution_count": 23,
   "metadata": {},
   "outputs": [
    {
     "name": "stdout",
     "output_type": "stream",
     "text": [
      "The Annualised Average Returns from 2001-12-31 to 2005-12-31 (5 years) is 0.0169\n"
     ]
    }
   ],
   "source": [
    "print(\"The Annualised Average Returns from 2001-12-31 to 2005-12-31 (5 years) is {0:.4f}\".\n",
    "      format(df['compound returns'].iloc[4] ** (1/5) - 1))"
   ]
  },
  {
   "cell_type": "markdown",
   "metadata": {},
   "source": [
    "**Method 2: Using Log**\n",
    "\n",
    "\\begin{align}\n",
    "Annualised\\{R_t[k]\\} & = exp\\Bigg[{\\frac{1}{k}}\\sum^{k-1}_{j=0}ln(1+R_{t-j})\\Bigg]-1 \n",
    "\\end{align}\n",
    "\n",
    "NB: $exp$ is exponential function"
   ]
  },
  {
   "cell_type": "code",
   "execution_count": 24,
   "metadata": {},
   "outputs": [
    {
     "data": {
      "text/html": [
       "<div>\n",
       "<style>\n",
       "    .dataframe thead tr:only-child th {\n",
       "        text-align: right;\n",
       "    }\n",
       "\n",
       "    .dataframe thead th {\n",
       "        text-align: left;\n",
       "    }\n",
       "\n",
       "    .dataframe tbody tr th {\n",
       "        vertical-align: top;\n",
       "    }\n",
       "</style>\n",
       "<table border=\"1\" class=\"dataframe\">\n",
       "  <thead>\n",
       "    <tr style=\"text-align: right;\">\n",
       "      <th></th>\n",
       "      <th>Adj Close</th>\n",
       "      <th>returns</th>\n",
       "      <th>compound returns</th>\n",
       "      <th>simple net returns</th>\n",
       "      <th>log returns</th>\n",
       "    </tr>\n",
       "    <tr>\n",
       "      <th>Date</th>\n",
       "      <th></th>\n",
       "      <th></th>\n",
       "      <th></th>\n",
       "      <th></th>\n",
       "      <th></th>\n",
       "    </tr>\n",
       "  </thead>\n",
       "  <tbody>\n",
       "    <tr>\n",
       "      <th>2001-12-31</th>\n",
       "      <td>1148.079956</td>\n",
       "      <td>NaN</td>\n",
       "      <td>NaN</td>\n",
       "      <td>NaN</td>\n",
       "      <td>NaN</td>\n",
       "    </tr>\n",
       "    <tr>\n",
       "      <th>2002-12-31</th>\n",
       "      <td>879.820007</td>\n",
       "      <td>-0.233660</td>\n",
       "      <td>0.766340</td>\n",
       "      <td>-0.233660</td>\n",
       "      <td>-0.266129</td>\n",
       "    </tr>\n",
       "    <tr>\n",
       "      <th>2003-12-31</th>\n",
       "      <td>1111.920044</td>\n",
       "      <td>0.263804</td>\n",
       "      <td>0.968504</td>\n",
       "      <td>-0.031496</td>\n",
       "      <td>0.234126</td>\n",
       "    </tr>\n",
       "    <tr>\n",
       "      <th>2004-12-31</th>\n",
       "      <td>1211.920044</td>\n",
       "      <td>0.089935</td>\n",
       "      <td>1.055606</td>\n",
       "      <td>0.055606</td>\n",
       "      <td>0.086118</td>\n",
       "    </tr>\n",
       "    <tr>\n",
       "      <th>2005-12-30</th>\n",
       "      <td>1248.290039</td>\n",
       "      <td>0.030010</td>\n",
       "      <td>1.087285</td>\n",
       "      <td>0.087285</td>\n",
       "      <td>0.029569</td>\n",
       "    </tr>\n",
       "  </tbody>\n",
       "</table>\n",
       "</div>"
      ],
      "text/plain": [
       "              Adj Close   returns  compound returns  simple net returns  \\\n",
       "Date                                                                      \n",
       "2001-12-31  1148.079956       NaN               NaN                 NaN   \n",
       "2002-12-31   879.820007 -0.233660          0.766340           -0.233660   \n",
       "2003-12-31  1111.920044  0.263804          0.968504           -0.031496   \n",
       "2004-12-31  1211.920044  0.089935          1.055606            0.055606   \n",
       "2005-12-30  1248.290039  0.030010          1.087285            0.087285   \n",
       "\n",
       "            log returns  \n",
       "Date                     \n",
       "2001-12-31          NaN  \n",
       "2002-12-31    -0.266129  \n",
       "2003-12-31     0.234126  \n",
       "2004-12-31     0.086118  \n",
       "2005-12-30     0.029569  "
      ]
     },
     "execution_count": 24,
     "metadata": {},
     "output_type": "execute_result"
    }
   ],
   "source": [
    "df['log returns'] = np.log(df['returns'] + 1 )\n",
    "df.head()"
   ]
  },
  {
   "cell_type": "code",
   "execution_count": 25,
   "metadata": {},
   "outputs": [
    {
     "data": {
      "text/html": [
       "<div>\n",
       "<style>\n",
       "    .dataframe thead tr:only-child th {\n",
       "        text-align: right;\n",
       "    }\n",
       "\n",
       "    .dataframe thead th {\n",
       "        text-align: left;\n",
       "    }\n",
       "\n",
       "    .dataframe tbody tr th {\n",
       "        vertical-align: top;\n",
       "    }\n",
       "</style>\n",
       "<table border=\"1\" class=\"dataframe\">\n",
       "  <thead>\n",
       "    <tr style=\"text-align: right;\">\n",
       "      <th></th>\n",
       "      <th>Adj Close</th>\n",
       "      <th>returns</th>\n",
       "      <th>compound returns</th>\n",
       "      <th>simple net returns</th>\n",
       "      <th>log returns</th>\n",
       "      <th>log_rtns_cumsum</th>\n",
       "    </tr>\n",
       "    <tr>\n",
       "      <th>Date</th>\n",
       "      <th></th>\n",
       "      <th></th>\n",
       "      <th></th>\n",
       "      <th></th>\n",
       "      <th></th>\n",
       "      <th></th>\n",
       "    </tr>\n",
       "  </thead>\n",
       "  <tbody>\n",
       "    <tr>\n",
       "      <th>2001-12-31</th>\n",
       "      <td>1148.079956</td>\n",
       "      <td>NaN</td>\n",
       "      <td>NaN</td>\n",
       "      <td>NaN</td>\n",
       "      <td>NaN</td>\n",
       "      <td>NaN</td>\n",
       "    </tr>\n",
       "    <tr>\n",
       "      <th>2002-12-31</th>\n",
       "      <td>879.820007</td>\n",
       "      <td>-0.233660</td>\n",
       "      <td>0.766340</td>\n",
       "      <td>-0.233660</td>\n",
       "      <td>-0.266129</td>\n",
       "      <td>-0.266129</td>\n",
       "    </tr>\n",
       "    <tr>\n",
       "      <th>2003-12-31</th>\n",
       "      <td>1111.920044</td>\n",
       "      <td>0.263804</td>\n",
       "      <td>0.968504</td>\n",
       "      <td>-0.031496</td>\n",
       "      <td>0.234126</td>\n",
       "      <td>-0.032003</td>\n",
       "    </tr>\n",
       "    <tr>\n",
       "      <th>2004-12-31</th>\n",
       "      <td>1211.920044</td>\n",
       "      <td>0.089935</td>\n",
       "      <td>1.055606</td>\n",
       "      <td>0.055606</td>\n",
       "      <td>0.086118</td>\n",
       "      <td>0.054115</td>\n",
       "    </tr>\n",
       "    <tr>\n",
       "      <th>2005-12-30</th>\n",
       "      <td>1248.290039</td>\n",
       "      <td>0.030010</td>\n",
       "      <td>1.087285</td>\n",
       "      <td>0.087285</td>\n",
       "      <td>0.029569</td>\n",
       "      <td>0.083684</td>\n",
       "    </tr>\n",
       "  </tbody>\n",
       "</table>\n",
       "</div>"
      ],
      "text/plain": [
       "              Adj Close   returns  compound returns  simple net returns  \\\n",
       "Date                                                                      \n",
       "2001-12-31  1148.079956       NaN               NaN                 NaN   \n",
       "2002-12-31   879.820007 -0.233660          0.766340           -0.233660   \n",
       "2003-12-31  1111.920044  0.263804          0.968504           -0.031496   \n",
       "2004-12-31  1211.920044  0.089935          1.055606            0.055606   \n",
       "2005-12-30  1248.290039  0.030010          1.087285            0.087285   \n",
       "\n",
       "            log returns  log_rtns_cumsum  \n",
       "Date                                      \n",
       "2001-12-31          NaN              NaN  \n",
       "2002-12-31    -0.266129        -0.266129  \n",
       "2003-12-31     0.234126        -0.032003  \n",
       "2004-12-31     0.086118         0.054115  \n",
       "2005-12-30     0.029569         0.083684  "
      ]
     },
     "execution_count": 25,
     "metadata": {},
     "output_type": "execute_result"
    }
   ],
   "source": [
    "df['log_rtns_cumsum'] = df['log returns'].cumsum()\n",
    "df.head()"
   ]
  },
  {
   "cell_type": "code",
   "execution_count": 26,
   "metadata": {},
   "outputs": [
    {
     "name": "stdout",
     "output_type": "stream",
     "text": [
      "The Annualised Average Returns from 2001-12-31 to 2005-12-31 (5 years) is 0.0169\n"
     ]
    }
   ],
   "source": [
    "print(\"The Annualised Average Returns from 2001-12-31 to 2005-12-31 (5 years) is {0:.4f}\".\n",
    "      format(np.exp(df['log_rtns_cumsum'].iloc[4] / 5) - 1))"
   ]
  },
  {
   "cell_type": "markdown",
   "metadata": {},
   "source": [
    "### Continuous Compounding\n",
    "The net asset value $A$ of continuous compounding is:\n",
    "\\begin{equation*}\n",
    "A = Ce^{rn}\n",
    "\\end{equation*}\n",
    "\n",
    "-    $C$ is the initial capital\n",
    "\n",
    "-    $r$ is the interest rate per annum\n",
    "\n",
    "-    $n$ is the number of years\n",
    "\n",
    "-    $e$ is exponential function\n"
   ]
  },
  {
   "cell_type": "markdown",
   "metadata": {},
   "source": [
    "Recall earlier we calculate the annualised average returns"
   ]
  },
  {
   "cell_type": "code",
   "execution_count": 27,
   "metadata": {},
   "outputs": [
    {
     "name": "stdout",
     "output_type": "stream",
     "text": [
      "The Annualised Average Returns from 2001-12-31 to 2005-12-31 (5 years) is 0.0169\n"
     ]
    }
   ],
   "source": [
    "print(\"The Annualised Average Returns from 2001-12-31 to 2005-12-31 (5 years) is {0:.4f}\".\n",
    "      format(df['compound returns'].iloc[4] ** (1/5) - 1))"
   ]
  },
  {
   "cell_type": "markdown",
   "metadata": {},
   "source": [
    "Let's store that"
   ]
  },
  {
   "cell_type": "code",
   "execution_count": 28,
   "metadata": {
    "collapsed": true
   },
   "outputs": [],
   "source": [
    "aar = df['compound returns'].iloc[4] ** (1/5) - 1"
   ]
  },
  {
   "cell_type": "code",
   "execution_count": 29,
   "metadata": {},
   "outputs": [
    {
     "name": "stdout",
     "output_type": "stream",
     "text": [
      "The Annually Compounded Returns is 0.087285\n"
     ]
    }
   ],
   "source": [
    "print(\"The Annually Compounded Returns is {0:.6f}\".\n",
    "      format((1 + aar) ** 5 - 1))"
   ]
  },
  {
   "cell_type": "code",
   "execution_count": 30,
   "metadata": {},
   "outputs": [
    {
     "name": "stdout",
     "output_type": "stream",
     "text": [
      "The Continuously Compounded Returns is 0.088051\n"
     ]
    }
   ],
   "source": [
    "ccr = 1 * np.exp(aar * 5) - 1\n",
    "print(\"The Continuously Compounded Returns is {0:.6f}\".\n",
    "      format(1 * np.exp(aar * 5) - 1))"
   ]
  },
  {
   "cell_type": "markdown",
   "metadata": {},
   "source": [
    "### Present Value\n",
    "\\begin{equation*}\n",
    "C = Ae^{-rn}\n",
    "\\end{equation*}\n",
    "\n",
    "-    $C$ is the initial capital\n",
    "\n",
    "-    $r$ is the interest rate per annum\n",
    "\n",
    "-    $n$ is the number of years"
   ]
  },
  {
   "cell_type": "markdown",
   "metadata": {},
   "source": [
    "What if we are given the number of periods, end price and returns, how do we calculate the Present Value?"
   ]
  },
  {
   "cell_type": "code",
   "execution_count": 31,
   "metadata": {},
   "outputs": [
    {
     "name": "stdout",
     "output_type": "stream",
     "text": [
      "The Annualised Average Returns from 2001-12-31 to 2005-12-31 (5 years) is 0.0169\n"
     ]
    }
   ],
   "source": [
    "print(\"The Annualised Average Returns from 2001-12-31 to 2005-12-31 (5 years) is {0:.4f}\".\n",
    "      format(aar))"
   ]
  },
  {
   "cell_type": "code",
   "execution_count": 32,
   "metadata": {
    "collapsed": true
   },
   "outputs": [],
   "source": [
    "n = 5 # number of periods"
   ]
  },
  {
   "cell_type": "code",
   "execution_count": 33,
   "metadata": {},
   "outputs": [
    {
     "name": "stdout",
     "output_type": "stream",
     "text": [
      "The Present Value is 0.999296\n"
     ]
    }
   ],
   "source": [
    "print(\"The Present Value is {0:.6f}\".\n",
    "      format(df['compound returns'].iloc[4] * np.exp(- aar * n)))"
   ]
  },
  {
   "cell_type": "markdown",
   "metadata": {},
   "source": [
    "### Continuously Compounded Return\n",
    "\n",
    "Recall **Simple Gross Return**:\n",
    "\n",
    "$$1 + R_t = \\frac{P_t}{P_{t-1}}$$\n",
    "\n",
    "-    $P_t$ is price of an asset at time $t$\n",
    "\n",
    "\n",
    "The natural log of simple gross return is called **continuously compounded return**:\n",
    "\n",
    "\\begin{align}\n",
    "r_t &= ln(1+R_t) \\\\ &= ln\\frac{P_t}{P_{t-1}} \\\\ &= p_t-p_{t-1}\n",
    "\\end{align}\n",
    "\n",
    "- $r_t$ is the continuously compounded return or log return\n",
    "\n",
    "- $p_t = ln(P_t)$\n",
    "\n",
    "- $R_t$ is the simple net return\n",
    "\n",
    "Advantages of log return:\n",
    "\n",
    "1. Continuously compounded multiperiod return is the sum of continuously compounded one-period return\n",
    "\n",
    "2. Statistical log returns are more tractable\n"
   ]
  },
  {
   "cell_type": "code",
   "execution_count": 34,
   "metadata": {},
   "outputs": [
    {
     "data": {
      "text/html": [
       "<div>\n",
       "<style>\n",
       "    .dataframe thead tr:only-child th {\n",
       "        text-align: right;\n",
       "    }\n",
       "\n",
       "    .dataframe thead th {\n",
       "        text-align: left;\n",
       "    }\n",
       "\n",
       "    .dataframe tbody tr th {\n",
       "        vertical-align: top;\n",
       "    }\n",
       "</style>\n",
       "<table border=\"1\" class=\"dataframe\">\n",
       "  <thead>\n",
       "    <tr style=\"text-align: right;\">\n",
       "      <th></th>\n",
       "      <th>Adj Close</th>\n",
       "      <th>returns</th>\n",
       "      <th>compound returns</th>\n",
       "      <th>simple net returns</th>\n",
       "      <th>log returns</th>\n",
       "      <th>log_rtns_cumsum</th>\n",
       "    </tr>\n",
       "    <tr>\n",
       "      <th>Date</th>\n",
       "      <th></th>\n",
       "      <th></th>\n",
       "      <th></th>\n",
       "      <th></th>\n",
       "      <th></th>\n",
       "      <th></th>\n",
       "    </tr>\n",
       "  </thead>\n",
       "  <tbody>\n",
       "    <tr>\n",
       "      <th>2001-12-31</th>\n",
       "      <td>1148.079956</td>\n",
       "      <td>NaN</td>\n",
       "      <td>NaN</td>\n",
       "      <td>NaN</td>\n",
       "      <td>NaN</td>\n",
       "      <td>NaN</td>\n",
       "    </tr>\n",
       "    <tr>\n",
       "      <th>2002-12-31</th>\n",
       "      <td>879.820007</td>\n",
       "      <td>-0.233660</td>\n",
       "      <td>0.766340</td>\n",
       "      <td>-0.233660</td>\n",
       "      <td>-0.266129</td>\n",
       "      <td>-0.266129</td>\n",
       "    </tr>\n",
       "    <tr>\n",
       "      <th>2003-12-31</th>\n",
       "      <td>1111.920044</td>\n",
       "      <td>0.263804</td>\n",
       "      <td>0.968504</td>\n",
       "      <td>-0.031496</td>\n",
       "      <td>0.234126</td>\n",
       "      <td>-0.032003</td>\n",
       "    </tr>\n",
       "    <tr>\n",
       "      <th>2004-12-31</th>\n",
       "      <td>1211.920044</td>\n",
       "      <td>0.089935</td>\n",
       "      <td>1.055606</td>\n",
       "      <td>0.055606</td>\n",
       "      <td>0.086118</td>\n",
       "      <td>0.054115</td>\n",
       "    </tr>\n",
       "    <tr>\n",
       "      <th>2005-12-30</th>\n",
       "      <td>1248.290039</td>\n",
       "      <td>0.030010</td>\n",
       "      <td>1.087285</td>\n",
       "      <td>0.087285</td>\n",
       "      <td>0.029569</td>\n",
       "      <td>0.083684</td>\n",
       "    </tr>\n",
       "  </tbody>\n",
       "</table>\n",
       "</div>"
      ],
      "text/plain": [
       "              Adj Close   returns  compound returns  simple net returns  \\\n",
       "Date                                                                      \n",
       "2001-12-31  1148.079956       NaN               NaN                 NaN   \n",
       "2002-12-31   879.820007 -0.233660          0.766340           -0.233660   \n",
       "2003-12-31  1111.920044  0.263804          0.968504           -0.031496   \n",
       "2004-12-31  1211.920044  0.089935          1.055606            0.055606   \n",
       "2005-12-30  1248.290039  0.030010          1.087285            0.087285   \n",
       "\n",
       "            log returns  log_rtns_cumsum  \n",
       "Date                                      \n",
       "2001-12-31          NaN              NaN  \n",
       "2002-12-31    -0.266129        -0.266129  \n",
       "2003-12-31     0.234126        -0.032003  \n",
       "2004-12-31     0.086118         0.054115  \n",
       "2005-12-30     0.029569         0.083684  "
      ]
     },
     "execution_count": 34,
     "metadata": {},
     "output_type": "execute_result"
    }
   ],
   "source": [
    "df.head()"
   ]
  },
  {
   "cell_type": "code",
   "execution_count": 35,
   "metadata": {},
   "outputs": [
    {
     "name": "stdout",
     "output_type": "stream",
     "text": [
      "Simple Gross Return = 0.766340\n"
     ]
    }
   ],
   "source": [
    "sgr = df['Adj Close'].iloc[1] / df['Adj Close'].iloc[0]\n",
    "print(\"Simple Gross Return = {0:.6f}\".\n",
    "      format(df['Adj Close'].iloc[1] / df['Adj Close'].iloc[0])) # Simple Gross Return"
   ]
  },
  {
   "cell_type": "code",
   "execution_count": 36,
   "metadata": {},
   "outputs": [
    {
     "data": {
      "text/plain": [
       "0.76634036018306728"
      ]
     },
     "execution_count": 36,
     "metadata": {},
     "output_type": "execute_result"
    }
   ],
   "source": [
    "sgr"
   ]
  },
  {
   "cell_type": "code",
   "execution_count": 37,
   "metadata": {},
   "outputs": [
    {
     "name": "stdout",
     "output_type": "stream",
     "text": [
      "Continuously Compounded Return = -0.266129\n"
     ]
    }
   ],
   "source": [
    "print(\"Continuously Compounded Return = {0:.6f}\".\n",
    "      format(np.log(sgr))) # Continuously Compounded Return"
   ]
  },
  {
   "cell_type": "code",
   "execution_count": 38,
   "metadata": {},
   "outputs": [
    {
     "name": "stdout",
     "output_type": "stream",
     "text": [
      "Continuously Compounded Return = -0.266129\n"
     ]
    }
   ],
   "source": [
    "print(\"Continuously Compounded Return = {0:.6f}\".\n",
    "      format(np.log(df['Adj Close'].iloc[1] / df['Adj Close'].iloc[0]))) # Continuously Compounded Return"
   ]
  },
  {
   "cell_type": "code",
   "execution_count": 39,
   "metadata": {},
   "outputs": [
    {
     "name": "stdout",
     "output_type": "stream",
     "text": [
      "Continuously Compounded Return = -0.266129\n"
     ]
    }
   ],
   "source": [
    "print(\"Continuously Compounded Return = {0:.6f}\".\n",
    "      format(np.log(df['Adj Close'].iloc[1]) - np.log(df['Adj Close'].iloc[0]))) # Continuously Compounded Return"
   ]
  },
  {
   "cell_type": "markdown",
   "metadata": {},
   "source": [
    "### Portfolio Return\n",
    "\n",
    "Simple net return of $N$ asset in portfolio $p$\n",
    "\n",
    "\\begin{align}\n",
    "R_{p,t}=\\sum^N_{i=1}w_iR_{it}\n",
    "\\end{align}\n",
    "\n",
    "-    $w_t$ is capital allocation of asset $i$ in the portfolio\n",
    "\n",
    "-    $R_{it}$ is the return of asset $i$ at time $t$"
   ]
  },
  {
   "cell_type": "code",
   "execution_count": 40,
   "metadata": {
    "collapsed": true
   },
   "outputs": [],
   "source": [
    "symbols_list = ['ORCL', 'TSLA', 'IBM', 'YELP', 'MSFT']"
   ]
  },
  {
   "cell_type": "code",
   "execution_count": 48,
   "metadata": {},
   "outputs": [],
   "source": [
    "d = {}\n",
    "for ticker in symbols_list:\n",
    "    d[ticker] = data.DataReader(ticker, \"yahoo\", '2014-12-01')\n",
    "pan = pd.Panel(d)\n",
    "df1 = pan.minor_xs('Adj Close')"
   ]
  },
  {
   "cell_type": "code",
   "execution_count": 49,
   "metadata": {},
   "outputs": [
    {
     "data": {
      "text/html": [
       "<div>\n",
       "<style>\n",
       "    .dataframe thead tr:only-child th {\n",
       "        text-align: right;\n",
       "    }\n",
       "\n",
       "    .dataframe thead th {\n",
       "        text-align: left;\n",
       "    }\n",
       "\n",
       "    .dataframe tbody tr th {\n",
       "        vertical-align: top;\n",
       "    }\n",
       "</style>\n",
       "<table border=\"1\" class=\"dataframe\">\n",
       "  <thead>\n",
       "    <tr style=\"text-align: right;\">\n",
       "      <th></th>\n",
       "      <th>IBM</th>\n",
       "      <th>MSFT</th>\n",
       "      <th>ORCL</th>\n",
       "      <th>TSLA</th>\n",
       "      <th>YELP</th>\n",
       "    </tr>\n",
       "    <tr>\n",
       "      <th>Date</th>\n",
       "      <th></th>\n",
       "      <th></th>\n",
       "      <th></th>\n",
       "      <th></th>\n",
       "      <th></th>\n",
       "    </tr>\n",
       "  </thead>\n",
       "  <tbody>\n",
       "    <tr>\n",
       "      <th>2014-12-01</th>\n",
       "      <td>145.063065</td>\n",
       "      <td>45.061207</td>\n",
       "      <td>40.221016</td>\n",
       "      <td>231.639999</td>\n",
       "      <td>55.130001</td>\n",
       "    </tr>\n",
       "    <tr>\n",
       "      <th>2014-12-02</th>\n",
       "      <td>146.077820</td>\n",
       "      <td>44.912918</td>\n",
       "      <td>40.316593</td>\n",
       "      <td>231.429993</td>\n",
       "      <td>55.169998</td>\n",
       "    </tr>\n",
       "    <tr>\n",
       "      <th>2014-12-03</th>\n",
       "      <td>147.739166</td>\n",
       "      <td>44.560738</td>\n",
       "      <td>40.201897</td>\n",
       "      <td>229.300003</td>\n",
       "      <td>54.770000</td>\n",
       "    </tr>\n",
       "    <tr>\n",
       "      <th>2014-12-04</th>\n",
       "      <td>147.317078</td>\n",
       "      <td>45.265102</td>\n",
       "      <td>40.039402</td>\n",
       "      <td>228.279999</td>\n",
       "      <td>55.139999</td>\n",
       "    </tr>\n",
       "    <tr>\n",
       "      <th>2014-12-05</th>\n",
       "      <td>146.616638</td>\n",
       "      <td>44.875847</td>\n",
       "      <td>40.077637</td>\n",
       "      <td>223.710007</td>\n",
       "      <td>53.840000</td>\n",
       "    </tr>\n",
       "  </tbody>\n",
       "</table>\n",
       "</div>"
      ],
      "text/plain": [
       "                   IBM       MSFT       ORCL        TSLA       YELP\n",
       "Date                                                               \n",
       "2014-12-01  145.063065  45.061207  40.221016  231.639999  55.130001\n",
       "2014-12-02  146.077820  44.912918  40.316593  231.429993  55.169998\n",
       "2014-12-03  147.739166  44.560738  40.201897  229.300003  54.770000\n",
       "2014-12-04  147.317078  45.265102  40.039402  228.279999  55.139999\n",
       "2014-12-05  146.616638  44.875847  40.077637  223.710007  53.840000"
      ]
     },
     "execution_count": 49,
     "metadata": {},
     "output_type": "execute_result"
    }
   ],
   "source": [
    "df1.head()"
   ]
  },
  {
   "cell_type": "markdown",
   "metadata": {},
   "source": [
    "Convert to percentage returns"
   ]
  },
  {
   "cell_type": "code",
   "execution_count": 50,
   "metadata": {},
   "outputs": [
    {
     "data": {
      "text/html": [
       "<div>\n",
       "<style>\n",
       "    .dataframe thead tr:only-child th {\n",
       "        text-align: right;\n",
       "    }\n",
       "\n",
       "    .dataframe thead th {\n",
       "        text-align: left;\n",
       "    }\n",
       "\n",
       "    .dataframe tbody tr th {\n",
       "        vertical-align: top;\n",
       "    }\n",
       "</style>\n",
       "<table border=\"1\" class=\"dataframe\">\n",
       "  <thead>\n",
       "    <tr style=\"text-align: right;\">\n",
       "      <th></th>\n",
       "      <th>IBM</th>\n",
       "      <th>MSFT</th>\n",
       "      <th>ORCL</th>\n",
       "      <th>TSLA</th>\n",
       "      <th>YELP</th>\n",
       "    </tr>\n",
       "    <tr>\n",
       "      <th>Date</th>\n",
       "      <th></th>\n",
       "      <th></th>\n",
       "      <th></th>\n",
       "      <th></th>\n",
       "      <th></th>\n",
       "    </tr>\n",
       "  </thead>\n",
       "  <tbody>\n",
       "    <tr>\n",
       "      <th>2014-12-01</th>\n",
       "      <td>NaN</td>\n",
       "      <td>NaN</td>\n",
       "      <td>NaN</td>\n",
       "      <td>NaN</td>\n",
       "      <td>NaN</td>\n",
       "    </tr>\n",
       "    <tr>\n",
       "      <th>2014-12-02</th>\n",
       "      <td>0.006995</td>\n",
       "      <td>-0.003291</td>\n",
       "      <td>0.002376</td>\n",
       "      <td>-0.000907</td>\n",
       "      <td>0.000726</td>\n",
       "    </tr>\n",
       "    <tr>\n",
       "      <th>2014-12-03</th>\n",
       "      <td>0.011373</td>\n",
       "      <td>-0.007841</td>\n",
       "      <td>-0.002845</td>\n",
       "      <td>-0.009204</td>\n",
       "      <td>-0.007250</td>\n",
       "    </tr>\n",
       "    <tr>\n",
       "      <th>2014-12-04</th>\n",
       "      <td>-0.002857</td>\n",
       "      <td>0.015807</td>\n",
       "      <td>-0.004042</td>\n",
       "      <td>-0.004448</td>\n",
       "      <td>0.006756</td>\n",
       "    </tr>\n",
       "    <tr>\n",
       "      <th>2014-12-05</th>\n",
       "      <td>-0.004755</td>\n",
       "      <td>-0.008599</td>\n",
       "      <td>0.000955</td>\n",
       "      <td>-0.020019</td>\n",
       "      <td>-0.023576</td>\n",
       "    </tr>\n",
       "  </tbody>\n",
       "</table>\n",
       "</div>"
      ],
      "text/plain": [
       "                 IBM      MSFT      ORCL      TSLA      YELP\n",
       "Date                                                        \n",
       "2014-12-01       NaN       NaN       NaN       NaN       NaN\n",
       "2014-12-02  0.006995 -0.003291  0.002376 -0.000907  0.000726\n",
       "2014-12-03  0.011373 -0.007841 -0.002845 -0.009204 -0.007250\n",
       "2014-12-04 -0.002857  0.015807 -0.004042 -0.004448  0.006756\n",
       "2014-12-05 -0.004755 -0.008599  0.000955 -0.020019 -0.023576"
      ]
     },
     "execution_count": 50,
     "metadata": {},
     "output_type": "execute_result"
    }
   ],
   "source": [
    "df2 = df1.pct_change()\n",
    "df2.head()"
   ]
  },
  {
   "cell_type": "markdown",
   "metadata": {},
   "source": [
    "Let's assumed we have an **equally weighted** portfolio.\n",
    "\n",
    "First of all, let's take a look at the returns for a specific date"
   ]
  },
  {
   "cell_type": "code",
   "execution_count": 51,
   "metadata": {},
   "outputs": [
    {
     "name": "stdout",
     "output_type": "stream",
     "text": [
      "The date is 02-12-2014\n"
     ]
    }
   ],
   "source": [
    "idx = 1\n",
    "print(\"The date is {0:%d-%m-%Y}\".format(df2.iloc[idx].name))"
   ]
  },
  {
   "cell_type": "code",
   "execution_count": 52,
   "metadata": {},
   "outputs": [
    {
     "data": {
      "text/plain": [
       "IBM     0.006995\n",
       "MSFT   -0.003291\n",
       "ORCL    0.002376\n",
       "TSLA   -0.000907\n",
       "YELP    0.000726\n",
       "Name: 2014-12-02 00:00:00, dtype: float64"
      ]
     },
     "execution_count": 52,
     "metadata": {},
     "output_type": "execute_result"
    }
   ],
   "source": [
    "df2.iloc[idx][0:5]"
   ]
  },
  {
   "cell_type": "code",
   "execution_count": 53,
   "metadata": {},
   "outputs": [
    {
     "name": "stdout",
     "output_type": "stream",
     "text": [
      "The portfolio average returns is 0.001180\n"
     ]
    }
   ],
   "source": [
    "print(\"The portfolio average returns is {0:.6f}\".format(df2.iloc[idx][0:5].mean()))"
   ]
  },
  {
   "cell_type": "markdown",
   "metadata": {},
   "source": [
    "Let's calculate for everyday"
   ]
  },
  {
   "cell_type": "code",
   "execution_count": 54,
   "metadata": {},
   "outputs": [
    {
     "data": {
      "text/html": [
       "<div>\n",
       "<style>\n",
       "    .dataframe thead tr:only-child th {\n",
       "        text-align: right;\n",
       "    }\n",
       "\n",
       "    .dataframe thead th {\n",
       "        text-align: left;\n",
       "    }\n",
       "\n",
       "    .dataframe tbody tr th {\n",
       "        vertical-align: top;\n",
       "    }\n",
       "</style>\n",
       "<table border=\"1\" class=\"dataframe\">\n",
       "  <thead>\n",
       "    <tr style=\"text-align: right;\">\n",
       "      <th></th>\n",
       "      <th>IBM</th>\n",
       "      <th>MSFT</th>\n",
       "      <th>ORCL</th>\n",
       "      <th>TSLA</th>\n",
       "      <th>YELP</th>\n",
       "      <th>portfolio_rtns</th>\n",
       "    </tr>\n",
       "    <tr>\n",
       "      <th>Date</th>\n",
       "      <th></th>\n",
       "      <th></th>\n",
       "      <th></th>\n",
       "      <th></th>\n",
       "      <th></th>\n",
       "      <th></th>\n",
       "    </tr>\n",
       "  </thead>\n",
       "  <tbody>\n",
       "    <tr>\n",
       "      <th>2014-12-01</th>\n",
       "      <td>NaN</td>\n",
       "      <td>NaN</td>\n",
       "      <td>NaN</td>\n",
       "      <td>NaN</td>\n",
       "      <td>NaN</td>\n",
       "      <td>NaN</td>\n",
       "    </tr>\n",
       "    <tr>\n",
       "      <th>2014-12-02</th>\n",
       "      <td>0.006995</td>\n",
       "      <td>-0.003291</td>\n",
       "      <td>0.002376</td>\n",
       "      <td>-0.000907</td>\n",
       "      <td>0.000726</td>\n",
       "      <td>0.001180</td>\n",
       "    </tr>\n",
       "    <tr>\n",
       "      <th>2014-12-03</th>\n",
       "      <td>0.011373</td>\n",
       "      <td>-0.007841</td>\n",
       "      <td>-0.002845</td>\n",
       "      <td>-0.009204</td>\n",
       "      <td>-0.007250</td>\n",
       "      <td>-0.003153</td>\n",
       "    </tr>\n",
       "    <tr>\n",
       "      <th>2014-12-04</th>\n",
       "      <td>-0.002857</td>\n",
       "      <td>0.015807</td>\n",
       "      <td>-0.004042</td>\n",
       "      <td>-0.004448</td>\n",
       "      <td>0.006756</td>\n",
       "      <td>0.002243</td>\n",
       "    </tr>\n",
       "    <tr>\n",
       "      <th>2014-12-05</th>\n",
       "      <td>-0.004755</td>\n",
       "      <td>-0.008599</td>\n",
       "      <td>0.000955</td>\n",
       "      <td>-0.020019</td>\n",
       "      <td>-0.023576</td>\n",
       "      <td>-0.011199</td>\n",
       "    </tr>\n",
       "  </tbody>\n",
       "</table>\n",
       "</div>"
      ],
      "text/plain": [
       "                 IBM      MSFT      ORCL      TSLA      YELP  portfolio_rtns\n",
       "Date                                                                        \n",
       "2014-12-01       NaN       NaN       NaN       NaN       NaN             NaN\n",
       "2014-12-02  0.006995 -0.003291  0.002376 -0.000907  0.000726        0.001180\n",
       "2014-12-03  0.011373 -0.007841 -0.002845 -0.009204 -0.007250       -0.003153\n",
       "2014-12-04 -0.002857  0.015807 -0.004042 -0.004448  0.006756        0.002243\n",
       "2014-12-05 -0.004755 -0.008599  0.000955 -0.020019 -0.023576       -0.011199"
      ]
     },
     "execution_count": 54,
     "metadata": {},
     "output_type": "execute_result"
    }
   ],
   "source": [
    "df2['portfolio_rtns'] = df2.mean(axis=1)\n",
    "df2.head()"
   ]
  },
  {
   "cell_type": "markdown",
   "metadata": {},
   "source": [
    "What is we have a different portfolio construction?"
   ]
  },
  {
   "cell_type": "markdown",
   "metadata": {},
   "source": [
    "[Floating Point Arithmetic: Issues and Limitations](https://docs.python.org/3.6/tutorial/floatingpoint.html)\n",
    "\n",
    "[Floating point arithmetic issues in Python 3](https://www.ploggingdev.com/2016/11/floating-point-arithmetic-issues-in-python-3/)\n",
    "\n",
    "[decimal — Fixed and Floating Point Math](https://pymotw.com/3/decimal/)"
   ]
  },
  {
   "cell_type": "raw",
   "metadata": {
    "collapsed": true
   },
   "source": [
    "from decimal import Decimal"
   ]
  },
  {
   "cell_type": "raw",
   "metadata": {},
   "source": [
    "w = [Decimal(0.10), Decimal(0.20), Decimal(0.30), Decimal(0.20), Decimal(0.20)]"
   ]
  },
  {
   "cell_type": "code",
   "execution_count": 55,
   "metadata": {
    "collapsed": true
   },
   "outputs": [],
   "source": [
    "w = [0.10, 0.20, 0.30, 0.20, 0.20]"
   ]
  },
  {
   "cell_type": "code",
   "execution_count": 56,
   "metadata": {},
   "outputs": [
    {
     "name": "stdout",
     "output_type": "stream",
     "text": [
      "Portfolio combined weight 1.0000\n"
     ]
    }
   ],
   "source": [
    "print(\"Portfolio combined weight {0:.4f}\".format(np.sum(w)))"
   ]
  },
  {
   "cell_type": "code",
   "execution_count": 57,
   "metadata": {},
   "outputs": [
    {
     "data": {
      "text/html": [
       "<div>\n",
       "<style>\n",
       "    .dataframe thead tr:only-child th {\n",
       "        text-align: right;\n",
       "    }\n",
       "\n",
       "    .dataframe thead th {\n",
       "        text-align: left;\n",
       "    }\n",
       "\n",
       "    .dataframe tbody tr th {\n",
       "        vertical-align: top;\n",
       "    }\n",
       "</style>\n",
       "<table border=\"1\" class=\"dataframe\">\n",
       "  <thead>\n",
       "    <tr style=\"text-align: right;\">\n",
       "      <th></th>\n",
       "      <th>IBM</th>\n",
       "      <th>MSFT</th>\n",
       "      <th>ORCL</th>\n",
       "      <th>TSLA</th>\n",
       "      <th>YELP</th>\n",
       "    </tr>\n",
       "    <tr>\n",
       "      <th>Date</th>\n",
       "      <th></th>\n",
       "      <th></th>\n",
       "      <th></th>\n",
       "      <th></th>\n",
       "      <th></th>\n",
       "    </tr>\n",
       "  </thead>\n",
       "  <tbody>\n",
       "    <tr>\n",
       "      <th>2014-12-01</th>\n",
       "      <td>NaN</td>\n",
       "      <td>NaN</td>\n",
       "      <td>NaN</td>\n",
       "      <td>NaN</td>\n",
       "      <td>NaN</td>\n",
       "    </tr>\n",
       "    <tr>\n",
       "      <th>2014-12-02</th>\n",
       "      <td>0.006995</td>\n",
       "      <td>-0.003291</td>\n",
       "      <td>0.002376</td>\n",
       "      <td>-0.000907</td>\n",
       "      <td>0.000726</td>\n",
       "    </tr>\n",
       "    <tr>\n",
       "      <th>2014-12-03</th>\n",
       "      <td>0.011373</td>\n",
       "      <td>-0.007841</td>\n",
       "      <td>-0.002845</td>\n",
       "      <td>-0.009204</td>\n",
       "      <td>-0.007250</td>\n",
       "    </tr>\n",
       "    <tr>\n",
       "      <th>2014-12-04</th>\n",
       "      <td>-0.002857</td>\n",
       "      <td>0.015807</td>\n",
       "      <td>-0.004042</td>\n",
       "      <td>-0.004448</td>\n",
       "      <td>0.006756</td>\n",
       "    </tr>\n",
       "    <tr>\n",
       "      <th>2014-12-05</th>\n",
       "      <td>-0.004755</td>\n",
       "      <td>-0.008599</td>\n",
       "      <td>0.000955</td>\n",
       "      <td>-0.020019</td>\n",
       "      <td>-0.023576</td>\n",
       "    </tr>\n",
       "  </tbody>\n",
       "</table>\n",
       "</div>"
      ],
      "text/plain": [
       "                 IBM      MSFT      ORCL      TSLA      YELP\n",
       "Date                                                        \n",
       "2014-12-01       NaN       NaN       NaN       NaN       NaN\n",
       "2014-12-02  0.006995 -0.003291  0.002376 -0.000907  0.000726\n",
       "2014-12-03  0.011373 -0.007841 -0.002845 -0.009204 -0.007250\n",
       "2014-12-04 -0.002857  0.015807 -0.004042 -0.004448  0.006756\n",
       "2014-12-05 -0.004755 -0.008599  0.000955 -0.020019 -0.023576"
      ]
     },
     "execution_count": 57,
     "metadata": {},
     "output_type": "execute_result"
    }
   ],
   "source": [
    "df3 = df2.iloc[:, 0:5]\n",
    "df3.head()"
   ]
  },
  {
   "cell_type": "code",
   "execution_count": 58,
   "metadata": {},
   "outputs": [
    {
     "data": {
      "text/plain": [
       "(758, 5)"
      ]
     },
     "execution_count": 58,
     "metadata": {},
     "output_type": "execute_result"
    }
   ],
   "source": [
    "df3.shape"
   ]
  },
  {
   "cell_type": "code",
   "execution_count": 59,
   "metadata": {},
   "outputs": [
    {
     "data": {
      "text/plain": [
       "IBM     0.006995\n",
       "MSFT   -0.003291\n",
       "ORCL    0.002376\n",
       "TSLA   -0.000907\n",
       "YELP    0.000726\n",
       "Name: 2014-12-02 00:00:00, dtype: float64"
      ]
     },
     "execution_count": 59,
     "metadata": {},
     "output_type": "execute_result"
    }
   ],
   "source": [
    "df3.iloc[idx][0:5]"
   ]
  },
  {
   "cell_type": "markdown",
   "metadata": {},
   "source": [
    "We can make use of matrix multiplication. Pandas has the built in function called `dot` for this exact purpose "
   ]
  },
  {
   "cell_type": "code",
   "execution_count": 60,
   "metadata": {},
   "outputs": [
    {
     "name": "stdout",
     "output_type": "stream",
     "text": [
      "The portfolio average returns is 0.000718\n"
     ]
    }
   ],
   "source": [
    "print(\"The portfolio average returns is {0:.6f}\".format(df2.iloc[idx][0:5].dot(w)))"
   ]
  },
  {
   "cell_type": "code",
   "execution_count": 61,
   "metadata": {},
   "outputs": [
    {
     "data": {
      "text/html": [
       "<div>\n",
       "<style>\n",
       "    .dataframe thead tr:only-child th {\n",
       "        text-align: right;\n",
       "    }\n",
       "\n",
       "    .dataframe thead th {\n",
       "        text-align: left;\n",
       "    }\n",
       "\n",
       "    .dataframe tbody tr th {\n",
       "        vertical-align: top;\n",
       "    }\n",
       "</style>\n",
       "<table border=\"1\" class=\"dataframe\">\n",
       "  <thead>\n",
       "    <tr style=\"text-align: right;\">\n",
       "      <th></th>\n",
       "      <th>IBM</th>\n",
       "      <th>MSFT</th>\n",
       "      <th>ORCL</th>\n",
       "      <th>TSLA</th>\n",
       "      <th>YELP</th>\n",
       "      <th>portfolio_rtns</th>\n",
       "    </tr>\n",
       "    <tr>\n",
       "      <th>Date</th>\n",
       "      <th></th>\n",
       "      <th></th>\n",
       "      <th></th>\n",
       "      <th></th>\n",
       "      <th></th>\n",
       "      <th></th>\n",
       "    </tr>\n",
       "  </thead>\n",
       "  <tbody>\n",
       "    <tr>\n",
       "      <th>2014-12-01</th>\n",
       "      <td>NaN</td>\n",
       "      <td>NaN</td>\n",
       "      <td>NaN</td>\n",
       "      <td>NaN</td>\n",
       "      <td>NaN</td>\n",
       "      <td>NaN</td>\n",
       "    </tr>\n",
       "    <tr>\n",
       "      <th>2014-12-02</th>\n",
       "      <td>0.006995</td>\n",
       "      <td>-0.003291</td>\n",
       "      <td>0.002376</td>\n",
       "      <td>-0.000907</td>\n",
       "      <td>0.000726</td>\n",
       "      <td>0.000718</td>\n",
       "    </tr>\n",
       "    <tr>\n",
       "      <th>2014-12-03</th>\n",
       "      <td>0.011373</td>\n",
       "      <td>-0.007841</td>\n",
       "      <td>-0.002845</td>\n",
       "      <td>-0.009204</td>\n",
       "      <td>-0.007250</td>\n",
       "      <td>-0.004575</td>\n",
       "    </tr>\n",
       "    <tr>\n",
       "      <th>2014-12-04</th>\n",
       "      <td>-0.002857</td>\n",
       "      <td>0.015807</td>\n",
       "      <td>-0.004042</td>\n",
       "      <td>-0.004448</td>\n",
       "      <td>0.006756</td>\n",
       "      <td>0.002125</td>\n",
       "    </tr>\n",
       "    <tr>\n",
       "      <th>2014-12-05</th>\n",
       "      <td>-0.004755</td>\n",
       "      <td>-0.008599</td>\n",
       "      <td>0.000955</td>\n",
       "      <td>-0.020019</td>\n",
       "      <td>-0.023576</td>\n",
       "      <td>-0.010628</td>\n",
       "    </tr>\n",
       "  </tbody>\n",
       "</table>\n",
       "</div>"
      ],
      "text/plain": [
       "                 IBM      MSFT      ORCL      TSLA      YELP  portfolio_rtns\n",
       "Date                                                                        \n",
       "2014-12-01       NaN       NaN       NaN       NaN       NaN             NaN\n",
       "2014-12-02  0.006995 -0.003291  0.002376 -0.000907  0.000726        0.000718\n",
       "2014-12-03  0.011373 -0.007841 -0.002845 -0.009204 -0.007250       -0.004575\n",
       "2014-12-04 -0.002857  0.015807 -0.004042 -0.004448  0.006756        0.002125\n",
       "2014-12-05 -0.004755 -0.008599  0.000955 -0.020019 -0.023576       -0.010628"
      ]
     },
     "execution_count": 61,
     "metadata": {},
     "output_type": "execute_result"
    }
   ],
   "source": [
    "df3['portfolio_rtns'] = df3.dot(w)\n",
    "df3.head()"
   ]
  },
  {
   "cell_type": "markdown",
   "metadata": {},
   "source": []
  },
  {
   "cell_type": "markdown",
   "metadata": {},
   "source": [
    "### Dividend Payment\n",
    "\n",
    "Simple net return at time t:\n",
    "\\begin{align}\n",
    "R_{t} &=\\frac{P_t+D_t}{P_{t-1}}-1 \n",
    "\\end{align}\n",
    "\n",
    "Continuously compounded return at time t:\n",
    "\\begin{align}\n",
    "r_t & = ln(P_t+D_t)-ln(P_{t-1})\n",
    "\\end{align}\n",
    "\n",
    "\n",
    "\n"
   ]
  },
  {
   "cell_type": "markdown",
   "metadata": {},
   "source": [
    "### Excess Return\n",
    "\n",
    "Simple excess return:\n",
    "\\begin{align}\n",
    "Z_t=R_t-R_{0t}\n",
    "\\end{align}\n",
    "\n",
    "Log excess return:\n",
    "\\begin{align}\n",
    "z_t=r_t-r_{0t}\n",
    "\\end{align}\n",
    "\n",
    "**Excess return**: the payoff on an arbitrage portfolio that goes long in an asset and short in the reference asset with no net initial investment.\n"
   ]
  },
  {
   "cell_type": "markdown",
   "metadata": {},
   "source": [
    "***"
   ]
  },
  {
   "cell_type": "markdown",
   "metadata": {},
   "source": [
    "## 1.2 Distribution Properties of Asset Returns\n",
    "\n",
    "The objective is to understand the behaviour of the returns across assets and over time.\n",
    "\n",
    "Consider a collection of $N$ assets held for $T$ time periods, say, $t=1, ..., T$. For each asset $i$, let $r_{it}$ be its log return at time $t$.\n",
    "\n",
    "The **log returns** under study are:\n",
    "\\begin{align}\n",
    "\\{r_{it}: i=1, ..., N; t=1, ...,T\\}\n",
    "\\end{align}\n",
    "\n",
    "One can also consider the **simple returns**:\n",
    "\\begin{align}\n",
    "\\{R_{it}: i=1, ..., N; t=1, ...,T\\}\n",
    "\\end{align}\n",
    "\n",
    "And the **log excess returns**:\n",
    "\\begin{align}\n",
    "\\{z_{it}: i=1, ..., N; t=1, ...,T\\}\n",
    "\\end{align}\n",
    "\n",
    "\n"
   ]
  },
  {
   "cell_type": "markdown",
   "metadata": {},
   "source": [
    "### [Random Variable](https://en.wikipedia.org/wiki/Random_variable)\n",
    "\n",
    "The definition of random variable, accoring to Wikipedia is:\n",
    "\n",
    "In probability and statistics, a **random variable**, random quantity, or stochastic variable is a **variable** quantity whose possible values depend, in **random** manner, on a set of **random outcomes** events.\n",
    "\n",
    "A univariate distribution of a random variable $X$ describes the probability of different values. \n",
    "\n",
    "If $f(x)$ is the probability density function (PDF), then the probability that $X$ is between $A$ and $B$ is calculated by:\n",
    "\n",
    "\\begin{align}\n",
    "Pr(A<=X<B)=\\int^B_Af(x)dx\n",
    "\\end{align}\n",
    "\n",
    "The cumulative distribution function (CDF) for the random variable is:\n",
    "\n",
    "\\begin{align}\n",
    "F(x)=Pr(X<x)=\\int^x_{-\\infty}f(u)du\n",
    "\\end{align}\n"
   ]
  },
  {
   "cell_type": "markdown",
   "metadata": {},
   "source": [
    "Not covered:\n",
    "\n",
    "- Joint distribution\n",
    "- Marginal distribution\n",
    "- Conditional distribution"
   ]
  },
  {
   "cell_type": "markdown",
   "metadata": {},
   "source": [
    "### Moments\n",
    "\n",
    "#### The $\\ell$-th moment:\n",
    "The $\\ell$-th moment of a continuous random variable $X$ is defined as:\n",
    "\n",
    "\\begin{align}\n",
    "m^{'}_{\\ell}=E(X^{\\ell})=\\int^{\\infty}_{-\\infty}x^{\\ell}f(x)dx\n",
    "\\end{align}\n",
    "\n",
    "-    $E$ stands for expectation\n",
    "\n",
    "-    $f(x)$ is the probability density function of $X$\n",
    "\n",
    "#### First Moment: Mean\n",
    "The first moment is called the *mean* or *expectation* of $X$. It measures the central location of the distribution. We normally denote the mean of $X$ by $\\mu_x$.\n",
    "\n",
    "\\begin{align}\n",
    "E(x) = \\mu_x\n",
    "\\end{align}\n",
    "\n",
    "#### Second Central Moment: Variance\n",
    "The second central moment, denoted by $\\sigma^2_x$ is called the *variance* of $X$ and it measures the variability of $X$. We obtain *standard deviation*, $\\sigma_x$, of $X$ by taking square root of the variance.\n",
    "\n",
    "The first two moments - mean and variance - of a random variable are sufficient to describe a normal distribution. For other distributions, you would need to utilise higher moments.\n",
    "\n",
    "\\begin{align}\n",
    "Var(X) = \\sigma^2_X=E(X-\\mu_X)^2\n",
    "\\end{align}\n",
    "\n",
    "#### The $\\ell$-th central moment:\n",
    "The $\\ell$-th central moment of a continuous random variable $X$ is defined as:\n",
    "\n",
    "\\begin{align}\n",
    "m^{'}_{\\ell}=E(X-\\mu_X)^{\\ell}=\\int^{\\infty}_{-\\infty}(x-\\mu_X)^{\\ell}f(x)dx\n",
    "\\end{align}\n",
    "\n",
    "#### Third Central Moment:\n",
    "Measures the symmetry of random variable $X$ with respect to its mean. **Skewness**, which is normalised third central moments, is frequently used in statistics. Skewness:\n",
    "\n",
    "\\begin{align}\n",
    "S(x)=E\\bigg[\\frac{(x-\\mu_x)^3}{\\sigma^3_x}\\bigg]\n",
    "\\end{align}\n",
    "\n",
    "#### Forth Central Moment:\n",
    "Measures the tail behaviour of $X$. **Kurtosis** is normalised forth central moment. Kurtosis:\n",
    "\n",
    "\\begin{align}\n",
    "K(x)=E\\bigg[\\frac{(x-\\mu_x)^4}{\\sigma^4_x}\\bigg]\n",
    "\\end{align}\n",
    "\n",
    "#### Excess Kurtosis\n",
    "Excess Kurtosis, $K(x)-3$, is frequently used to measure the peakedness of a distribution. 3 is used because the kurtosis of a normal distribution is 3. \n",
    "\n",
    "A distribution with a positive excess kurtosis, *leptokurtic*, is said to have heavy tails, i.e., more mass on the tails than a normal distribution. In practice, it implies greater occurences of extreme values from such distribution.\n",
    "\n",
    "A distribution with negative excess kurtosis, *platykurtic*, has short tail.\n"
   ]
  },
  {
   "cell_type": "markdown",
   "metadata": {},
   "source": [
    "### Sample Moments\n",
    "\n",
    "Let ${x_1, x_2, ..., x_T}$ be a random sample of $X$ with $T$ observations.\n",
    "\n",
    "#### Sample Mean:\n",
    "\n",
    "\\begin{align}\n",
    "\\hat\\mu_x=\\frac{1}{T}\\sum^T_{t=1}x_t\n",
    "\\end{align}\n",
    "\n",
    "#### Sample Variance:\n",
    "\n",
    "\\begin{align}\n",
    "\\hat\\sigma^2_x=\\frac{1}{T-1}\\sum^T_{t=1}(x_t-\\hat\\mu_x)^2\n",
    "\\end{align}\n",
    "\n",
    "#### Sample Skewness:\n",
    "\\begin{align}\n",
    "\\hat S(x)=\\frac{1}{(T-1)\\hat\\sigma^3_x}\\sum^T_{t=1}(x_t-\\hat\\mu_x)^3\n",
    "\\end{align}\n",
    "\n",
    "#### Sample Kurtosis:\n",
    "\\begin{align}\n",
    "\\hat K(x)=\\frac{1}{(T-1)\\hat\\sigma^4_x}\\sum^T_{t=1}(x_t-\\hat\\mu_x)^4\n",
    "\\end{align}\n",
    "\n"
   ]
  },
  {
   "cell_type": "markdown",
   "metadata": {},
   "source": [
    "### Normality Test, Jarque and Bera (1987) (JB)\n",
    "\n",
    "Asset return series $\\{r_1,r_2,...,r_t\\}$\n",
    "\n",
    "$H_0: JB(r)=0$\n",
    "\n",
    "$H_a: JB(r) \\neq 0$\n",
    "\n",
    "The test statistic is\n",
    "\n",
    "\\begin{align}\n",
    "JB=\\frac{\\hat{S}^2(r)}{6/T}+\\frac{[\\hat{K}(r)-3]^2}{24/T}\n",
    "\\end{align}\n",
    "\n",
    "Decision rule: One rejects $H_0$ of normality if the $p$ value of the JB statistic is less than the significance level, $\\alpha$."
   ]
  },
  {
   "cell_type": "markdown",
   "metadata": {},
   "source": [
    "## Method 1: SciPy\n",
    "\n",
    "[reference](https://docs.scipy.org/doc/scipy/reference/generated/scipy.stats.jarque_bera.html)"
   ]
  },
  {
   "cell_type": "code",
   "execution_count": 62,
   "metadata": {
    "collapsed": true
   },
   "outputs": [],
   "source": [
    "from scipy import stats"
   ]
  },
  {
   "cell_type": "code",
   "execution_count": 63,
   "metadata": {},
   "outputs": [
    {
     "name": "stdout",
     "output_type": "stream",
     "text": [
      "JB Value is \t 4.2301 \n",
      "p-value is \t 0.1206\n"
     ]
    }
   ],
   "source": [
    "print(\"JB Value is \\t {0[0]:.4f} \\np-value is \\t {0[1]:.4f}\".\n",
    "      format(stats.jarque_bera(np.random.normal(0, 1, 1000000))))"
   ]
  },
  {
   "cell_type": "markdown",
   "metadata": {},
   "source": [
    "Remember the decision rule is to reject $H_0$ of normality if the $p$-value of the JB statistic is less than the significance level, $\\alpha$.\n",
    "\n",
    "Normally the $p$-value is set a 0.05. If the $p$-value is below 0.05, then we can reject the null hypothesis, $H_0$, of normality.\n",
    "\n",
    "Now, let's apply this to our stocks returns"
   ]
  },
  {
   "cell_type": "code",
   "execution_count": 64,
   "metadata": {},
   "outputs": [
    {
     "name": "stdout",
     "output_type": "stream",
     "text": [
      "IBM\n",
      "JB Value is \t 1546.9368 \n",
      "p-value is \t 0.0000\n",
      "\n",
      "MSFT\n",
      "JB Value is \t 3806.0309 \n",
      "p-value is \t 0.0000\n",
      "\n",
      "ORCL\n",
      "JB Value is \t 3718.3573 \n",
      "p-value is \t 0.0000\n",
      "\n",
      "TSLA\n",
      "JB Value is \t 117.2708 \n",
      "p-value is \t 0.0000\n",
      "\n",
      "YELP\n",
      "JB Value is \t 15334.4969 \n",
      "p-value is \t 0.0000\n",
      "\n",
      "portfolio_rtns\n",
      "JB Value is \t 275.8945 \n",
      "p-value is \t 0.0000\n",
      "\n"
     ]
    }
   ],
   "source": [
    "for k, v in enumerate(df3):\n",
    "    print(v)\n",
    "    print(\"JB Value is \\t {0[0]:.4f} \\np-value is \\t {0[1]:.4f}\\n\".\n",
    "          format(stats.jarque_bera(df3[v].dropna())))"
   ]
  },
  {
   "cell_type": "code",
   "execution_count": 65,
   "metadata": {},
   "outputs": [
    {
     "data": {
      "text/plain": [
       "DescribeResult(nobs=757, minmax=(-0.092533429805476297, 0.10452251880743901), mean=0.00092804921972187862, variance=0.00020309560006109872, skewness=0.566353570755845, kurtosis=10.926286682028808)"
      ]
     },
     "execution_count": 65,
     "metadata": {},
     "output_type": "execute_result"
    }
   ],
   "source": [
    "stats.describe(df3.iloc[:, 1].dropna())"
   ]
  },
  {
   "cell_type": "code",
   "execution_count": 66,
   "metadata": {
    "scrolled": true
   },
   "outputs": [
    {
     "name": "stdout",
     "output_type": "stream",
     "text": [
      "no obs = 757 \n",
      "min -0.0925 \n",
      "max = 0.1045\n",
      "mean = 0.0009        \n",
      "nvariance = 0.0002 \n",
      "skewness = 0.5664 \n",
      "kurtosis = 10.9263\n"
     ]
    }
   ],
   "source": [
    "print(\"no obs = {0[0]} \\nmin {0[1][0]:.4f} \\nmax = {0[1][1]:.4f}\\nmean = {0[2]:.4f} \\\n",
    "       \\nnvariance = {0[3]:.4f} \\nskewness = {0[4]:.4f} \\nkurtosis = {0[5]:.4f}\".\n",
    "      format(stats.describe(df3.iloc[:, 1].dropna())))"
   ]
  },
  {
   "cell_type": "markdown",
   "metadata": {},
   "source": [
    "## Method 2: StatsModels\n",
    "\n",
    "[doc](http://www.statsmodels.org/dev/generated/statsmodels.stats.stattools.jarque_bera.html)\n",
    "\n",
    "[source code](http://www.statsmodels.org/dev/_modules/statsmodels/stats/stattools.html)"
   ]
  },
  {
   "cell_type": "code",
   "execution_count": 67,
   "metadata": {
    "collapsed": true
   },
   "outputs": [],
   "source": [
    "from statsmodels.stats.stattools import jarque_bera"
   ]
  },
  {
   "cell_type": "code",
   "execution_count": 68,
   "metadata": {},
   "outputs": [
    {
     "name": "stdout",
     "output_type": "stream",
     "text": [
      "JB Value is \t 5.0468 \n",
      "p-value is \t 0.0802 \n",
      "skew is \t 0.0019 \n",
      "kurtosis is \t 3.0103\n"
     ]
    }
   ],
   "source": [
    "print(\"JB Value is \\t {0[0]:.4f} \\np-value is \\t {0[1]:.4f} \\nskew is \\t {0[2]:.4f} \\nkurtosis is \\t {0[3]:.4f}\".\n",
    "      format(jarque_bera(np.random.normal(0, 1, 1000000))))"
   ]
  },
  {
   "cell_type": "markdown",
   "metadata": {},
   "source": [
    "NB: For normally distributed data, skewness is 0, kurtosis is 3."
   ]
  },
  {
   "cell_type": "markdown",
   "metadata": {},
   "source": [
    "## Normal Distribution\n",
    "\n",
    "\n",
    "A traditional assumption made in financial study is that the simple returns ${R_{it} | t = 1, . . . , T }$ are independently and identically distributed as normal with fixed mean and variance. This assumption makes statistical properties of asset returns tractable. But it encounters several difficulties. \n",
    "\n",
    "* The lower bound of a simple return is −1. Yet the normal distribution may assume any value in the real line and, hence, has no lower bound. \n",
    "* If $R_{it}$ is normally distributed, then the multiperiod simple return $R_{it}[k]$ is not normally distributed because it is a product of one-period returns. \n",
    "* The normality assumption is not supported by many empirical asset returns, which tend to have a positive excess kurtosis.\n",
    "\n",
    "\n",
    "\n"
   ]
  },
  {
   "cell_type": "markdown",
   "metadata": {},
   "source": [
    "## Lognormal Distribution\n",
    "\n",
    "Another commonly used assumption is that the log returns $r_t$ of an asset are independent and identically distributed (iid) as normal with mean $\\mu$ and variance $\\sigma^2$. The simple returns are then iid lognormal random variables with mean and variance given by\n",
    "\n",
    "\\begin{align}\n",
    "E(R_t) & = \\text{exp}(\\mu+\\frac{\\sigma^2}{2})-1 \\\\ \n",
    "\\text{Var}(R_t) & =\\text{exp}(2\\mu+\\sigma^2)[\\text{exp}(\\sigma^2)-1] \\\\\n",
    "\\end{align}"
   ]
  },
  {
   "cell_type": "markdown",
   "metadata": {},
   "source": [
    "These two equations are useful in studying asset returns (e.g., in forecasting using models built for log returns)."
   ]
  },
  {
   "cell_type": "markdown",
   "metadata": {},
   "source": [
    "Alternatively, let $m_1$ and $m_2$ be the mean and variance of the simple return $R_t$ , which is lognormally distributed. Then the mean and variance of the corresponding log return $r_t$ are"
   ]
  },
  {
   "cell_type": "markdown",
   "metadata": {},
   "source": [
    "\\begin{align}\n",
    "E(r_t) & = ln\\bigg[ \\frac{m_1+1}{\\sqrt{1+ \\frac{m_2}{(1+m_1)^2}}}\\bigg] \\\\ \n",
    "\\text{Var}(r_t) & =ln\\bigg[ 1 + \\frac{m_2}{(1 + m_1)^2}\\bigg] \\\\\n",
    "\\end{align}"
   ]
  },
  {
   "cell_type": "markdown",
   "metadata": {},
   "source": [
    "Because the sum of a finite number of iid normal random variables is normal, $r_t[k]$ is also normally distributed under the normal assumption for ${r_t}$. In addition, there is no lower bound for $r_t$ , and the lower bound for $R_t$ is satisfied using\n",
    "$1 + R_t = \\text{exp}(r_t)$. However, the lognormal assumption is not consistent with all the properties of historical stock returns. In particular, many stock returns exhibit a positive excess kurtosis."
   ]
  },
  {
   "cell_type": "code",
   "execution_count": 69,
   "metadata": {},
   "outputs": [
    {
     "data": {
      "text/html": [
       "<div>\n",
       "<style>\n",
       "    .dataframe thead tr:only-child th {\n",
       "        text-align: right;\n",
       "    }\n",
       "\n",
       "    .dataframe thead th {\n",
       "        text-align: left;\n",
       "    }\n",
       "\n",
       "    .dataframe tbody tr th {\n",
       "        vertical-align: top;\n",
       "    }\n",
       "</style>\n",
       "<table border=\"1\" class=\"dataframe\">\n",
       "  <thead>\n",
       "    <tr style=\"text-align: right;\">\n",
       "      <th></th>\n",
       "      <th>IBM</th>\n",
       "      <th>MSFT</th>\n",
       "      <th>ORCL</th>\n",
       "      <th>TSLA</th>\n",
       "      <th>YELP</th>\n",
       "      <th>portfolio_rtns</th>\n",
       "    </tr>\n",
       "    <tr>\n",
       "      <th>Date</th>\n",
       "      <th></th>\n",
       "      <th></th>\n",
       "      <th></th>\n",
       "      <th></th>\n",
       "      <th></th>\n",
       "      <th></th>\n",
       "    </tr>\n",
       "  </thead>\n",
       "  <tbody>\n",
       "    <tr>\n",
       "      <th>2014-12-02</th>\n",
       "      <td>0.006971</td>\n",
       "      <td>-0.003296</td>\n",
       "      <td>0.002373</td>\n",
       "      <td>-0.000907</td>\n",
       "      <td>0.000725</td>\n",
       "      <td>0.000718</td>\n",
       "    </tr>\n",
       "    <tr>\n",
       "      <th>2014-12-03</th>\n",
       "      <td>0.011309</td>\n",
       "      <td>-0.007872</td>\n",
       "      <td>-0.002849</td>\n",
       "      <td>-0.009246</td>\n",
       "      <td>-0.007277</td>\n",
       "      <td>-0.004586</td>\n",
       "    </tr>\n",
       "    <tr>\n",
       "      <th>2014-12-04</th>\n",
       "      <td>-0.002861</td>\n",
       "      <td>0.015683</td>\n",
       "      <td>-0.004050</td>\n",
       "      <td>-0.004458</td>\n",
       "      <td>0.006733</td>\n",
       "      <td>0.002122</td>\n",
       "    </tr>\n",
       "    <tr>\n",
       "      <th>2014-12-05</th>\n",
       "      <td>-0.004766</td>\n",
       "      <td>-0.008637</td>\n",
       "      <td>0.000954</td>\n",
       "      <td>-0.020222</td>\n",
       "      <td>-0.023859</td>\n",
       "      <td>-0.010685</td>\n",
       "    </tr>\n",
       "    <tr>\n",
       "      <th>2014-12-08</th>\n",
       "      <td>-0.008674</td>\n",
       "      <td>-0.014981</td>\n",
       "      <td>-0.013446</td>\n",
       "      <td>-0.042694</td>\n",
       "      <td>-0.044047</td>\n",
       "      <td>-0.025135</td>\n",
       "    </tr>\n",
       "  </tbody>\n",
       "</table>\n",
       "</div>"
      ],
      "text/plain": [
       "                 IBM      MSFT      ORCL      TSLA      YELP  portfolio_rtns\n",
       "Date                                                                        \n",
       "2014-12-02  0.006971 -0.003296  0.002373 -0.000907  0.000725        0.000718\n",
       "2014-12-03  0.011309 -0.007872 -0.002849 -0.009246 -0.007277       -0.004586\n",
       "2014-12-04 -0.002861  0.015683 -0.004050 -0.004458  0.006733        0.002122\n",
       "2014-12-05 -0.004766 -0.008637  0.000954 -0.020222 -0.023859       -0.010685\n",
       "2014-12-08 -0.008674 -0.014981 -0.013446 -0.042694 -0.044047       -0.025135"
      ]
     },
     "execution_count": 69,
     "metadata": {},
     "output_type": "execute_result"
    }
   ],
   "source": [
    "df4 = np.log(df3.dropna() + 1)\n",
    "df4.head()"
   ]
  },
  {
   "cell_type": "code",
   "execution_count": 70,
   "metadata": {},
   "outputs": [
    {
     "name": "stdout",
     "output_type": "stream",
     "text": [
      "IBM\n",
      "JB Value is \t 1440.8865 \n",
      "p-value is \t 0.0000\n",
      "\n",
      "MSFT\n",
      "JB Value is \t 3463.0338 \n",
      "p-value is \t 0.0000\n",
      "\n",
      "ORCL\n",
      "JB Value is \t 3156.5231 \n",
      "p-value is \t 0.0000\n",
      "\n",
      "TSLA\n",
      "JB Value is \t 132.8359 \n",
      "p-value is \t 0.0000\n",
      "\n",
      "YELP\n",
      "JB Value is \t 17501.0231 \n",
      "p-value is \t 0.0000\n",
      "\n",
      "portfolio_rtns\n",
      "JB Value is \t 276.2527 \n",
      "p-value is \t 0.0000\n",
      "\n"
     ]
    }
   ],
   "source": [
    "for k, v in enumerate(df4):\n",
    "    print(v)\n",
    "    print(\"JB Value is \\t {0[0]:.4f} \\np-value is \\t {0[1]:.4f}\\n\".\n",
    "          format(stats.jarque_bera(df4[v].dropna())))"
   ]
  },
  {
   "cell_type": "markdown",
   "metadata": {},
   "source": [
    "## Stable Distribution\n",
    "\n",
    "The stable distributions are a natural generalization of normal in that they are stable under addition, which meets the need of continuously compounded returns $r_t$. Furthermore, stable distributions are capable of capturing excess kurtosis shown\n",
    "by historical stock returns. However, nonnormal stable distributions do not have a finite variance, which is in conflict with most finance theories. In addition, statistical modeling using nonnormal stable distributions is difficult. An example of\n",
    "nonnormal stable distributions is the Cauchy distribution, which is symmetric with respect to its median but has infinite variance."
   ]
  },
  {
   "cell_type": "markdown",
   "metadata": {},
   "source": [
    "## Scale Mixture of Normal Distributions\n",
    "\n",
    "Recent studies of stock returns tend to use scale mixture or finite mixture of normal distributions. Under the assumption of scale mixture of normal distributions, the log return $r_t$ is normally distributed with mean $\\mu$ and variance $\\sigma^2$ [i.e., $r_t ∼ N(\\mu, \\sigma^2)$]. However, $\\sigma^2$ is a random variable that follows a positive distribution (e.g., $\\sigma^{-2}$ follows a gamma distribution). An example of finite mixture of normal distributions is\n",
    "\n",
    "$$r_t ∼ (1-X)N(\\mu,\\sigma_1^2)+XN(\\mu,\\sigma_2^2)$$\n",
    "\n",
    "where $X$ is a Bernoulli random variable such that $P(X = 1) = \\alpha$ and $P(X = 0) = 1 − \\alpha$ with $0 < \\alpha < 1$, $\\sigma_1^2$ is small, and $\\sigma_2^2$ is relatively large. For instance, with $\\alpha = 0.05$, the finite mixture says that 95% of the returns follow $N(\\mu, \\sigma_1^2)$ and 5% follow $N(\\mu, \\sigma_2^2)$. The large value of $\\sigma_2^2$ enables the mixture to put more mass at the tails of its distribution. The low percentage of returns that are from $N(\\mu, \\sigma_2^2)$ says\n",
    "that the majority of the returns follow a simple normal distribution. Advantages of mixtures of normal include that they maintain the tractability of normal, have finite higher order moments, and can capture the excess kurtosis. Yet it is hard to\n",
    "estimate the mixture parameters (e.g., the $\\alpha$ in the finite-mixture case).\n",
    "\n",
    "\n",
    "\n"
   ]
  },
  {
   "cell_type": "markdown",
   "metadata": {},
   "source": [
    "[Jake VanderPlas - Kernel Density Estimation in Python](https://jakevdp.github.io/blog/2013/12/01/kernel-density-estimation/)\n",
    "\n",
    "[Jake VanderPlas - Kernel Density Estimation in Python Notebook](http://nbviewer.jupyter.org/url/jakevdp.github.com/downloads/notebooks/KDEBench.ipynb)\n",
    "\n",
    "[Michael Lerner - Histograms and kernel density estimation KDE 2](https://mglerner.github.io/posts/histograms-and-kernel-density-estimation-kde-2.html?p=28)"
   ]
  },
  {
   "cell_type": "code",
   "execution_count": 71,
   "metadata": {},
   "outputs": [
    {
     "data": {
      "image/png": "[encoded data removed]",
      "text/plain": [
       "<matplotlib.figure.Figure at 0x26fe4dd1710>"
      ]
     },
     "metadata": {},
     "output_type": "display_data"
    }
   ],
   "source": [
    "# %matplotlib notebook\n",
    "%matplotlib inline\n",
    "plt.figure(figsize=(12,6))\n",
    "sns.distplot(df4['IBM'], bins=50, fit=stats.norm, kde=False);"
   ]
  },
  {
   "cell_type": "code",
   "execution_count": 72,
   "metadata": {},
   "outputs": [
    {
     "data": {
      "image/png": "[encoded data removed]",
      "text/plain": [
       "<matplotlib.figure.Figure at 0x26fe7914a58>"
      ]
     },
     "metadata": {},
     "output_type": "display_data"
    }
   ],
   "source": [
    "fig, ax = plt.subplots(1, 1, figsize=(12,6))\n",
    "x = np.linspace(-4, 4, 100)\n",
    "line1, = ax.plot(x, stats.norm.pdf(x), 'k-', lw=2, alpha=0.8, label='normal pdf')\n",
    "line2, = ax.plot(x, stats.cauchy.pdf(x), 'r-', lw=2, alpha=0.8, label='cauchy pdf')\n",
    "plt.legend([line1, line2], [\"Normal\", \"Cauchy\"]);"
   ]
  },
  {
   "cell_type": "raw",
   "metadata": {
    "collapsed": true
   },
   "source": [
    "from sklearn.neighbors import KernelDensity\n",
    "\n",
    "fig, ax = plt.subplots(figsize=(8, 6))\n",
    "ax.grid(color='white', linestyle='-', linewidth=2)\n",
    "X_src = np.zeros((1, 1))\n",
    "x_grid = np.linspace(-4, 4, 1000)\n",
    "log_dens = KernelDensity(kernel='gaussian').fit(X_src).score_samples(x_grid[:, None])\n",
    "ax.plot(x_grid, np.exp(log_dens), lw=3, alpha=0.5, label='gaussian');"
   ]
  },
  {
   "cell_type": "raw",
   "metadata": {
    "collapsed": true
   },
   "source": [
    "from sklearn.mixture import GaussianMixture"
   ]
  },
  {
   "cell_type": "raw",
   "metadata": {
    "collapsed": true
   },
   "source": [
    "gmm = GaussianMixture(n_components=2, max_iter=1000, \n",
    "                      weights_init = [0.9, 0.1],\n",
    "                      init_params='random')\n",
    "\n",
    "samples_1 = np.random.normal(0, 1, 10000)\n",
    "samples_2 = np.random.normal(0, 2, 10000)\n",
    "X = np.concatenate((samples_1, samples_2))\n",
    "\n",
    "gmm = gmm.fit(X.reshape(-1,1))\n",
    "gmm_x = np.linspace(-4, 4, 1000)\n",
    "gmm_y = np.exp(gmm.score_samples(gmm_x.reshape(-1, 1)))\n",
    "plt.plot(gmm_x, gmm_y);"
   ]
  },
  {
   "cell_type": "raw",
   "metadata": {},
   "source": [
    "def gen_mix(x, mu, sigma, weights):\n",
    "    gmm = GaussianMixture(n_components=2, max_iter=1000, \n",
    "                          weights_init = weights,\n",
    "                          covariance_type = 'full',\n",
    "                          init_params = 'random')\n",
    "\n",
    "    samples_1 = np.random.normal(mu[0], sigma[0], 100000)\n",
    "    samples_2 = np.random.normal(mu[1], sigma[1], 100000)\n",
    "    print(mu[1], sigma[1])\n",
    "    X = np.concatenate((samples_1, samples_2))\n",
    "\n",
    "    gmm = gmm.fit(X.reshape(-1, 1))\n",
    "    gmm_x = np.linspace(-4, 4, 1000)\n",
    "    gmm_y = np.exp(gmm.score_samples(gmm_x.reshape(-1, 1)))\n",
    "    \n",
    "    return gmm_x, gmm_y"
   ]
  },
  {
   "cell_type": "code",
   "execution_count": 73,
   "metadata": {
    "collapsed": true
   },
   "outputs": [],
   "source": [
    "import math\n",
    "import numpy as np\n",
    "def std_norm_pdf(x):\n",
    "    return 1 / np.sqrt(2 * math.pi) * np.exp(-x ** 2 / 2)"
   ]
  },
  {
   "cell_type": "code",
   "execution_count": 74,
   "metadata": {
    "collapsed": true
   },
   "outputs": [],
   "source": [
    "import math\n",
    "import numpy as np\n",
    "def norm_pdf(mu, sigma, x):\n",
    "    return 1 / (sigma * np.sqrt(2 * math.pi)) * np.exp(- 1 / 2 * ((x - mu) / sigma) ** 2)"
   ]
  },
  {
   "cell_type": "code",
   "execution_count": 75,
   "metadata": {
    "collapsed": true
   },
   "outputs": [],
   "source": [
    "mu = [0, 0]\n",
    "sigma = [1, 2]\n",
    "alpha = 0.05\n",
    "length = 100000\n",
    "\n",
    "x = np.linspace(-4, 4, length)\n",
    "\n",
    "samples_1 = np.random.normal(mu[0], sigma[0], length)\n",
    "samples_2 = np.random.normal(mu[1], sigma[1], length)\n",
    "ind = np.random.rand(length)\n",
    "res = []\n",
    "for k, v in enumerate(ind):\n",
    "    if v >= alpha:\n",
    "        res.append(samples_1[k])\n",
    "    else:\n",
    "        res.append(samples_2[k])\n",
    "mm_mean = np.mean(res)\n",
    "mm_std = np.std(res)"
   ]
  },
  {
   "cell_type": "code",
   "execution_count": 76,
   "metadata": {},
   "outputs": [
    {
     "data": {
      "image/png": "[encoded data removed]",
      "text/plain": [
       "<matplotlib.figure.Figure at 0x26fe7b66908>"
      ]
     },
     "metadata": {},
     "output_type": "display_data"
    }
   ],
   "source": [
    "fig, ax = plt.subplots(1, 1, figsize=(12,6))\n",
    "x = np.linspace(-4, 4, length)\n",
    "y = norm_pdf(mm_mean, mm_std, x)\n",
    "\n",
    "line1, = ax.plot(x, stats.norm.pdf(x), 'k-', lw=2, alpha=0.8, label='Nrmal')\n",
    "line2, = ax.plot(x, stats.cauchy.pdf(x), 'r-', lw=2, alpha=0.8, label='Cauchy')\n",
    "line3, = ax.plot(x, y, 'g-', lw=1, alpha=0.8, label='Mixture')\n",
    "plt.legend([line1, line2, line3], [\"Normal\", \"Cauchy\", \"Mixture\"]);"
   ]
  },
  {
   "cell_type": "markdown",
   "metadata": {},
   "source": [
    "***"
   ]
  },
  {
   "cell_type": "markdown",
   "metadata": {},
   "source": [
    "# Multivariate Returns\n",
    "\n",
    "Joint distribution \n",
    "\n",
    "How conditional expectation and conditional covariance matrix evolve over time\n",
    "\n",
    "Random Vector $X = (X_1, ..., X_p)$\n",
    "\n",
    "$E(X)=\\mu_x=[E(X_1), ..., E(X_p)]^\\prime$\n",
    "\n",
    "$Cov(X)=\\sum_x=E[(X - \\mu_x)(X - \\mu_x)^\\prime]$\n",
    "\n",
    "\n",
    "\n"
   ]
  },
  {
   "cell_type": "markdown",
   "metadata": {},
   "source": [
    "# Likelihood Function of Returns\n",
    "\n",
    "Some financial theories such as the capital asset pricing model (CAPM) of Sharpe (1964) focus on the joint distribution of $N$ returns at a **single time index $t$** (i.e., the distribution of ${r_{1t}, ..., r_{Nt}}$). In this, we are looking at the returns of all the different assets, $1, ..., N$, at time $T$ only.\n",
    "\n",
    "\n",
    "Other theories emphasize the **dynamic structure** of individual asset returns (i.e., the distribution of {$r_{i1}, ..., r_{iT}$} for a given asset $i$). Here are only looking at the returns of asset $i$ across time, $1, ..., T$.\n",
    "\n",
    "In univariate analysis, our main concern is the joint distribution of {$r_{it}$}$^T_{t=1}$ for asset $i$. To this end, it is useful to partition the joint distribution as\n",
    "\n",
    "\\begin{align}\n",
    "F(r_{i1}, ...r_{iT}; \\theta) & = F(r_{i1}; \\theta)F(r_{i2}|r_{i1}; \\theta)...F(r_{iT}|r_{i, T-1}, ...,r_{i1}; \\theta) \\\\ \n",
    "& = F(r_{i1}; \\theta)\\prod_{t=2}^TF(r_{it}|r_{i,t-1}, ..., r_{i1}; \\theta) \\\\\n",
    "\\end{align}\n",
    "\n",
    "This partition highlights the temporal dependencies of the log return $r_{it}$.\n",
    "\n",
    "The above equation can be used to obtain the likelihood function of the log returns {$r_1, ..., r_T$} of an asset.\n",
    "\n",
    "If the conditional distribution $f(r_t|r_{t-1}, ..., r_1, \\theta)$ is normal with mean $\\mu_t$ and variance $\\sigma_t^2$, when $\\theta$ consists of the parameters in $\\mu_t$ and $\\sigma_t^2$ and the likelihood function of the data is:\n",
    "\n",
    "\n",
    "$$f(r_1, ..., r_T;\\theta)=f(r_1;\\theta)\\prod_{t=2}^T\\frac{1}{\\sqrt{2\\pi}\\sigma_t}exp\\bigg[\\frac{-(r_t-\\mu_t)^2}{2\\sigma_t^2}\\bigg]$$\n",
    "\n",
    "where $f(r_1; θ)$ is the marginal density function of the first observation $r_1$. The value of $\\theta$ that maximizes this likelihood function is the maximum-likelihood estimate (MLE) of $\\theta$. Since the log function is monotone, the MLE can be obtained by maximizing the log-likelihood function,\n",
    "\n",
    "$$ln\\  f(r_1, ..., r_T;\\theta)=ln\\ f(r_1;\\theta) - \\frac{1}{2} \\sum_{t=2}^T\\bigg[ln(2\\pi)+ln(\\sigma_t^2)+\\frac{(r_t-\\mu_t)^2}{\\sigma_t^2}\\bigg]$$\n",
    "\n"
   ]
  },
  {
   "cell_type": "markdown",
   "metadata": {},
   "source": [
    "# Empirical Properties of Return"
   ]
  },
  {
   "cell_type": "code",
   "execution_count": 77,
   "metadata": {
    "collapsed": true
   },
   "outputs": [],
   "source": [
    "start = datetime.datetime(1975, 1, 1)\n",
    "end = datetime.datetime(2015, 1, 1)"
   ]
  },
  {
   "cell_type": "code",
   "execution_count": 78,
   "metadata": {
    "collapsed": true
   },
   "outputs": [],
   "source": [
    "f = data.DataReader(\"IBM\", 'yahoo', start, end)"
   ]
  },
  {
   "cell_type": "code",
   "execution_count": 79,
   "metadata": {
    "collapsed": true
   },
   "outputs": [],
   "source": [
    "df = f.resample('M').asfreq().ffill()"
   ]
  },
  {
   "cell_type": "code",
   "execution_count": 80,
   "metadata": {},
   "outputs": [
    {
     "data": {
      "text/html": [
       "<div>\n",
       "<style>\n",
       "    .dataframe thead tr:only-child th {\n",
       "        text-align: right;\n",
       "    }\n",
       "\n",
       "    .dataframe thead th {\n",
       "        text-align: left;\n",
       "    }\n",
       "\n",
       "    .dataframe tbody tr th {\n",
       "        vertical-align: top;\n",
       "    }\n",
       "</style>\n",
       "<table border=\"1\" class=\"dataframe\">\n",
       "  <thead>\n",
       "    <tr style=\"text-align: right;\">\n",
       "      <th></th>\n",
       "      <th>Open</th>\n",
       "      <th>High</th>\n",
       "      <th>Low</th>\n",
       "      <th>Close</th>\n",
       "      <th>Adj Close</th>\n",
       "      <th>Volume</th>\n",
       "    </tr>\n",
       "    <tr>\n",
       "      <th>Date</th>\n",
       "      <th></th>\n",
       "      <th></th>\n",
       "      <th></th>\n",
       "      <th></th>\n",
       "      <th></th>\n",
       "      <th></th>\n",
       "    </tr>\n",
       "  </thead>\n",
       "  <tbody>\n",
       "    <tr>\n",
       "      <th>1974-12-31</th>\n",
       "      <td>10.375000</td>\n",
       "      <td>10.554688</td>\n",
       "      <td>10.375000</td>\n",
       "      <td>10.500000</td>\n",
       "      <td>3.329909</td>\n",
       "      <td>782400.0</td>\n",
       "    </tr>\n",
       "    <tr>\n",
       "      <th>1975-01-31</th>\n",
       "      <td>11.453125</td>\n",
       "      <td>11.812500</td>\n",
       "      <td>11.453125</td>\n",
       "      <td>11.765625</td>\n",
       "      <td>3.731280</td>\n",
       "      <td>1542400.0</td>\n",
       "    </tr>\n",
       "    <tr>\n",
       "      <th>1975-02-28</th>\n",
       "      <td>13.265625</td>\n",
       "      <td>13.484375</td>\n",
       "      <td>13.242188</td>\n",
       "      <td>13.468750</td>\n",
       "      <td>4.303698</td>\n",
       "      <td>1094400.0</td>\n",
       "    </tr>\n",
       "    <tr>\n",
       "      <th>1975-03-31</th>\n",
       "      <td>12.968750</td>\n",
       "      <td>13.031250</td>\n",
       "      <td>12.859375</td>\n",
       "      <td>12.914063</td>\n",
       "      <td>4.126455</td>\n",
       "      <td>796800.0</td>\n",
       "    </tr>\n",
       "    <tr>\n",
       "      <th>1975-04-30</th>\n",
       "      <td>12.640625</td>\n",
       "      <td>13.125000</td>\n",
       "      <td>12.609375</td>\n",
       "      <td>13.117188</td>\n",
       "      <td>4.191364</td>\n",
       "      <td>1099200.0</td>\n",
       "    </tr>\n",
       "  </tbody>\n",
       "</table>\n",
       "</div>"
      ],
      "text/plain": [
       "                 Open       High        Low      Close  Adj Close     Volume\n",
       "Date                                                                        \n",
       "1974-12-31  10.375000  10.554688  10.375000  10.500000   3.329909   782400.0\n",
       "1975-01-31  11.453125  11.812500  11.453125  11.765625   3.731280  1542400.0\n",
       "1975-02-28  13.265625  13.484375  13.242188  13.468750   4.303698  1094400.0\n",
       "1975-03-31  12.968750  13.031250  12.859375  12.914063   4.126455   796800.0\n",
       "1975-04-30  12.640625  13.125000  12.609375  13.117188   4.191364  1099200.0"
      ]
     },
     "execution_count": 80,
     "metadata": {},
     "output_type": "execute_result"
    }
   ],
   "source": [
    "df.head()"
   ]
  },
  {
   "cell_type": "code",
   "execution_count": 81,
   "metadata": {},
   "outputs": [
    {
     "data": {
      "text/html": [
       "<div>\n",
       "<style>\n",
       "    .dataframe thead tr:only-child th {\n",
       "        text-align: right;\n",
       "    }\n",
       "\n",
       "    .dataframe thead th {\n",
       "        text-align: left;\n",
       "    }\n",
       "\n",
       "    .dataframe tbody tr th {\n",
       "        vertical-align: top;\n",
       "    }\n",
       "</style>\n",
       "<table border=\"1\" class=\"dataframe\">\n",
       "  <thead>\n",
       "    <tr style=\"text-align: right;\">\n",
       "      <th></th>\n",
       "      <th>Open</th>\n",
       "      <th>High</th>\n",
       "      <th>Low</th>\n",
       "      <th>Close</th>\n",
       "      <th>Adj Close</th>\n",
       "      <th>Volume</th>\n",
       "      <th>Simple Return</th>\n",
       "    </tr>\n",
       "    <tr>\n",
       "      <th>Date</th>\n",
       "      <th></th>\n",
       "      <th></th>\n",
       "      <th></th>\n",
       "      <th></th>\n",
       "      <th></th>\n",
       "      <th></th>\n",
       "      <th></th>\n",
       "    </tr>\n",
       "  </thead>\n",
       "  <tbody>\n",
       "    <tr>\n",
       "      <th>1974-12-31</th>\n",
       "      <td>10.375000</td>\n",
       "      <td>10.554688</td>\n",
       "      <td>10.375000</td>\n",
       "      <td>10.500000</td>\n",
       "      <td>3.329909</td>\n",
       "      <td>782400.0</td>\n",
       "      <td>NaN</td>\n",
       "    </tr>\n",
       "    <tr>\n",
       "      <th>1975-01-31</th>\n",
       "      <td>11.453125</td>\n",
       "      <td>11.812500</td>\n",
       "      <td>11.453125</td>\n",
       "      <td>11.765625</td>\n",
       "      <td>3.731280</td>\n",
       "      <td>1542400.0</td>\n",
       "      <td>0.120535</td>\n",
       "    </tr>\n",
       "    <tr>\n",
       "      <th>1975-02-28</th>\n",
       "      <td>13.265625</td>\n",
       "      <td>13.484375</td>\n",
       "      <td>13.242188</td>\n",
       "      <td>13.468750</td>\n",
       "      <td>4.303698</td>\n",
       "      <td>1094400.0</td>\n",
       "      <td>0.153411</td>\n",
       "    </tr>\n",
       "    <tr>\n",
       "      <th>1975-03-31</th>\n",
       "      <td>12.968750</td>\n",
       "      <td>13.031250</td>\n",
       "      <td>12.859375</td>\n",
       "      <td>12.914063</td>\n",
       "      <td>4.126455</td>\n",
       "      <td>796800.0</td>\n",
       "      <td>-0.041184</td>\n",
       "    </tr>\n",
       "    <tr>\n",
       "      <th>1975-04-30</th>\n",
       "      <td>12.640625</td>\n",
       "      <td>13.125000</td>\n",
       "      <td>12.609375</td>\n",
       "      <td>13.117188</td>\n",
       "      <td>4.191364</td>\n",
       "      <td>1099200.0</td>\n",
       "      <td>0.015730</td>\n",
       "    </tr>\n",
       "  </tbody>\n",
       "</table>\n",
       "</div>"
      ],
      "text/plain": [
       "                 Open       High        Low      Close  Adj Close     Volume  \\\n",
       "Date                                                                           \n",
       "1974-12-31  10.375000  10.554688  10.375000  10.500000   3.329909   782400.0   \n",
       "1975-01-31  11.453125  11.812500  11.453125  11.765625   3.731280  1542400.0   \n",
       "1975-02-28  13.265625  13.484375  13.242188  13.468750   4.303698  1094400.0   \n",
       "1975-03-31  12.968750  13.031250  12.859375  12.914063   4.126455   796800.0   \n",
       "1975-04-30  12.640625  13.125000  12.609375  13.117188   4.191364  1099200.0   \n",
       "\n",
       "            Simple Return  \n",
       "Date                       \n",
       "1974-12-31            NaN  \n",
       "1975-01-31       0.120535  \n",
       "1975-02-28       0.153411  \n",
       "1975-03-31      -0.041184  \n",
       "1975-04-30       0.015730  "
      ]
     },
     "execution_count": 81,
     "metadata": {},
     "output_type": "execute_result"
    }
   ],
   "source": [
    "df['Simple Return'] = df['Adj Close'].pct_change()\n",
    "df.head()"
   ]
  },
  {
   "cell_type": "code",
   "execution_count": 82,
   "metadata": {},
   "outputs": [
    {
     "data": {
      "text/html": [
       "<div>\n",
       "<style>\n",
       "    .dataframe thead tr:only-child th {\n",
       "        text-align: right;\n",
       "    }\n",
       "\n",
       "    .dataframe thead th {\n",
       "        text-align: left;\n",
       "    }\n",
       "\n",
       "    .dataframe tbody tr th {\n",
       "        vertical-align: top;\n",
       "    }\n",
       "</style>\n",
       "<table border=\"1\" class=\"dataframe\">\n",
       "  <thead>\n",
       "    <tr style=\"text-align: right;\">\n",
       "      <th></th>\n",
       "      <th>Open</th>\n",
       "      <th>High</th>\n",
       "      <th>Low</th>\n",
       "      <th>Close</th>\n",
       "      <th>Adj Close</th>\n",
       "      <th>Volume</th>\n",
       "      <th>Simple Return</th>\n",
       "      <th>Log Return</th>\n",
       "    </tr>\n",
       "    <tr>\n",
       "      <th>Date</th>\n",
       "      <th></th>\n",
       "      <th></th>\n",
       "      <th></th>\n",
       "      <th></th>\n",
       "      <th></th>\n",
       "      <th></th>\n",
       "      <th></th>\n",
       "      <th></th>\n",
       "    </tr>\n",
       "  </thead>\n",
       "  <tbody>\n",
       "    <tr>\n",
       "      <th>1974-12-31</th>\n",
       "      <td>10.375000</td>\n",
       "      <td>10.554688</td>\n",
       "      <td>10.375000</td>\n",
       "      <td>10.500000</td>\n",
       "      <td>3.329909</td>\n",
       "      <td>782400.0</td>\n",
       "      <td>NaN</td>\n",
       "      <td>NaN</td>\n",
       "    </tr>\n",
       "    <tr>\n",
       "      <th>1975-01-31</th>\n",
       "      <td>11.453125</td>\n",
       "      <td>11.812500</td>\n",
       "      <td>11.453125</td>\n",
       "      <td>11.765625</td>\n",
       "      <td>3.731280</td>\n",
       "      <td>1542400.0</td>\n",
       "      <td>0.120535</td>\n",
       "      <td>0.113806</td>\n",
       "    </tr>\n",
       "    <tr>\n",
       "      <th>1975-02-28</th>\n",
       "      <td>13.265625</td>\n",
       "      <td>13.484375</td>\n",
       "      <td>13.242188</td>\n",
       "      <td>13.468750</td>\n",
       "      <td>4.303698</td>\n",
       "      <td>1094400.0</td>\n",
       "      <td>0.153411</td>\n",
       "      <td>0.142723</td>\n",
       "    </tr>\n",
       "    <tr>\n",
       "      <th>1975-03-31</th>\n",
       "      <td>12.968750</td>\n",
       "      <td>13.031250</td>\n",
       "      <td>12.859375</td>\n",
       "      <td>12.914063</td>\n",
       "      <td>4.126455</td>\n",
       "      <td>796800.0</td>\n",
       "      <td>-0.041184</td>\n",
       "      <td>-0.042056</td>\n",
       "    </tr>\n",
       "    <tr>\n",
       "      <th>1975-04-30</th>\n",
       "      <td>12.640625</td>\n",
       "      <td>13.125000</td>\n",
       "      <td>12.609375</td>\n",
       "      <td>13.117188</td>\n",
       "      <td>4.191364</td>\n",
       "      <td>1099200.0</td>\n",
       "      <td>0.015730</td>\n",
       "      <td>0.015608</td>\n",
       "    </tr>\n",
       "  </tbody>\n",
       "</table>\n",
       "</div>"
      ],
      "text/plain": [
       "                 Open       High        Low      Close  Adj Close     Volume  \\\n",
       "Date                                                                           \n",
       "1974-12-31  10.375000  10.554688  10.375000  10.500000   3.329909   782400.0   \n",
       "1975-01-31  11.453125  11.812500  11.453125  11.765625   3.731280  1542400.0   \n",
       "1975-02-28  13.265625  13.484375  13.242188  13.468750   4.303698  1094400.0   \n",
       "1975-03-31  12.968750  13.031250  12.859375  12.914063   4.126455   796800.0   \n",
       "1975-04-30  12.640625  13.125000  12.609375  13.117188   4.191364  1099200.0   \n",
       "\n",
       "            Simple Return  Log Return  \n",
       "Date                                   \n",
       "1974-12-31            NaN         NaN  \n",
       "1975-01-31       0.120535    0.113806  \n",
       "1975-02-28       0.153411    0.142723  \n",
       "1975-03-31      -0.041184   -0.042056  \n",
       "1975-04-30       0.015730    0.015608  "
      ]
     },
     "execution_count": 82,
     "metadata": {},
     "output_type": "execute_result"
    }
   ],
   "source": [
    "df['Log Return'] = np.log(df['Simple Return'] + 1)\n",
    "df.head()"
   ]
  },
  {
   "cell_type": "code",
   "execution_count": 83,
   "metadata": {},
   "outputs": [
    {
     "data": {
      "image/png": "[encoded data removed]",
      "text/plain": [
       "<matplotlib.figure.Figure at 0x26fe8c98358>"
      ]
     },
     "metadata": {},
     "output_type": "display_data"
    }
   ],
   "source": [
    "#fig = plt.subplots(2,1, figsize=(10,8), sharey=True)\n",
    "fig = plt.figure(figsize=(10,8))\n",
    "ax1 = fig.add_subplot(211)\n",
    "ax2 = fig.add_subplot(212)\n",
    "fig.suptitle('Time plots of monthly returns of IBM stock from January 1976 to Jan 2015 \\n \\\n",
    "Upper panel is for simple returns, and lower panel is for log returns')\n",
    "\n",
    "y_min = df[['Simple Return', 'Log Return']].min().min()\n",
    "y_max = df[['Simple Return', 'Log Return']].max().max()\n",
    "ax1.set_ylim([y_min, y_max])\n",
    "ax1.plot(df['Simple Return']); \n",
    "ax1.axes.set_ylabel('Simple Return');\n",
    "\n",
    "ax2.set_ylim([y_min, y_max])\n",
    "ax2.plot(df['Log Return'])\n",
    "ax2.axes.set_ylabel('Log Return');"
   ]
  },
  {
   "cell_type": "markdown",
   "metadata": {},
   "source": [
    "***"
   ]
  }
 ],
 "metadata": {
  "kernelspec": {
   "display_name": "Python 3",
   "language": "python",
   "name": "python3"
  },
  "language_info": {
   "codemirror_mode": {
    "name": "ipython",
    "version": 3
   },
   "file_extension": ".py",
   "mimetype": "text/x-python",
   "name": "python",
   "nbconvert_exporter": "python",
   "pygments_lexer": "ipython3",
   "version": "3.6.3"
  }
 },
 "nbformat": 4,
 "nbformat_minor": 2
}
