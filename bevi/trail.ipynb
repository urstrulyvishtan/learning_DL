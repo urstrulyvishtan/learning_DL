{
 "cells": [
  {
   "cell_type": "markdown",
   "metadata": {},
   "source": [
    "Bevi Data Science Co-op Forecasting Exercise\n",
    "The goal of this exercise is to understand your approach to building an ML model in Python. The following are the aspects that we will be looking at.\n",
    "● Data Handling and assumptions\n",
    "● Feature Engineering\n",
    "● Model Selection\n",
    "● Accuracy Checks\n",
    "● Inferences\n",
    "● Next Steps"
   ]
  },
  {
   "cell_type": "markdown",
   "metadata": {},
   "source": [
    "Exercise:\n",
    "- We’ve given you weekly dispense data for six of our machines before October 2023. You need to use this data to create a forecasted weekly total usage for the weeks in months July to November.\n",
    "\n",
    "- Your forecasts should be based on data till the end of June 2023. The data provided for July 23 to September 23 is only for testing purposes.\n",
    "Week: \n",
    "- Our week starts on Monday and ends on Sunday. The weekend dates you see in the data represent the date a week ended with."
   ]
  },
  {
   "cell_type": "code",
   "execution_count": 1,
   "metadata": {},
   "outputs": [],
   "source": [
    "import pandas as pd\n",
    "import numpy as np\n",
    "import matplotlib.pyplot as plt\n",
    "from statsmodels.tsa.statespace.sarimax import SARIMAX\n",
    "from sklearn.metrics import mean_absolute_error, mean_squared_error"
   ]
  },
  {
   "cell_type": "code",
   "execution_count": 2,
   "metadata": {},
   "outputs": [],
   "source": [
    "data = pd.read_excel('co-op dataset.xlsx')"
   ]
  },
  {
   "cell_type": "code",
   "execution_count": null,
   "metadata": {},
   "outputs": [],
   "source": []
  }
 ],
 "metadata": {
  "kernelspec": {
   "display_name": "learning_dl",
   "language": "python",
   "name": "python3"
  },
  "language_info": {
   "codemirror_mode": {
    "name": "ipython",
    "version": 3
   },
   "file_extension": ".py",
   "mimetype": "text/x-python",
   "name": "python",
   "nbconvert_exporter": "python",
   "pygments_lexer": "ipython3",
   "version": "3.11.5"
  }
 },
 "nbformat": 4,
 "nbformat_minor": 2
}
