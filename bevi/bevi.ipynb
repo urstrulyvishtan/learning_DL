{
 "cells": [
  {
   "cell_type": "code",
   "execution_count": 5,
   "metadata": {},
   "outputs": [],
   "source": [
    "import pandas as pd\n",
    "import numpy as np\n",
    "import matplotlib.pyplot as plt\n",
    "from statsmodels.tsa.statespace.sarimax import SARIMAX\n",
    "from sklearn.metrics import mean_absolute_error, mean_squared_error"
   ]
  },
  {
   "cell_type": "code",
   "execution_count": 7,
   "metadata": {},
   "outputs": [
    {
     "name": "stdout",
     "output_type": "stream",
     "text": [
      "          ID WEEK_END_DT  TOTAL_DISPENSED  FLAVORED_DISPENSED\n",
      "0    743BD6E  2022-07-10         278418.0         60878.00000\n",
      "1    1CD19D3  2022-07-10          28045.0         10517.00004\n",
      "2    D3635AD  2022-07-10          23631.0         16203.99998\n",
      "3    A74A256  2022-07-10              NaN                 NaN\n",
      "4    BB7EA2A  2022-07-10         132980.0         79995.00001\n",
      "..       ...         ...              ...                 ...\n",
      "350  FBCE7D2  2023-10-01          18096.0          6573.00001\n",
      "351  1CD19D3  2023-10-01              NaN                 NaN\n",
      "352  D3635AD  2023-10-01         143329.0         45258.00001\n",
      "353  A74A256  2023-10-01          80881.0         29208.99999\n",
      "354  BB7EA2A  2023-10-01         179271.0         52692.99997\n",
      "\n",
      "[355 rows x 4 columns]\n"
     ]
    }
   ],
   "source": [
    "data = pd.read_excel('co-op dataset.xlsx')\n",
    "\n",
    "# Display the dataframe\n",
    "print(data)"
   ]
  },
  {
   "cell_type": "code",
   "execution_count": 9,
   "metadata": {},
   "outputs": [],
   "source": [
    "# Convert the date column to datetime\n",
    "data['WEEK_END_DT'] = pd.to_datetime(data['WEEK_END_DT'])"
   ]
  },
  {
   "cell_type": "code",
   "execution_count": 10,
   "metadata": {},
   "outputs": [
    {
     "name": "stdout",
     "output_type": "stream",
     "text": [
      "ID                     0\n",
      "WEEK_END_DT            0\n",
      "TOTAL_DISPENSED       43\n",
      "FLAVORED_DISPENSED    43\n",
      "dtype: int64\n"
     ]
    }
   ],
   "source": [
    "# Check for missing values\n",
    "print(data.isnull().sum())"
   ]
  },
  {
   "cell_type": "code",
   "execution_count": 12,
   "metadata": {},
   "outputs": [],
   "source": [
    "# Sort data by date\n",
    "data.sort_values(by='WEEK_END_DT', inplace=True)"
   ]
  },
  {
   "cell_type": "code",
   "execution_count": 13,
   "metadata": {},
   "outputs": [],
   "source": [
    "# Ensure the data is in chronological order\n",
    "data = data.sort_values(['ID', 'WEEK_END_DT'])"
   ]
  },
  {
   "cell_type": "code",
   "execution_count": 14,
   "metadata": {},
   "outputs": [
    {
     "name": "stdout",
     "output_type": "stream",
     "text": [
      "         ID WEEK_END_DT  TOTAL_DISPENSED  FLAVORED_DISPENSED\n",
      "1   1CD19D3  2022-07-10          28045.0         10517.00004\n",
      "6   1CD19D3  2022-07-17          34723.0         12025.99998\n",
      "11  1CD19D3  2022-07-24          33345.0         13743.00000\n",
      "16  1CD19D3  2022-07-31          41009.0         17136.00000\n",
      "21  1CD19D3  2022-08-07          24561.0          6542.99999\n"
     ]
    }
   ],
   "source": [
    "print(data.head())"
   ]
  },
  {
   "cell_type": "code",
   "execution_count": 16,
   "metadata": {},
   "outputs": [
    {
     "name": "stdout",
     "output_type": "stream",
     "text": [
      "         ID WEEK_END_DT  TOTAL_DISPENSED  FLAVORED_DISPENSED  week_number  \\\n",
      "1   1CD19D3  2022-07-10          28045.0         10517.00004           27   \n",
      "6   1CD19D3  2022-07-17          34723.0         12025.99998           28   \n",
      "11  1CD19D3  2022-07-24          33345.0         13743.00000           29   \n",
      "16  1CD19D3  2022-07-31          41009.0         17136.00000           30   \n",
      "21  1CD19D3  2022-08-07          24561.0          6542.99999           31   \n",
      "\n",
      "    month  \n",
      "1       7  \n",
      "6       7  \n",
      "11      7  \n",
      "16      7  \n",
      "21      8  \n"
     ]
    }
   ],
   "source": [
    "# Add week number and month as features\n",
    "data['week_number'] = data['WEEK_END_DT'].dt.isocalendar().week\n",
    "data['month'] = data['WEEK_END_DT'].dt.month\n",
    "\n",
    "# Display the first few rows of the data with new features\n",
    "print(data.head())"
   ]
  },
  {
   "cell_type": "code",
   "execution_count": null,
   "metadata": {},
   "outputs": [],
   "source": []
  }
 ],
 "metadata": {
  "kernelspec": {
   "display_name": "learning_dl",
   "language": "python",
   "name": "python3"
  },
  "language_info": {
   "codemirror_mode": {
    "name": "ipython",
    "version": 3
   },
   "file_extension": ".py",
   "mimetype": "text/x-python",
   "name": "python",
   "nbconvert_exporter": "python",
   "pygments_lexer": "ipython3",
   "version": "3.11.5"
  }
 },
 "nbformat": 4,
 "nbformat_minor": 2
}
