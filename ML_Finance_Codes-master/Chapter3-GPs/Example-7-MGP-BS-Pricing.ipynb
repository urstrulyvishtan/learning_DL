{
 "cells": [
  {
   "cell_type": "code",
   "execution_count": 22,
   "metadata": {},
   "outputs": [],
   "source": [
    "# Example-7-MGP-BS-Pricing\n",
    "# Author: Matthew Dixon\n",
    "# Version: 1.0 (28.4.2020)\n",
    "# License: MIT\n",
    "# Email: matthew.dixon@iit.edu\n",
    "# Notes: tested on Mac OS X running Python 3.6.9 with the following packages:\n",
    "# scikit-learn=0.22.1, numpy=1.18.1, matplotlib=3.1.3, gpytorch=0.1.0, torch=1.5.0, scipy=1.4.1\n",
    "# Citation: Please cite the following reference if this notebook is used for research purposes:\n",
    "# Dixon M.F. Halperin I. and P. Bilokon, Machine Learning in Finance: From Theory to Practice, Springer Graduate textbook Series, 2020. "
   ]
  },
  {
   "cell_type": "markdown",
   "metadata": {},
   "source": [
    "# Overview\n",
    "The purpose of this notebook is to demonstrate the fitting of a multi-response Gaussian Process Regression model (GP) to the prices of two options. In this notebook, the prices of a call and put are generated from the Black-Scholes model.  The notebook begins by building a multi-GP model, and then evaluates the error.\n",
    "\n",
    "Finally the notebook studies the posterior covariance term which is uniquely available in the multi-GP model. See Section 6 for further details."
   ]
  },
  {
   "cell_type": "code",
   "execution_count": 2,
   "metadata": {
    "scrolled": true
   },
   "outputs": [],
   "source": [
    "import torch\n",
    "import gpytorch\n",
    "import numpy as np\n",
    "from BlackScholes import bsformula\n",
    "from matplotlib import pyplot as plt\n",
    "from scipy import stats  \n",
    "\n",
    "%matplotlib inline"
   ]
  },
  {
   "cell_type": "markdown",
   "metadata": {},
   "source": [
    "## Black-Scholes Model"
   ]
  },
  {
   "cell_type": "markdown",
   "metadata": {},
   "source": [
    "First, set the model parameters"
   ]
  },
  {
   "cell_type": "code",
   "execution_count": 4,
   "metadata": {},
   "outputs": [],
   "source": [
    "r = 0.0     # risk-free rate\n",
    "S= 100      # Underlying spot\n",
    "KC = 110    # Call strike\n",
    "KP = 90     # Put strike\n",
    "sigma = 0.3 # implied volatility\n",
    "T = 2.0     # Time to maturity"
   ]
  },
  {
   "cell_type": "markdown",
   "metadata": {},
   "source": [
    "Define the call and put prices using the BS model\n"
   ]
  },
  {
   "cell_type": "code",
   "execution_count": 5,
   "metadata": {},
   "outputs": [],
   "source": [
    "call = lambda x: bsformula(1, lb+(ub-lb)*x, KC, r, T, sigma, 0)[0]\n",
    "put = lambda x: bsformula(-1, lb+(ub-lb)*x, KP, r, T, sigma, 0)[0]"
   ]
  },
  {
   "cell_type": "markdown",
   "metadata": {},
   "source": [
    "Create an input vector representing the underlying and output vectors `train_y1` and `train_y2` representing the call and put prices respectively from the Black-Scholes model. "
   ]
  },
  {
   "cell_type": "code",
   "execution_count": 7,
   "metadata": {},
   "outputs": [],
   "source": [
    "lb = 0.001             # lower bound on domain\n",
    "ub = 300               # upper bound on domain\n",
    "training_number = 50   # Number of training samples\n",
    "testing_number =  100  # Number of testing samples\n",
    "\n",
    "train_x = torch.linspace(0, 1.0, training_number)\n",
    "train_y1 = torch.FloatTensor(call(np.array(train_x)))\n",
    "train_y2 = torch.FloatTensor(put(np.array(train_x)))"
   ]
  },
  {
   "cell_type": "markdown",
   "metadata": {},
   "source": [
    "Create `train_y` which stacks the two into a tensor for training a model which outputs both quantities"
   ]
  },
  {
   "cell_type": "code",
   "execution_count": 8,
   "metadata": {},
   "outputs": [],
   "source": [
    "train_y = torch.stack([train_y1, train_y2], -1)"
   ]
  },
  {
   "cell_type": "markdown",
   "metadata": {},
   "source": [
    "Observe the first few elements of `train_y`:"
   ]
  },
  {
   "cell_type": "code",
   "execution_count": 9,
   "metadata": {},
   "outputs": [
    {
     "name": "stdout",
     "output_type": "stream",
     "text": [
      "         Call        Put\n",
      "tensor([[0.0000e+00, 8.9999e+01],\n",
      "        [7.5293e-12, 8.3877e+01],\n",
      "        [3.1548e-07, 7.7754e+01],\n",
      "        [4.9525e-05, 7.1632e+01],\n",
      "        [1.0728e-03, 6.5515e+01]])\n"
     ]
    }
   ],
   "source": [
    "print('         Call        Put')\n",
    "print(train_y[:5])"
   ]
  },
  {
   "cell_type": "markdown",
   "metadata": {},
   "source": [
    "We generate some testing data in the same way"
   ]
  },
  {
   "cell_type": "code",
   "execution_count": 10,
   "metadata": {},
   "outputs": [],
   "source": [
    "test_x = torch.linspace(0, 1.0, testing_number)\n",
    "test_y1 = torch.FloatTensor(call(np.array(test_x)))\n",
    "test_y2 = torch.FloatTensor(put(np.array(test_x)))\n",
    "test_y = torch.stack([test_y1, test_y2], -1)"
   ]
  },
  {
   "cell_type": "markdown",
   "metadata": {},
   "source": [
    "## Multi-Reponse GP Model"
   ]
  },
  {
   "cell_type": "markdown",
   "metadata": {},
   "source": [
    "Here we create the class which defines the architecture of our GP model"
   ]
  },
  {
   "cell_type": "code",
   "execution_count": 11,
   "metadata": {},
   "outputs": [],
   "source": [
    "class MultitaskGPModel(gpytorch.models.ExactGP):\n",
    "    def __init__(self, train_x, train_y, likelihood):\n",
    "        super(MultitaskGPModel, self).__init__(train_x, train_y, likelihood)\n",
    "        \n",
    "        self.mean_module = gpytorch.means.MultitaskMean(\n",
    "            gpytorch.means.ConstantMean(), num_tasks=2\n",
    "        )\n",
    "        \n",
    "        self.covar_module = gpytorch.kernels.MultitaskKernel(gpytorch.kernels.ScaleKernel(\n",
    "            gpytorch.kernels.MaternKernel(nu=2.5)), num_tasks=2, rank=1\n",
    "        )\n",
    "    \n",
    "    def forward(self, x):\n",
    "        mean_x = self.mean_module(x)\n",
    "        covar_x = self.covar_module(x)\n",
    "        return gpytorch.distributions.MultitaskMultivariateNormal(mean_x, covar_x)"
   ]
  },
  {
   "cell_type": "markdown",
   "metadata": {},
   "source": [
    "## Fit the multi-GP model"
   ]
  },
  {
   "cell_type": "code",
   "execution_count": 12,
   "metadata": {},
   "outputs": [
    {
     "name": "stderr",
     "output_type": "stream",
     "text": [
      "/Users/sibivishtan/anaconda3/envs/learning_dl/lib/python3.11/site-packages/transformers/utils/generic.py:441: UserWarning: torch.utils._pytree._register_pytree_node is deprecated. Please use torch.utils._pytree.register_pytree_node instead.\n",
      "  _torch_pytree._register_pytree_node(\n"
     ]
    },
    {
     "name": "stdout",
     "output_type": "stream",
     "text": [
      "Iter 1/300 - Loss: 285.641 lengthscale: 0.693 noise: 0.693\n",
      "Iter 2/300 - Loss: 229.659 lengthscale: 0.644 noise: 0.744\n",
      "Iter 3/300 - Loss: 184.783 lengthscale: 0.599 noise: 0.797\n",
      "Iter 4/300 - Loss: 149.499 lengthscale: 0.556 noise: 0.850\n",
      "Iter 5/300 - Loss: 122.151 lengthscale: 0.518 noise: 0.904\n",
      "Iter 6/300 - Loss: 101.130 lengthscale: 0.483 noise: 0.956\n",
      "Iter 7/300 - Loss: 85.003 lengthscale: 0.451 noise: 1.008\n",
      "Iter 8/300 - Loss: 72.588 lengthscale: 0.423 noise: 1.059\n",
      "Iter 9/300 - Loss: 62.956 lengthscale: 0.399 noise: 1.108\n",
      "Iter 10/300 - Loss: 55.406 lengthscale: 0.377 noise: 1.156\n",
      "Iter 11/300 - Loss: 49.417 lengthscale: 0.357 noise: 1.201\n",
      "Iter 12/300 - Loss: 44.607 lengthscale: 0.340 noise: 1.245\n",
      "Iter 13/300 - Loss: 40.697 lengthscale: 0.324 noise: 1.287\n",
      "Iter 14/300 - Loss: 37.478 lengthscale: 0.310 noise: 1.328\n",
      "Iter 15/300 - Loss: 34.798 lengthscale: 0.298 noise: 1.366\n",
      "Iter 16/300 - Loss: 32.541 lengthscale: 0.287 noise: 1.402\n",
      "Iter 17/300 - Loss: 30.620 lengthscale: 0.277 noise: 1.437\n",
      "Iter 18/300 - Loss: 28.967 lengthscale: 0.269 noise: 1.470\n",
      "Iter 19/300 - Loss: 27.532 lengthscale: 0.261 noise: 1.501\n",
      "Iter 20/300 - Loss: 26.274 lengthscale: 0.254 noise: 1.530\n",
      "Iter 21/300 - Loss: 25.163 lengthscale: 0.248 noise: 1.558\n",
      "Iter 22/300 - Loss: 24.173 lengthscale: 0.242 noise: 1.585\n",
      "Iter 23/300 - Loss: 23.285 lengthscale: 0.237 noise: 1.609\n",
      "Iter 24/300 - Loss: 22.483 lengthscale: 0.232 noise: 1.633\n",
      "Iter 25/300 - Loss: 21.754 lengthscale: 0.228 noise: 1.655\n",
      "Iter 26/300 - Loss: 21.088 lengthscale: 0.225 noise: 1.676\n",
      "Iter 27/300 - Loss: 20.476 lengthscale: 0.222 noise: 1.696\n",
      "Iter 28/300 - Loss: 19.912 lengthscale: 0.219 noise: 1.714\n",
      "Iter 29/300 - Loss: 19.390 lengthscale: 0.216 noise: 1.732\n",
      "Iter 30/300 - Loss: 18.904 lengthscale: 0.214 noise: 1.748\n",
      "Iter 31/300 - Loss: 18.452 lengthscale: 0.212 noise: 1.764\n",
      "Iter 32/300 - Loss: 18.028 lengthscale: 0.210 noise: 1.779\n",
      "Iter 33/300 - Loss: 17.631 lengthscale: 0.209 noise: 1.792\n",
      "Iter 34/300 - Loss: 17.257 lengthscale: 0.207 noise: 1.806\n",
      "Iter 35/300 - Loss: 16.905 lengthscale: 0.206 noise: 1.818\n",
      "Iter 36/300 - Loss: 16.573 lengthscale: 0.205 noise: 1.830\n",
      "Iter 37/300 - Loss: 16.258 lengthscale: 0.205 noise: 1.841\n",
      "Iter 38/300 - Loss: 15.960 lengthscale: 0.204 noise: 1.852\n",
      "Iter 39/300 - Loss: 15.678 lengthscale: 0.203 noise: 1.862\n",
      "Iter 40/300 - Loss: 15.409 lengthscale: 0.203 noise: 1.871\n",
      "Iter 41/300 - Loss: 15.153 lengthscale: 0.202 noise: 1.880\n",
      "Iter 42/300 - Loss: 14.910 lengthscale: 0.202 noise: 1.889\n",
      "Iter 43/300 - Loss: 14.677 lengthscale: 0.202 noise: 1.897\n",
      "Iter 44/300 - Loss: 14.456 lengthscale: 0.202 noise: 1.905\n",
      "Iter 45/300 - Loss: 14.243 lengthscale: 0.202 noise: 1.912\n",
      "Iter 46/300 - Loss: 14.040 lengthscale: 0.202 noise: 1.919\n",
      "Iter 47/300 - Loss: 13.846 lengthscale: 0.202 noise: 1.926\n",
      "Iter 48/300 - Loss: 13.660 lengthscale: 0.202 noise: 1.932\n",
      "Iter 49/300 - Loss: 13.481 lengthscale: 0.202 noise: 1.939\n",
      "Iter 50/300 - Loss: 13.309 lengthscale: 0.202 noise: 1.944\n",
      "Iter 51/300 - Loss: 13.144 lengthscale: 0.202 noise: 1.950\n",
      "Iter 52/300 - Loss: 12.985 lengthscale: 0.203 noise: 1.956\n",
      "Iter 53/300 - Loss: 12.832 lengthscale: 0.203 noise: 1.961\n",
      "Iter 54/300 - Loss: 12.684 lengthscale: 0.203 noise: 1.966\n",
      "Iter 55/300 - Loss: 12.542 lengthscale: 0.203 noise: 1.971\n",
      "Iter 56/300 - Loss: 12.405 lengthscale: 0.204 noise: 1.975\n",
      "Iter 57/300 - Loss: 12.272 lengthscale: 0.204 noise: 1.980\n",
      "Iter 58/300 - Loss: 12.144 lengthscale: 0.204 noise: 1.984\n",
      "Iter 59/300 - Loss: 12.020 lengthscale: 0.205 noise: 1.988\n",
      "Iter 60/300 - Loss: 11.900 lengthscale: 0.205 noise: 1.992\n",
      "Iter 61/300 - Loss: 11.783 lengthscale: 0.205 noise: 1.996\n",
      "Iter 62/300 - Loss: 11.670 lengthscale: 0.206 noise: 2.000\n",
      "Iter 63/300 - Loss: 11.561 lengthscale: 0.206 noise: 2.004\n",
      "Iter 64/300 - Loss: 11.455 lengthscale: 0.206 noise: 2.008\n",
      "Iter 65/300 - Loss: 11.351 lengthscale: 0.206 noise: 2.011\n",
      "Iter 66/300 - Loss: 11.251 lengthscale: 0.207 noise: 2.014\n",
      "Iter 67/300 - Loss: 11.153 lengthscale: 0.207 noise: 2.018\n",
      "Iter 68/300 - Loss: 11.058 lengthscale: 0.207 noise: 2.021\n",
      "Iter 69/300 - Loss: 10.965 lengthscale: 0.208 noise: 2.024\n",
      "Iter 70/300 - Loss: 10.875 lengthscale: 0.208 noise: 2.027\n",
      "Iter 71/300 - Loss: 10.787 lengthscale: 0.208 noise: 2.030\n",
      "Iter 72/300 - Loss: 10.701 lengthscale: 0.208 noise: 2.033\n",
      "Iter 73/300 - Loss: 10.617 lengthscale: 0.209 noise: 2.036\n",
      "Iter 74/300 - Loss: 10.535 lengthscale: 0.209 noise: 2.039\n",
      "Iter 75/300 - Loss: 10.455 lengthscale: 0.209 noise: 2.042\n",
      "Iter 76/300 - Loss: 10.377 lengthscale: 0.209 noise: 2.044\n",
      "Iter 77/300 - Loss: 10.301 lengthscale: 0.210 noise: 2.047\n",
      "Iter 78/300 - Loss: 10.226 lengthscale: 0.210 noise: 2.050\n",
      "Iter 79/300 - Loss: 10.153 lengthscale: 0.210 noise: 2.052\n",
      "Iter 80/300 - Loss: 10.081 lengthscale: 0.210 noise: 2.055\n",
      "Iter 81/300 - Loss: 10.011 lengthscale: 0.210 noise: 2.057\n",
      "Iter 82/300 - Loss: 9.942 lengthscale: 0.210 noise: 2.059\n",
      "Iter 83/300 - Loss: 9.875 lengthscale: 0.211 noise: 2.062\n",
      "Iter 84/300 - Loss: 9.808 lengthscale: 0.211 noise: 2.064\n",
      "Iter 85/300 - Loss: 9.744 lengthscale: 0.211 noise: 2.066\n",
      "Iter 86/300 - Loss: 9.680 lengthscale: 0.211 noise: 2.069\n",
      "Iter 87/300 - Loss: 9.617 lengthscale: 0.211 noise: 2.071\n",
      "Iter 88/300 - Loss: 9.556 lengthscale: 0.211 noise: 2.073\n",
      "Iter 89/300 - Loss: 9.496 lengthscale: 0.211 noise: 2.075\n",
      "Iter 90/300 - Loss: 9.437 lengthscale: 0.211 noise: 2.077\n",
      "Iter 91/300 - Loss: 9.379 lengthscale: 0.211 noise: 2.079\n",
      "Iter 92/300 - Loss: 9.321 lengthscale: 0.212 noise: 2.081\n",
      "Iter 93/300 - Loss: 9.265 lengthscale: 0.212 noise: 2.083\n",
      "Iter 94/300 - Loss: 9.210 lengthscale: 0.212 noise: 2.085\n",
      "Iter 95/300 - Loss: 9.156 lengthscale: 0.212 noise: 2.087\n",
      "Iter 96/300 - Loss: 9.102 lengthscale: 0.212 noise: 2.089\n",
      "Iter 97/300 - Loss: 9.050 lengthscale: 0.212 noise: 2.091\n",
      "Iter 98/300 - Loss: 8.998 lengthscale: 0.212 noise: 2.093\n",
      "Iter 99/300 - Loss: 8.947 lengthscale: 0.212 noise: 2.095\n",
      "Iter 100/300 - Loss: 8.897 lengthscale: 0.212 noise: 2.096\n",
      "Iter 101/300 - Loss: 8.847 lengthscale: 0.212 noise: 2.098\n",
      "Iter 102/300 - Loss: 8.799 lengthscale: 0.212 noise: 2.100\n",
      "Iter 103/300 - Loss: 8.751 lengthscale: 0.212 noise: 2.102\n",
      "Iter 104/300 - Loss: 8.704 lengthscale: 0.212 noise: 2.103\n",
      "Iter 105/300 - Loss: 8.657 lengthscale: 0.212 noise: 2.105\n",
      "Iter 106/300 - Loss: 8.611 lengthscale: 0.212 noise: 2.107\n",
      "Iter 107/300 - Loss: 8.566 lengthscale: 0.212 noise: 2.108\n",
      "Iter 108/300 - Loss: 8.522 lengthscale: 0.212 noise: 2.110\n",
      "Iter 109/300 - Loss: 8.478 lengthscale: 0.212 noise: 2.111\n",
      "Iter 110/300 - Loss: 8.434 lengthscale: 0.212 noise: 2.113\n",
      "Iter 111/300 - Loss: 8.392 lengthscale: 0.212 noise: 2.114\n",
      "Iter 112/300 - Loss: 8.350 lengthscale: 0.212 noise: 2.116\n",
      "Iter 113/300 - Loss: 8.308 lengthscale: 0.212 noise: 2.117\n",
      "Iter 114/300 - Loss: 8.267 lengthscale: 0.212 noise: 2.119\n",
      "Iter 115/300 - Loss: 8.227 lengthscale: 0.212 noise: 2.120\n",
      "Iter 116/300 - Loss: 8.187 lengthscale: 0.211 noise: 2.121\n",
      "Iter 117/300 - Loss: 8.148 lengthscale: 0.211 noise: 2.123\n",
      "Iter 118/300 - Loss: 8.109 lengthscale: 0.211 noise: 2.124\n",
      "Iter 119/300 - Loss: 8.071 lengthscale: 0.211 noise: 2.125\n",
      "Iter 120/300 - Loss: 8.033 lengthscale: 0.211 noise: 2.127\n",
      "Iter 121/300 - Loss: 7.996 lengthscale: 0.211 noise: 2.128\n",
      "Iter 122/300 - Loss: 7.959 lengthscale: 0.211 noise: 2.129\n",
      "Iter 123/300 - Loss: 7.922 lengthscale: 0.211 noise: 2.131\n",
      "Iter 124/300 - Loss: 7.887 lengthscale: 0.211 noise: 2.132\n",
      "Iter 125/300 - Loss: 7.851 lengthscale: 0.211 noise: 2.133\n",
      "Iter 126/300 - Loss: 7.816 lengthscale: 0.211 noise: 2.134\n",
      "Iter 127/300 - Loss: 7.781 lengthscale: 0.211 noise: 2.135\n",
      "Iter 128/300 - Loss: 7.747 lengthscale: 0.211 noise: 2.136\n",
      "Iter 129/300 - Loss: 7.714 lengthscale: 0.211 noise: 2.138\n",
      "Iter 130/300 - Loss: 7.680 lengthscale: 0.210 noise: 2.139\n",
      "Iter 131/300 - Loss: 7.647 lengthscale: 0.210 noise: 2.140\n",
      "Iter 132/300 - Loss: 7.615 lengthscale: 0.210 noise: 2.141\n",
      "Iter 133/300 - Loss: 7.583 lengthscale: 0.210 noise: 2.142\n",
      "Iter 134/300 - Loss: 7.551 lengthscale: 0.210 noise: 2.143\n",
      "Iter 135/300 - Loss: 7.519 lengthscale: 0.210 noise: 2.144\n",
      "Iter 136/300 - Loss: 7.488 lengthscale: 0.210 noise: 2.145\n",
      "Iter 137/300 - Loss: 7.458 lengthscale: 0.210 noise: 2.146\n",
      "Iter 138/300 - Loss: 7.427 lengthscale: 0.210 noise: 2.147\n",
      "Iter 139/300 - Loss: 7.397 lengthscale: 0.210 noise: 2.148\n",
      "Iter 140/300 - Loss: 7.368 lengthscale: 0.210 noise: 2.149\n",
      "Iter 141/300 - Loss: 7.338 lengthscale: 0.210 noise: 2.149\n",
      "Iter 142/300 - Loss: 7.309 lengthscale: 0.209 noise: 2.150\n",
      "Iter 143/300 - Loss: 7.281 lengthscale: 0.209 noise: 2.151\n",
      "Iter 144/300 - Loss: 7.252 lengthscale: 0.209 noise: 2.152\n",
      "Iter 145/300 - Loss: 7.224 lengthscale: 0.209 noise: 2.153\n",
      "Iter 146/300 - Loss: 7.197 lengthscale: 0.209 noise: 2.154\n",
      "Iter 147/300 - Loss: 7.169 lengthscale: 0.209 noise: 2.154\n",
      "Iter 148/300 - Loss: 7.142 lengthscale: 0.209 noise: 2.155\n",
      "Iter 149/300 - Loss: 7.115 lengthscale: 0.209 noise: 2.156\n",
      "Iter 150/300 - Loss: 7.089 lengthscale: 0.209 noise: 2.157\n",
      "Iter 151/300 - Loss: 7.062 lengthscale: 0.209 noise: 2.157\n",
      "Iter 152/300 - Loss: 7.036 lengthscale: 0.209 noise: 2.158\n",
      "Iter 153/300 - Loss: 7.011 lengthscale: 0.208 noise: 2.159\n",
      "Iter 154/300 - Loss: 6.985 lengthscale: 0.208 noise: 2.159\n",
      "Iter 155/300 - Loss: 6.960 lengthscale: 0.208 noise: 2.160\n",
      "Iter 156/300 - Loss: 6.935 lengthscale: 0.208 noise: 2.161\n",
      "Iter 157/300 - Loss: 6.911 lengthscale: 0.208 noise: 2.161\n",
      "Iter 158/300 - Loss: 6.886 lengthscale: 0.208 noise: 2.162\n",
      "Iter 159/300 - Loss: 6.862 lengthscale: 0.208 noise: 2.163\n",
      "Iter 160/300 - Loss: 6.838 lengthscale: 0.208 noise: 2.163\n",
      "Iter 161/300 - Loss: 6.814 lengthscale: 0.208 noise: 2.164\n",
      "Iter 162/300 - Loss: 6.791 lengthscale: 0.208 noise: 2.164\n",
      "Iter 163/300 - Loss: 6.768 lengthscale: 0.208 noise: 2.165\n",
      "Iter 164/300 - Loss: 6.745 lengthscale: 0.207 noise: 2.165\n",
      "Iter 165/300 - Loss: 6.722 lengthscale: 0.207 noise: 2.166\n",
      "Iter 166/300 - Loss: 6.700 lengthscale: 0.207 noise: 2.166\n",
      "Iter 167/300 - Loss: 6.677 lengthscale: 0.207 noise: 2.167\n",
      "Iter 168/300 - Loss: 6.655 lengthscale: 0.207 noise: 2.167\n",
      "Iter 169/300 - Loss: 6.633 lengthscale: 0.207 noise: 2.168\n",
      "Iter 170/300 - Loss: 6.612 lengthscale: 0.207 noise: 2.168\n",
      "Iter 171/300 - Loss: 6.590 lengthscale: 0.207 noise: 2.168\n",
      "Iter 172/300 - Loss: 6.569 lengthscale: 0.207 noise: 2.169\n",
      "Iter 173/300 - Loss: 6.548 lengthscale: 0.207 noise: 2.169\n",
      "Iter 174/300 - Loss: 6.527 lengthscale: 0.207 noise: 2.170\n",
      "Iter 175/300 - Loss: 6.506 lengthscale: 0.207 noise: 2.170\n",
      "Iter 176/300 - Loss: 6.486 lengthscale: 0.206 noise: 2.170\n",
      "Iter 177/300 - Loss: 6.466 lengthscale: 0.206 noise: 2.171\n",
      "Iter 178/300 - Loss: 6.446 lengthscale: 0.206 noise: 2.171\n",
      "Iter 179/300 - Loss: 6.426 lengthscale: 0.206 noise: 2.171\n",
      "Iter 180/300 - Loss: 6.406 lengthscale: 0.206 noise: 2.172\n",
      "Iter 181/300 - Loss: 6.387 lengthscale: 0.206 noise: 2.172\n",
      "Iter 182/300 - Loss: 6.367 lengthscale: 0.206 noise: 2.172\n",
      "Iter 183/300 - Loss: 6.348 lengthscale: 0.206 noise: 2.172\n",
      "Iter 184/300 - Loss: 6.329 lengthscale: 0.206 noise: 2.173\n",
      "Iter 185/300 - Loss: 6.310 lengthscale: 0.206 noise: 2.173\n",
      "Iter 186/300 - Loss: 6.292 lengthscale: 0.206 noise: 2.173\n",
      "Iter 187/300 - Loss: 6.273 lengthscale: 0.206 noise: 2.173\n",
      "Iter 188/300 - Loss: 6.255 lengthscale: 0.206 noise: 2.173\n",
      "Iter 189/300 - Loss: 6.237 lengthscale: 0.205 noise: 2.174\n",
      "Iter 190/300 - Loss: 6.219 lengthscale: 0.205 noise: 2.174\n",
      "Iter 191/300 - Loss: 6.201 lengthscale: 0.205 noise: 2.174\n",
      "Iter 192/300 - Loss: 6.183 lengthscale: 0.205 noise: 2.174\n",
      "Iter 193/300 - Loss: 6.166 lengthscale: 0.205 noise: 2.174\n",
      "Iter 194/300 - Loss: 6.148 lengthscale: 0.205 noise: 2.174\n",
      "Iter 195/300 - Loss: 6.131 lengthscale: 0.205 noise: 2.174\n",
      "Iter 196/300 - Loss: 6.114 lengthscale: 0.205 noise: 2.175\n",
      "Iter 197/300 - Loss: 6.097 lengthscale: 0.205 noise: 2.175\n",
      "Iter 198/300 - Loss: 6.080 lengthscale: 0.205 noise: 2.175\n",
      "Iter 199/300 - Loss: 6.063 lengthscale: 0.205 noise: 2.175\n",
      "Iter 200/300 - Loss: 6.047 lengthscale: 0.205 noise: 2.175\n",
      "Iter 201/300 - Loss: 6.031 lengthscale: 0.205 noise: 2.175\n",
      "Iter 202/300 - Loss: 6.014 lengthscale: 0.205 noise: 2.175\n",
      "Iter 203/300 - Loss: 5.998 lengthscale: 0.204 noise: 2.175\n",
      "Iter 204/300 - Loss: 5.982 lengthscale: 0.204 noise: 2.175\n",
      "Iter 205/300 - Loss: 5.966 lengthscale: 0.204 noise: 2.175\n",
      "Iter 206/300 - Loss: 5.951 lengthscale: 0.204 noise: 2.175\n",
      "Iter 207/300 - Loss: 5.935 lengthscale: 0.204 noise: 2.175\n",
      "Iter 208/300 - Loss: 5.920 lengthscale: 0.204 noise: 2.175\n",
      "Iter 209/300 - Loss: 5.904 lengthscale: 0.204 noise: 2.175\n",
      "Iter 210/300 - Loss: 5.889 lengthscale: 0.204 noise: 2.174\n",
      "Iter 211/300 - Loss: 5.874 lengthscale: 0.204 noise: 2.174\n",
      "Iter 212/300 - Loss: 5.859 lengthscale: 0.204 noise: 2.174\n",
      "Iter 213/300 - Loss: 5.844 lengthscale: 0.204 noise: 2.174\n",
      "Iter 214/300 - Loss: 5.829 lengthscale: 0.204 noise: 2.174\n",
      "Iter 215/300 - Loss: 5.815 lengthscale: 0.204 noise: 2.174\n",
      "Iter 216/300 - Loss: 5.800 lengthscale: 0.204 noise: 2.174\n",
      "Iter 217/300 - Loss: 5.786 lengthscale: 0.204 noise: 2.174\n",
      "Iter 218/300 - Loss: 5.772 lengthscale: 0.204 noise: 2.173\n",
      "Iter 219/300 - Loss: 5.757 lengthscale: 0.203 noise: 2.173\n",
      "Iter 220/300 - Loss: 5.743 lengthscale: 0.203 noise: 2.173\n",
      "Iter 221/300 - Loss: 5.729 lengthscale: 0.203 noise: 2.173\n",
      "Iter 222/300 - Loss: 5.716 lengthscale: 0.203 noise: 2.173\n",
      "Iter 223/300 - Loss: 5.702 lengthscale: 0.203 noise: 2.172\n",
      "Iter 224/300 - Loss: 5.688 lengthscale: 0.203 noise: 2.172\n",
      "Iter 225/300 - Loss: 5.675 lengthscale: 0.203 noise: 2.172\n",
      "Iter 226/300 - Loss: 5.661 lengthscale: 0.203 noise: 2.172\n",
      "Iter 227/300 - Loss: 5.648 lengthscale: 0.203 noise: 2.171\n",
      "Iter 228/300 - Loss: 5.635 lengthscale: 0.203 noise: 2.171\n",
      "Iter 229/300 - Loss: 5.621 lengthscale: 0.203 noise: 2.171\n",
      "Iter 230/300 - Loss: 5.608 lengthscale: 0.203 noise: 2.171\n",
      "Iter 231/300 - Loss: 5.595 lengthscale: 0.203 noise: 2.170\n",
      "Iter 232/300 - Loss: 5.583 lengthscale: 0.203 noise: 2.170\n",
      "Iter 233/300 - Loss: 5.570 lengthscale: 0.203 noise: 2.170\n",
      "Iter 234/300 - Loss: 5.557 lengthscale: 0.203 noise: 2.169\n",
      "Iter 235/300 - Loss: 5.545 lengthscale: 0.203 noise: 2.169\n",
      "Iter 236/300 - Loss: 5.532 lengthscale: 0.203 noise: 2.169\n",
      "Iter 237/300 - Loss: 5.520 lengthscale: 0.202 noise: 2.168\n",
      "Iter 238/300 - Loss: 5.507 lengthscale: 0.202 noise: 2.168\n",
      "Iter 239/300 - Loss: 5.495 lengthscale: 0.202 noise: 2.168\n",
      "Iter 240/300 - Loss: 5.483 lengthscale: 0.202 noise: 2.167\n",
      "Iter 241/300 - Loss: 5.471 lengthscale: 0.202 noise: 2.167\n",
      "Iter 242/300 - Loss: 5.459 lengthscale: 0.202 noise: 2.166\n",
      "Iter 243/300 - Loss: 5.447 lengthscale: 0.202 noise: 2.166\n",
      "Iter 244/300 - Loss: 5.435 lengthscale: 0.202 noise: 2.165\n",
      "Iter 245/300 - Loss: 5.424 lengthscale: 0.202 noise: 2.165\n",
      "Iter 246/300 - Loss: 5.412 lengthscale: 0.202 noise: 2.165\n",
      "Iter 247/300 - Loss: 5.401 lengthscale: 0.202 noise: 2.164\n",
      "Iter 248/300 - Loss: 5.389 lengthscale: 0.202 noise: 2.164\n",
      "Iter 249/300 - Loss: 5.378 lengthscale: 0.202 noise: 2.163\n",
      "Iter 250/300 - Loss: 5.366 lengthscale: 0.202 noise: 2.163\n",
      "Iter 251/300 - Loss: 5.355 lengthscale: 0.202 noise: 2.162\n",
      "Iter 252/300 - Loss: 5.344 lengthscale: 0.202 noise: 2.162\n",
      "Iter 253/300 - Loss: 5.333 lengthscale: 0.202 noise: 2.161\n",
      "Iter 254/300 - Loss: 5.322 lengthscale: 0.202 noise: 2.161\n",
      "Iter 255/300 - Loss: 5.311 lengthscale: 0.202 noise: 2.160\n",
      "Iter 256/300 - Loss: 5.300 lengthscale: 0.202 noise: 2.160\n",
      "Iter 257/300 - Loss: 5.289 lengthscale: 0.202 noise: 2.159\n",
      "Iter 258/300 - Loss: 5.279 lengthscale: 0.201 noise: 2.158\n",
      "Iter 259/300 - Loss: 5.268 lengthscale: 0.201 noise: 2.158\n",
      "Iter 260/300 - Loss: 5.257 lengthscale: 0.201 noise: 2.157\n",
      "Iter 261/300 - Loss: 5.247 lengthscale: 0.201 noise: 2.157\n",
      "Iter 262/300 - Loss: 5.236 lengthscale: 0.201 noise: 2.156\n",
      "Iter 263/300 - Loss: 5.226 lengthscale: 0.201 noise: 2.155\n",
      "Iter 264/300 - Loss: 5.216 lengthscale: 0.201 noise: 2.155\n",
      "Iter 265/300 - Loss: 5.206 lengthscale: 0.201 noise: 2.154\n",
      "Iter 266/300 - Loss: 5.195 lengthscale: 0.201 noise: 2.154\n",
      "Iter 267/300 - Loss: 5.185 lengthscale: 0.201 noise: 2.153\n",
      "Iter 268/300 - Loss: 5.175 lengthscale: 0.201 noise: 2.152\n",
      "Iter 269/300 - Loss: 5.165 lengthscale: 0.201 noise: 2.152\n",
      "Iter 270/300 - Loss: 5.155 lengthscale: 0.201 noise: 2.151\n",
      "Iter 271/300 - Loss: 5.145 lengthscale: 0.201 noise: 2.150\n",
      "Iter 272/300 - Loss: 5.136 lengthscale: 0.201 noise: 2.150\n",
      "Iter 273/300 - Loss: 5.126 lengthscale: 0.201 noise: 2.149\n",
      "Iter 274/300 - Loss: 5.116 lengthscale: 0.201 noise: 2.148\n",
      "Iter 275/300 - Loss: 5.107 lengthscale: 0.201 noise: 2.147\n",
      "Iter 276/300 - Loss: 5.097 lengthscale: 0.201 noise: 2.147\n",
      "Iter 277/300 - Loss: 5.088 lengthscale: 0.201 noise: 2.146\n",
      "Iter 278/300 - Loss: 5.078 lengthscale: 0.201 noise: 2.145\n",
      "Iter 279/300 - Loss: 5.069 lengthscale: 0.201 noise: 2.144\n",
      "Iter 280/300 - Loss: 5.060 lengthscale: 0.201 noise: 2.144\n",
      "Iter 281/300 - Loss: 5.050 lengthscale: 0.201 noise: 2.143\n",
      "Iter 282/300 - Loss: 5.041 lengthscale: 0.201 noise: 2.142\n",
      "Iter 283/300 - Loss: 5.032 lengthscale: 0.200 noise: 2.141\n",
      "Iter 284/300 - Loss: 5.023 lengthscale: 0.200 noise: 2.141\n",
      "Iter 285/300 - Loss: 5.014 lengthscale: 0.200 noise: 2.140\n",
      "Iter 286/300 - Loss: 5.005 lengthscale: 0.200 noise: 2.139\n",
      "Iter 287/300 - Loss: 4.996 lengthscale: 0.200 noise: 2.138\n",
      "Iter 288/300 - Loss: 4.987 lengthscale: 0.200 noise: 2.137\n",
      "Iter 289/300 - Loss: 4.978 lengthscale: 0.200 noise: 2.136\n",
      "Iter 290/300 - Loss: 4.969 lengthscale: 0.200 noise: 2.136\n",
      "Iter 291/300 - Loss: 4.961 lengthscale: 0.200 noise: 2.135\n",
      "Iter 292/300 - Loss: 4.952 lengthscale: 0.200 noise: 2.134\n",
      "Iter 293/300 - Loss: 4.943 lengthscale: 0.200 noise: 2.133\n",
      "Iter 294/300 - Loss: 4.935 lengthscale: 0.200 noise: 2.132\n",
      "Iter 295/300 - Loss: 4.926 lengthscale: 0.200 noise: 2.131\n",
      "Iter 296/300 - Loss: 4.918 lengthscale: 0.200 noise: 2.130\n",
      "Iter 297/300 - Loss: 4.909 lengthscale: 0.200 noise: 2.129\n",
      "Iter 298/300 - Loss: 4.901 lengthscale: 0.200 noise: 2.128\n",
      "Iter 299/300 - Loss: 4.893 lengthscale: 0.200 noise: 2.128\n",
      "Iter 300/300 - Loss: 4.884 lengthscale: 0.200 noise: 2.127\n"
     ]
    }
   ],
   "source": [
    "likelihood = gpytorch.likelihoods.MultitaskGaussianLikelihood(num_tasks=2)\n",
    "model = MultitaskGPModel(train_x, train_y, likelihood)\n",
    "\n",
    "model.train()\n",
    "likelihood.train()\n",
    "\n",
    "# Use the adam optimizer\n",
    "optimizer = torch.optim.Adam([\n",
    "    {'params': model.parameters()},  # Includes GaussianLikelihood parameters\n",
    "], lr=0.1)\n",
    "\n",
    "# \"Loss\" for GPs - the marginal log likelihood\n",
    "mll = gpytorch.mlls.ExactMarginalLogLikelihood(likelihood, model)\n",
    "\n",
    "n_iter = 300\n",
    "for i in range(n_iter):\n",
    "    optimizer.zero_grad()\n",
    "    output = model(train_x)\n",
    "    loss = -mll(output, train_y)\n",
    "    loss.backward()\n",
    "    print('Iter %d/%d - Loss: %.3f lengthscale: %.3f noise: %.3f' % (i + 1, n_iter, loss.item(), model.covar_module.data_covar_module.base_kernel.lengthscale, likelihood.noise))\n",
    "    \n",
    "    optimizer.step()"
   ]
  },
  {
   "cell_type": "markdown",
   "metadata": {},
   "source": [
    "Use the fitted model to predict the call and put values of the test set"
   ]
  },
  {
   "cell_type": "code",
   "execution_count": 13,
   "metadata": {},
   "outputs": [],
   "source": [
    "model.eval()\n",
    "likelihood.eval()\n",
    "with torch.no_grad(), gpytorch.settings.fast_pred_var():\n",
    "    y_hat = likelihood(model(test_x))\n",
    "lower, upper = y_hat.confidence_region()"
   ]
  },
  {
   "cell_type": "markdown",
   "metadata": {},
   "source": [
    "Print the fitted parameters"
   ]
  },
  {
   "cell_type": "code",
   "execution_count": 14,
   "metadata": {
    "scrolled": true
   },
   "outputs": [
    {
     "name": "stdout",
     "output_type": "stream",
     "text": [
      "tensor([[0.1999]], grad_fn=<SoftplusBackward0>)\n",
      "tensor([2.1257], grad_fn=<AddBackward0>)\n",
      "2.5\n",
      "[[31.174578  -2.0760832]\n",
      " [-2.0760832  4.204429 ]]\n"
     ]
    }
   ],
   "source": [
    "a = model.covar_module.task_covar_module.covar_factor.clone().detach()\n",
    "v = model.covar_module.task_covar_module.var.clone().detach()\n",
    "Omega = np.outer(a,a) + np.diag(v)\n",
    "lengthscale = model.covar_module.data_covar_module.base_kernel.lengthscale\n",
    "sigma_2_n = likelihood.noise\n",
    "nu = model.covar_module.data_covar_module.base_kernel.nu\n",
    "print(lengthscale, sigma_2_n, nu, Omega, sep='\\n')"
   ]
  },
  {
   "cell_type": "markdown",
   "metadata": {},
   "source": [
    "Plot the predictions of the model, with variance bands"
   ]
  },
  {
   "cell_type": "code",
   "execution_count": 15,
   "metadata": {
    "scrolled": false
   },
   "outputs": [
    {
     "data": {
      "image/png": "[encoded data removed]",
      "text/plain": [
       "<Figure size 1000x600 with 1 Axes>"
      ]
     },
     "metadata": {},
     "output_type": "display_data"
    },
    {
     "data": {
      "image/png": "[encoded data removed]",
      "text/plain": [
       "<Figure size 1000x600 with 1 Axes>"
      ]
     },
     "metadata": {},
     "output_type": "display_data"
    },
    {
     "data": {
      "image/png": "[encoded data removed]",
      "text/plain": [
       "<Figure size 1000x600 with 1 Axes>"
      ]
     },
     "metadata": {},
     "output_type": "display_data"
    }
   ],
   "source": [
    "plt.figure(figsize = (10, 6), facecolor='white', edgecolor='black')\n",
    "plt.plot(lb+(ub-lb)*np.array(test_x.flatten()), np.array(y_hat.mean[:,0]), color = 'red', label = 'GP Prediction')\n",
    "plt.plot(lb+(ub-lb)*np.array(test_x.flatten()), np.array(test_y[:,0]), color = 'black', label = 'Analytical Model')\n",
    "plt.scatter(lb+(ub-lb)*train_x, train_y[:,0], color = 'black', marker = '+', s = 100) \n",
    "plt.fill_between(lb+(ub-lb)*np.array(test_x.flatten()), lower[:,0].detach().numpy(), upper[:,0].detach().numpy(), color = 'grey', alpha=0.3)\n",
    "plt.legend(loc = 'best', prop={'size':10})\n",
    "plt.xlim([KC/2.0,2*KC])\n",
    "plt.xlabel('S')\n",
    "plt.ylabel('V')\n",
    "\n",
    "\n",
    "plt.figure(figsize = (10, 6), facecolor='white', edgecolor='black')\n",
    "plt.plot(lb+(ub-lb)*np.array(test_x.flatten()), np.array(y_hat.mean[:,1]), color = 'red', label = 'GP Prediction')\n",
    "plt.plot(lb+(ub-lb)*np.array(test_x.flatten()), np.array(test_y[:,1]), color = 'black', label = 'Analytical Model')\n",
    "plt.scatter(lb+(ub-lb)*train_x, train_y[:,1], color = 'black', marker = '+', s = 100) \n",
    "plt.fill_between(lb+(ub-lb)*np.array(test_x.flatten()), lower[:,1].detach().numpy(), upper[:,1].detach().numpy(), color = 'grey', alpha=0.3)\n",
    "plt.legend(loc = 'best', prop={'size':10})\n",
    "plt.xlim([KP/2.0,2*KP])\n",
    "plt.xlabel('S')\n",
    "plt.ylabel('V')\n",
    "\n",
    "\n",
    "plt.figure(figsize = (10, 6), facecolor='white', edgecolor='black')\n",
    "plt.plot(lb+(ub-lb)*np.array(test_x.flatten()), 2.0*np.array(y_hat.mean[:,0])- np.array(y_hat.mean[:,1]), color = 'red', label = 'GP Prediction')\n",
    "plt.plot(lb+(ub-lb)*np.array(test_x.flatten()), 2.0*np.array(test_y[:,0])-np.array(test_y[:,1]) , color = 'black', label = 'Analytical Model')\n",
    "plt.scatter(lb+(ub-lb)*train_x, 2*train_y[:,0]-train_y[:,1], color = 'black', marker = '+', s = 100) \n",
    "\n",
    "plt.fill_between(lb+(ub-lb)*np.array(test_x.flatten()), 2.0*lower[:,0].detach().numpy()-upper[:,1].detach().numpy() , 2.0*upper[:,0].detach().numpy()-lower[:,1].detach().numpy(), color = 'grey', alpha=0.3)\n",
    "plt.legend(loc = 'best', prop={'size':10})\n",
    "plt.xlim([KP/2.0,2*KC])\n",
    "plt.xlabel('S')\n",
    "plt.ylabel('$\\pi$');"
   ]
  },
  {
   "cell_type": "markdown",
   "metadata": {},
   "source": [
    "## Evaluate the covariance of the posterior"
   ]
  },
  {
   "cell_type": "code",
   "execution_count": 15,
   "metadata": {},
   "outputs": [],
   "source": [
    "var_1 = np.diag(np.array(y_hat.covariance_matrix.detach().numpy()),0)[0:199:2]\n",
    "var_2 = np.diag(np.array(y_hat.covariance_matrix.detach().numpy()),0)[1:199:2]\n",
    "covar_12 = np.diag(np.array(y_hat.covariance_matrix.detach().numpy()),1)[0:199:2]"
   ]
  },
  {
   "cell_type": "code",
   "execution_count": 16,
   "metadata": {},
   "outputs": [
    {
     "name": "stderr",
     "output_type": "stream",
     "text": [
      "/Users/dez/opt/anaconda3/envs/malifice/lib/python3.6/site-packages/scipy/stats/_continuous_distns.py:547: RuntimeWarning: invalid value encountered in sqrt\n",
      "  sk = 2*(b-a)*np.sqrt(a + b + 1) / (a + b + 2) / np.sqrt(a*b)\n",
      "/Users/dez/opt/anaconda3/envs/malifice/lib/python3.6/site-packages/scipy/optimize/minpack.py:162: RuntimeWarning: The iteration is not making good progress, as measured by the \n",
      "  improvement from the last ten iterations.\n",
      "  warnings.warn(msg, RuntimeWarning)\n"
     ]
    },
    {
     "data": {
      "image/png": "[encoded data removed]",
      "text/plain": [
       "<Figure size 432x288 with 1 Axes>"
      ]
     },
     "metadata": {
      "needs_background": "light"
     },
     "output_type": "display_data"
    }
   ],
   "source": [
    "lnspc = np.linspace(-5.0, 30, 100)\n",
    "\n",
    "ab,bb,cb,db = stats.beta.fit(var_1)  \n",
    "pdf_beta = stats.beta.pdf(lnspc, ab, bb, cb, db)  \n",
    "plt.plot(lnspc, pdf_beta, label='var($f_{*1}$ $\\|$ $X,Y,X_*$)', color='r')\n",
    "\n",
    "ab,bb,cb,db = stats.beta.fit(var_2)  \n",
    "pdf_beta = stats.beta.pdf(lnspc, ab, bb, cb, db)  \n",
    "plt.plot(lnspc, pdf_beta, label='var($f_{*2}$ $\\|$ $X,Y,X_*$)', color='k')\n",
    "\n",
    "ab,bb,cb,db = stats.beta.fit(covar_12)  \n",
    "pdf_beta = stats.beta.pdf(lnspc, ab, bb, cb, db)  \n",
    "plt.plot(lnspc, pdf_beta, label='covar($f_{*1}f_{*2}$ $\\|$ $X,Y,X_*$)', color=\"grey\", linestyle='--')\n",
    "\n",
    "plt.xlabel('uncertainty')\n",
    "plt.ylabel('density')\n",
    "plt.legend()\n",
    "plt.show()"
   ]
  }
 ],
 "metadata": {
  "kernelspec": {
   "display_name": "Python 3",
   "language": "python",
   "name": "python3"
  },
  "language_info": {
   "codemirror_mode": {
    "name": "ipython",
    "version": 3
   },
   "file_extension": ".py",
   "mimetype": "text/x-python",
   "name": "python",
   "nbconvert_exporter": "python",
   "pygments_lexer": "ipython3",
   "version": "3.11.5"
  }
 },
 "nbformat": 4,
 "nbformat_minor": 2
}
